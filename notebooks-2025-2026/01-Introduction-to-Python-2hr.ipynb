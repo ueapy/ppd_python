{
 "cells": [
  {
   "cell_type": "markdown",
   "metadata": {},
   "source": [
    "This notebook was developed by Alice Hsu for UEA Python PPDs 2025. Last updated: 10/2025."
   ]
  },
  {
   "cell_type": "markdown",
   "metadata": {},
   "source": [
    "# Prerequisites\n",
    "**This course assumes previous programming experience.** You should be fairly comfortable with the following concepts in another programming language (e.g., R, MATLAB).\n",
    "* Data Types\n",
    "* Data Structures (e.g., lists, arrays)\n",
    "* Indexing (slicing and accessing data)\n",
    "* If Statements\n",
    "* For Loops\n",
    "\n",
    "If you are new to programming, you should take the **Introduction to Programming** course instead of this one."
   ]
  },
  {
   "cell_type": "markdown",
   "metadata": {},
   "source": [
    "# Table of Contents\n",
    "1. **Variables**\n",
    "2. **Data Types**\n",
    "    <ol type=\"a\">\n",
    "  <li><b>Integers and Floats</li>\n",
    "  <li><b>Strings</b></li>\n",
    "    </ol>\n",
    "3. **Data Structures**\n",
    "    <ol type=\"a\">\n",
    "  <li><b>Lists</b></li>\n",
    "    <ol type=\"a\">\n",
    "        <li>Creating a list</li>\n",
    "        <li>Accessing items in a list</li>\n",
    "        <ol type=\"a\">\n",
    "            <li>Indexing and Slicing</li>\n",
    "            </ol>\n",
    "        <li>Changing items in a list</li>\n",
    "        <li>List Methods</li>\n",
    "    </ol>\n",
    "  <li>Tuples</li>\n",
    "   <li>Dictionaries</li>\n",
    "    </ol>\n",
    "4. **Control Flow**\n",
    "<ol type=\"a\">\n",
    "  <li>Booleans</li>\n",
    "  <li><b>Conditional (if-elif-else) statements</b></li>\n",
    "   <li><b>Loops</b></li>\n",
    "        <ol type=\"a\">\n",
    "            <li>For loops</li>\n",
    "            <li>While loops</li>\n",
    "            </ol>\n",
    "    </ol>\n",
    "5. **Coding Challenges**\n",
    "5. **Functions**"
   ]
  },
  {
   "cell_type": "markdown",
   "metadata": {},
   "source": [
    "# 0. <u>Anaconda, Jupyter, Python...what?</u>"
   ]
  },
  {
   "cell_type": "markdown",
   "metadata": {},
   "source": [
    "**Python** is the **programming language** we are going to write code in.\n",
    "\n",
    "**Jupyter Notebooks** are a platform for writing and testing code. This file that you have open, with the .ipynb extension, is called a Jupyter notebook. We are using Jupyter through a package manager called Anaconda.\n",
    "\n",
    "**Anaconda** is a **package manager**: when you code in Python, you may **download different packages** to do different kinds of analysis. For example, if you do a lot of geospatial analysis, there are specific packages used for analyzing and plotting this kind of data.\n",
    "\n",
    "* Sometimes when you use many different packages, _they can conflict_. Anaconda allows you to set up different **environments** to use different packages to prevent this.\n",
    "    * You can think of an **<u>environment</u>** as a **specialized toolbox** - it contains all the tools you need to work on your data.\n",
    "    * If you kept all of your tools (i.e., packages) in the same place, they might damage each other or get lost (i.e., create package conflicts). Anaconda helps put those tools (packages) in the right spot to prevent these from happening. You can also prevent your tools from getting damaged by putting them in different toolboxes (i.e., different environments).\n",
    "    * Remember that .yml file we had you download and drag into Anaconda? We used that .yml file to create an environment with all the packages we need for the Python PPDs here at UEA.\n",
    "\n",
    "**When you download Anaconda, Jupyter generally comes pre-installed**. This means you can simply download Anaconda and use Jupyter right away to write Python code.\n",
    "\n",
    "Anaconda and Jupyter are two very common platforms used for coding in Python, R, and other languages. Many supercomputers have Anaconda and Jupyter integrated into them (including ADA and HALI here at UEA)."
   ]
  },
  {
   "cell_type": "markdown",
   "metadata": {},
   "source": [
    "# 1. <u>Variables</u>"
   ]
  },
  {
   "cell_type": "markdown",
   "metadata": {},
   "source": [
    "In Python, variables are assigned with a **single equal sign**:"
   ]
  },
  {
   "cell_type": "code",
   "execution_count": null,
   "metadata": {},
   "outputs": [],
   "source": [
    "myvar1 = 5"
   ]
  },
  {
   "cell_type": "markdown",
   "metadata": {},
   "source": [
    "### Variable naming rules:\n",
    "* Variables are **case-sensitive**.\n",
    "    * ```myvar``` is not the same as ```myVar```\n",
    "* Your variable name **cannot start with a number**.\n",
    "    * E.g., 2nd_number = 10\n",
    "* Your variable name can only include **letters**, **numbers**, and **underscores**.\n",
    "* Your variable name **should not be the same thing as a built-in Python function**.\n",
    "    * While this is not technically forbidden, you may overwrite important functions which you will then be unable to use later.\n",
    "    * E.g., ```list```, ```int```, ```str``` ... and also:\n",
    "    * ``and, as, assert, break, class, continue, def, del, elif, else, except, exec, finally, for, from, global, if, import, in, is, lambda, not, or, pass, print, raise, return, try, with, while, yield``...the list goes on."
   ]
  },
  {
   "cell_type": "markdown",
   "metadata": {},
   "source": [
    "### <span style=\"color:orange\">EX1\n",
    "In the cell below, do the following:\n",
    "* Create a variable named after your initials.\n",
    "* Assign it a value equivalent to your birth year."
   ]
  },
  {
   "cell_type": "code",
   "execution_count": null,
   "metadata": {},
   "outputs": [],
   "source": [
    "# Your code here\n"
   ]
  },
  {
   "cell_type": "markdown",
   "metadata": {},
   "source": [
    "----------"
   ]
  },
  {
   "cell_type": "markdown",
   "metadata": {},
   "source": [
    "### *A quick aside about displaying variables*"
   ]
  },
  {
   "cell_type": "markdown",
   "metadata": {},
   "source": [
    "You will notice that by default, Python will not print a result to the screen unless you ask it to with the ``print()`` command, or putting the variable by itself in a cell:"
   ]
  },
  {
   "cell_type": "code",
   "execution_count": 1,
   "metadata": {},
   "outputs": [],
   "source": [
    "# Print function\n",
    "print(z)"
   ]
  },
  {
   "cell_type": "markdown",
   "metadata": {},
   "source": [
    "Printing your variable(s) (via the ``print()`` function or using the variable name) is useful for **checking the value of variables**. It is also useful for if you forget whether you have used a variable name **(\"Have I used `myvar` as a variable name yet?\")** or if you forgot what value you assigned to a certain variable **(\"What did I set ``a`` equal to again?\")**."
   ]
  },
  {
   "cell_type": "markdown",
   "metadata": {},
   "source": [
    "You must be careful you **do not accidentally overwrite variables** (if you aren't doing so on purpose) - if you set the same variable name equal to different values, it will take on the last value."
   ]
  },
  {
   "cell_type": "code",
   "execution_count": 2,
   "metadata": {},
   "outputs": [],
   "source": [
    "x = \"hello world\"\n",
    "x = 4\n",
    "x = 3.73"
   ]
  },
  {
   "cell_type": "markdown",
   "metadata": {},
   "source": [
    "What will the following cell output?"
   ]
  },
  {
   "cell_type": "code",
   "execution_count": null,
   "metadata": {},
   "outputs": [],
   "source": [
    "print(x)"
   ]
  },
  {
   "cell_type": "markdown",
   "metadata": {},
   "source": [
    "-----"
   ]
  },
  {
   "cell_type": "markdown",
   "metadata": {},
   "source": [
    "# 2. <u> Data Types </u>\n",
    "\n",
    "In Python, every variable has a **type**. Different data types have different properties, and the type also determines what operations can be performed on that variable. Some common data types include:\n",
    "\n",
    "| Type        | Example        | Description                                                  |\n",
    "|-------------|----------------|--------------------------------------------------------------|\n",
    "| ``int``     | ``x = 1``      | integers (i.e., whole numbers)                               |\n",
    "| ``float``   | ``x = 1.0``    | floating-point numbers (i.e., real numbers)                  |\n",
    "| ``bool``    | ``x = True``   | Boolean: True/False values                                   |\n",
    "| ``str``     | ``x = 'abc'``  | String: characters or text                                   |\n",
    "| ``complex`` | ``x = 1 + 2j`` | Complex numbers (i.e., numbers with real and imaginary part) |"
   ]
  },
  {
   "cell_type": "markdown",
   "metadata": {},
   "source": [
    "You can use the built-in function **```type()```** to **check the data type of variables you have created**. This can be useful to check what sorts of operations can be performed on your variables. "
   ]
  },
  {
   "cell_type": "markdown",
   "metadata": {},
   "source": [
    "-------------"
   ]
  },
  {
   "cell_type": "markdown",
   "metadata": {},
   "source": [
    "## Integers and Floats"
   ]
  },
  {
   "cell_type": "markdown",
   "metadata": {},
   "source": [
    "Integers and floats represent numbers. You can do **basic mathematical operations** with them. Basic maths are supported in Python - no need to download any special packages to do:\n",
    "\n",
    "| Operator     | Name           | Description                                            |\n",
    "|--------------|----------------|--------------------------------------------------------|\n",
    "| ``a + b``    | Addition       | Sum of ``a`` and ``b``                                 |\n",
    "| ``a - b``    | Subtraction    | Difference of ``a`` and ``b``                          |\n",
    "| ``a * b``    | Multiplication | Product of ``a`` and ``b``                             |\n",
    "| ``a / b``    | True division  | Quotient of ``a`` and ``b``                            |\n",
    "| ``a // b``   | Floor division | Quotient of ``a`` and ``b``, removing fractional parts |\n",
    "| ``a % b``    | Modulus        | Integer remainder after division of ``a`` by ``b``     |\n",
    "| ``a ** b``   | Exponentiation | ``a`` raised to the power of ``b``                     |\n",
    "| ``-a``       | Negation       | The negative of ``a``                                  |"
   ]
  },
  {
   "cell_type": "markdown",
   "metadata": {},
   "source": [
    "### <span style=\"color:orange\">EX2\n",
    "\n",
    "Write the following code in the cell below.\n",
    "* Create a variable called **`pi`** that stores the value **3.1415**. \n",
    "* Create a variable called **`r`** that stores the value of **4**. \n",
    "* Create a variable called **`A_circ`** that is equal to the **product of `pi` and $r^{2}$**."
   ]
  },
  {
   "cell_type": "code",
   "execution_count": null,
   "metadata": {},
   "outputs": [],
   "source": [
    "# Your code here\n"
   ]
  },
  {
   "cell_type": "markdown",
   "metadata": {},
   "source": [
    "You can also change between different data types using their names as functions:"
   ]
  },
  {
   "cell_type": "code",
   "execution_count": 7,
   "metadata": {},
   "outputs": [],
   "source": [
    "a = 3.141\n",
    "a = int(a)\n",
    "\n",
    "b = 2\n",
    "b = float(b)\n",
    "\n",
    "c = 2024\n",
    "c = str(c)\n",
    "\n",
    "d = 0\n",
    "d = bool(d)"
   ]
  },
  {
   "cell_type": "code",
   "execution_count": 3,
   "metadata": {},
   "outputs": [],
   "source": [
    "# Print the variables above here:\n",
    "\n"
   ]
  },
  {
   "cell_type": "markdown",
   "metadata": {},
   "source": [
    "### <span style=\"color:orange\">EX3\n",
    "\n",
    "Add together `a` and `b` from the cell above and use the `type()` function to check its data type."
   ]
  },
  {
   "cell_type": "code",
   "execution_count": 9,
   "metadata": {},
   "outputs": [],
   "source": [
    "# Your code here\n"
   ]
  },
  {
   "cell_type": "markdown",
   "metadata": {},
   "source": [
    "## Strings\n",
    "\n",
    "**Strings** in Python are created with **single** or **double quotes**. Generally, they are used to represent **text**.\n",
    "\n",
    "You can use just about any characters on your keyboard in a string. For example:\n",
    "```\n",
    "name = 'alice v\n",
    "bday = '213'\n",
    "pwd = “plsd0n’th@ckm3!”```"
   ]
  },
  {
   "cell_type": "markdown",
   "metadata": {},
   "source": [
    "Python has many extremely useful functions and methods you can use on strings. **A full list of string methods** can be found at this **[link](https://www.w3schools.com/python/python_ref_string.asp)**.\n",
    "\n",
    "| Method       | Syntax           | Description                                  |\n",
    "|--------------|------------------|----------------------------------------------|\n",
    "| ``upper()``  | ``myStr.upper()``    | Capitalizes all characters in ``myStr``         |\n",
    "| ``lower()``  | ``myStr.lower()``    | Lower cases all characters in ``myStr``         |\n",
    "| ``replace()``| ``myStr.replace(old,new)`` | In ``myStr``, replaces the <br>characters specified in ``old`` by the<br>characters specified in ``new``           |\n",
    "| ``split()``  | ``myStr.split(dtr)``  | Splits the characters of ``myStr``<br>by the delimiter specified by ``dtr``|"
   ]
  },
  {
   "cell_type": "markdown",
   "metadata": {},
   "source": [
    "We will demonstrate examples of the above methods using the strings in the cell below."
   ]
  },
  {
   "cell_type": "code",
   "execution_count": 1,
   "metadata": {},
   "outputs": [],
   "source": [
    "phrase = 'Welcome to python class.'\n",
    "ans = \"I mean, I just thought there'd be more snakes :(\""
   ]
  },
  {
   "cell_type": "markdown",
   "metadata": {},
   "source": [
    "Before running the lines of code below, see if you can guess what the output will be!"
   ]
  },
  {
   "cell_type": "code",
   "execution_count": 23,
   "metadata": {},
   "outputs": [],
   "source": [
    "phrase.upper()"
   ]
  },
  {
   "cell_type": "code",
   "execution_count": 24,
   "metadata": {},
   "outputs": [],
   "source": [
    "phrase.lower()"
   ]
  },
  {
   "cell_type": "code",
   "execution_count": 25,
   "metadata": {},
   "outputs": [],
   "source": [
    "phrase.replace('python','r')"
   ]
  },
  {
   "cell_type": "code",
   "execution_count": 26,
   "metadata": {},
   "outputs": [],
   "source": [
    "phrase.split(' ')"
   ]
  },
  {
   "cell_type": "code",
   "execution_count": 27,
   "metadata": {},
   "outputs": [],
   "source": [
    "phrase+ans"
   ]
  },
  {
   "cell_type": "markdown",
   "metadata": {},
   "source": [
    "### _A quick aside on methods..._\n",
    "You might have noticed that the syntax for modifying the variable `phrase` above looks a little different than in MATLAB. If you are coming from MATLAB, you might have more intuitively written:\n",
    "\n",
    "`phrase = phrase.upper()`\n",
    "\n",
    "However, this is not necessary in Python because **methods** (e.g., `.upper()`, `.replace()`, etc) **modify the object** (i.e., `phrase`) **in place**.\n",
    "\n",
    "This is a special feature of methods, which are functions that are specific to a specific type of data object: for example, in the table above, all of those methods are specific to the string datatype. This means that you can't call these methods on, say a number or a list (covered down below)."
   ]
  },
  {
   "cell_type": "code",
   "execution_count": null,
   "metadata": {},
   "outputs": [],
   "source": []
  },
  {
   "cell_type": "markdown",
   "metadata": {},
   "source": [
    "### <span style=\"color:orange\">EX3\n",
    "\n",
    "Using the variables ```name = 'alice v'``` and ```last = 'hsu'```, we want to create a new variable called ```fullname``` that is equal to ```'Alice V Hsu'```.\n",
    "1. First, **concatenate** the first and last names - but don’t forget to **add a space** between the first and last names (i.e., after the ```v``` in ```alice v```).\n",
    "2. Click this link to the [online table of string methods](https://www.w3schools.com/python/python_ref_string.asp).\n",
    "3. Using the table, scroll through and **find the string method** that is used to **capitalize every word in a string**.\n",
    "4. Read the documentation on this method and then use it to capitalize your string.\n"
   ]
  },
  {
   "cell_type": "code",
   "execution_count": 11,
   "metadata": {},
   "outputs": [],
   "source": [
    "name = 'alice v'\n",
    "last = 'hsu'\n",
    "\n",
    "# Your code here\n"
   ]
  },
  {
   "cell_type": "markdown",
   "metadata": {},
   "source": [
    "Remember that different data types may not be compatible with each other. You can only perform **certain operations** on **certain data types**."
   ]
  },
  {
   "cell_type": "markdown",
   "metadata": {},
   "source": [
    "### <span style=\"color:orange\">EX4\n",
    "Why doesn't the following line of code work? Put the following code into a cell in your Jupyter notebook and see what happens when you try to run it.\n",
    "\n",
    "```mycalc = '4' + 3```\n"
   ]
  },
  {
   "cell_type": "code",
   "execution_count": null,
   "metadata": {},
   "outputs": [],
   "source": [
    "# Your code here\n"
   ]
  },
  {
   "cell_type": "markdown",
   "metadata": {},
   "source": [
    "How would you modify the above line of code so that it works?"
   ]
  },
  {
   "cell_type": "code",
   "execution_count": null,
   "metadata": {},
   "outputs": [],
   "source": [
    "# Your code here\n"
   ]
  },
  {
   "cell_type": "markdown",
   "metadata": {},
   "source": [
    "### <span style=\"color:orange\"> EX5\n",
    "\n",
    "A. Create a variable called ``filename`` that is a string that includes the model, model number, country, date, and file type. Separate the model, model number, country, and date with a dash ```'-'```."
   ]
  },
  {
   "cell_type": "code",
   "execution_count": 2,
   "metadata": {},
   "outputs": [],
   "source": [
    "model = 'MetMod'\n",
    "model_no = 3\n",
    "country = \"USA\"\n",
    "date = 19970213\n",
    "filetype = '.csv'\n",
    "\n",
    "# Your code here\n"
   ]
  },
  {
   "cell_type": "markdown",
   "metadata": {},
   "source": [
    "B. Now say we wanted to split apart ```filename```. Choose the appropriate method from the table above and then write the code in the cell below."
   ]
  },
  {
   "cell_type": "code",
   "execution_count": null,
   "metadata": {},
   "outputs": [],
   "source": [
    "# Your code here\n"
   ]
  },
  {
   "cell_type": "markdown",
   "metadata": {},
   "source": [
    "-----------"
   ]
  },
  {
   "cell_type": "markdown",
   "metadata": {},
   "source": [
    "## Challenge Warm Up: Temperature Converter\n",
    "**<u>Concepts covered</u>**\n",
    "* Basic maths\n",
    "* Strings and string methods\n",
    "* Data type conversion\n",
    "\n",
    "**<u> Instructions </u>**\n",
    "\n",
    "In this exercise, you will write some code that converts a temperature from Celsius to Fahrenheit and outputs it nicely as a string.\n",
    "\n",
    "The formula for converting from Celsius to Fahrenheit is:\n",
    "\n",
    "<center> $F = \\frac{9}{5}*C + 32$ </center>\n",
    "\n",
    "where F is the temperature in Fahrenheit and C is the temperature in Celsius.\n",
    "\n",
    "**<u>Pseudocode</u>**\n",
    "* **Create a variable called `C`** that represents the temperature that you'd like to convert to Fahrenheit.\n",
    "* Using the formula provided above, **create a variable called `F`** that is equal to the temperature specified by `C` converted into Fahrenheit.\n",
    "    * Note that `F` should change automatically if you change what you set `C` equal to.\n",
    "* **Create two strings** that tell you what the temperature is in Celsius and Fahrenheit. For example:\n",
    "    * Create one string that is equal to `'Temperature in Celsius: 0 degrees'`, where the `0` is whatever you set `C` equal to.\n",
    "    * Create one string that is equal to `'Temperature in Fahrenheit: 32 degrees'`, where the `32` is calculated based on what you set `C` equal to."
   ]
  },
  {
   "cell_type": "code",
   "execution_count": null,
   "metadata": {},
   "outputs": [],
   "source": [
    "# Your code here\n"
   ]
  },
  {
   "cell_type": "markdown",
   "metadata": {},
   "source": [
    "--------"
   ]
  },
  {
   "cell_type": "markdown",
   "metadata": {},
   "source": [
    "# 3. <u>Data Structures"
   ]
  },
  {
   "cell_type": "markdown",
   "metadata": {},
   "source": [
    "| Type Name | Example                   |Description                            |\n",
    "|-----------|---------------------------|---------------------------------------|\n",
    "| ``list``  | ``[1, 2, 3]``             | Ordered collection                    |\n",
    "| ``tuple`` | ``(1, 2, 3)``             | Immutable ordered collection          |\n",
    "| ``dict``  | ``{'a':1, 'b':2, 'c':3}`` | Ordered (key,value) mapping         |\n",
    "| ``set``   | ``{1, 2, 3}``             | Unordered collection of unique values |\n",
    "\n",
    "**NOTE**: round ( ), square [ ], and curly { } brackets have distinct meanings - you can't use them interchangeably."
   ]
  },
  {
   "cell_type": "markdown",
   "metadata": {
    "slideshow": {
     "slide_type": "slide"
    }
   },
   "source": [
    "## Lists\n",
    "Lists are the basic *ordered* and *mutable* data collection type in Python.\n",
    "\n",
    "**Ordered**: the elements in the list have an order.\n",
    "\n",
    "**Mutable**: the order or value of the elements within a list can be changed."
   ]
  },
  {
   "cell_type": "markdown",
   "metadata": {},
   "source": [
    "### <u> Creating a List"
   ]
  },
  {
   "cell_type": "code",
   "execution_count": 30,
   "metadata": {},
   "outputs": [],
   "source": [
    "my_list = ['apple','banana','cherry','durian']"
   ]
  },
  {
   "cell_type": "markdown",
   "metadata": {},
   "source": [
    "### <u> Accessing items in a lists"
   ]
  },
  {
   "cell_type": "markdown",
   "metadata": {},
   "source": [
    "### Indexing\n",
    "You can access a single item in a list using its **index**. An index represents the **position of an item** in a collection. Note that in Python, **indexing starts at 0**. This means that the first item in a list would have the index of 0."
   ]
  },
  {
   "cell_type": "markdown",
   "metadata": {},
   "source": [
    "To access an item in a list, take the name of your list followed by the index in square brackets. For example, to access the first item in `my_list` from above, you would write:"
   ]
  },
  {
   "cell_type": "code",
   "execution_count": null,
   "metadata": {},
   "outputs": [],
   "source": [
    "my_list[0]"
   ]
  },
  {
   "cell_type": "markdown",
   "metadata": {},
   "source": [
    "You can also access items in a list using a **negative index**. A negative index represents **the position of an item, but starting from the back**. This means the last item has an index of -1, second to last -2, etc.\n",
    "\n",
    "**Note this is different from R.**\n",
    "(R users: Unfortunately, there is not simple built-in way to index \"everything except for\" a certain element).\n",
    "\n",
    "| Index |0|1|2|3|\n",
    "|-------|-------|----|-------|---------|\n",
    "|`my_list`|`'apple'`|`'banana'`|`'cherry'`|`'durian'`|\n",
    "|**Negative Index**|**-4**|**-3**|**-2**|**-1**|"
   ]
  },
  {
   "cell_type": "code",
   "execution_count": null,
   "metadata": {},
   "outputs": [],
   "source": [
    "my_list[-1]"
   ]
  },
  {
   "cell_type": "markdown",
   "metadata": {},
   "source": [
    "Note that you can also index the **characters within strings**. For example:"
   ]
  },
  {
   "cell_type": "code",
   "execution_count": null,
   "metadata": {},
   "outputs": [],
   "source": [
    "x = 'hello'\n",
    "x[-1]"
   ]
  },
  {
   "cell_type": "markdown",
   "metadata": {},
   "source": [
    "### <span style=\"color:orange\">EX6: Accessing items in a list\n",
    "    \n",
    "Say you have a list called `some_list`:"
   ]
  },
  {
   "cell_type": "code",
   "execution_count": 28,
   "metadata": {},
   "outputs": [],
   "source": [
    "some_list = [1, 1, '2', 'hello?', 583, 'llama', [2,4,6], 3.14159]"
   ]
  },
  {
   "cell_type": "markdown",
   "metadata": {},
   "source": [
    "Write code to access the 3rd item in `some_list`."
   ]
  },
  {
   "cell_type": "code",
   "execution_count": null,
   "metadata": {},
   "outputs": [],
   "source": []
  },
  {
   "cell_type": "markdown",
   "metadata": {},
   "source": [
    "Write code to access the last item in `some_list`."
   ]
  },
  {
   "cell_type": "code",
   "execution_count": null,
   "metadata": {},
   "outputs": [],
   "source": []
  },
  {
   "cell_type": "markdown",
   "metadata": {},
   "source": [
    "Write code to access the 6 in the 2nd to last item in `some_list`."
   ]
  },
  {
   "cell_type": "code",
   "execution_count": null,
   "metadata": {},
   "outputs": [],
   "source": []
  },
  {
   "cell_type": "markdown",
   "metadata": {},
   "source": [
    "### Slicing"
   ]
  },
  {
   "cell_type": "markdown",
   "metadata": {},
   "source": [
    "You can also **access multiple items**, or **slices**, of your list by using a colon (`:`) along with the index. The colon specifies the **range of the items** in your last that you want.\n",
    "\n",
    "To access a slice in a list, you specify the **starting and ending indices of the items you want, with a colon in between**. However, note that when you use the colon to specify a range, **this range is not inclusive of the number specified on the right side**.\n",
    "\n",
    "For example, see what the following cell outputs:"
   ]
  },
  {
   "cell_type": "code",
   "execution_count": null,
   "metadata": {},
   "outputs": [],
   "source": [
    "my_list = ['apple','banana','cherry','durian']\n",
    "\n",
    "my_list[1:3]"
   ]
  },
  {
   "cell_type": "markdown",
   "metadata": {},
   "source": [
    "You can also omit either the starting or ending index if you would like to access all items to or from the start or end of the list."
   ]
  },
  {
   "cell_type": "code",
   "execution_count": null,
   "metadata": {},
   "outputs": [],
   "source": [
    "my_list[2:]\n",
    "my_list[:2]"
   ]
  },
  {
   "cell_type": "markdown",
   "metadata": {},
   "source": [
    "Similarly, you can also **slice characters within strings**."
   ]
  },
  {
   "cell_type": "code",
   "execution_count": null,
   "metadata": {},
   "outputs": [],
   "source": [
    "x = 'hello'\n",
    "x[0:2]"
   ]
  },
  {
   "cell_type": "markdown",
   "metadata": {},
   "source": [
    "### <u> Changing items in a list"
   ]
  },
  {
   "cell_type": "markdown",
   "metadata": {},
   "source": [
    "To change an item in a list, you first need to **access the item in the list via its index**, and then **set it equal to what you would like to change it to**."
   ]
  },
  {
   "cell_type": "code",
   "execution_count": null,
   "metadata": {},
   "outputs": [],
   "source": [
    "my_list[0] = 1234"
   ]
  },
  {
   "cell_type": "markdown",
   "metadata": {},
   "source": [
    "### <span style=\"color:orange\"> EX 7: Changing elements in a list\n",
    "\n",
    "Complete the exercises below."
   ]
  },
  {
   "cell_type": "code",
   "execution_count": null,
   "metadata": {},
   "outputs": [],
   "source": [
    "some_list = [1, 1, '2', 'hello?',583, 'llama', [2,4,6], 3.14159]"
   ]
  },
  {
   "cell_type": "markdown",
   "metadata": {},
   "source": [
    "(A) Change the first element of `some_list` to a string representing your name."
   ]
  },
  {
   "cell_type": "code",
   "execution_count": null,
   "metadata": {},
   "outputs": [],
   "source": [
    "# Your code for A\n",
    "\n"
   ]
  },
  {
   "cell_type": "markdown",
   "metadata": {},
   "source": [
    "(B) Change the third element of `some_list` to the float 2."
   ]
  },
  {
   "cell_type": "code",
   "execution_count": null,
   "metadata": {},
   "outputs": [],
   "source": [
    "# Your code for B\n",
    "\n"
   ]
  },
  {
   "cell_type": "markdown",
   "metadata": {},
   "source": [
    "---"
   ]
  },
  {
   "cell_type": "markdown",
   "metadata": {},
   "source": [
    "### <u> List Methods"
   ]
  },
  {
   "cell_type": "markdown",
   "metadata": {
    "slideshow": {
     "slide_type": "skip"
    }
   },
   "source": [
    "Lists have a number of useful properties and methods available to them.\n",
    "\n",
    "| Method |Description                            |\n",
    "|----------|---------------------------------------|\n",
    "| ``my_list.append()``|**Add an item to the end of a list.**<br>You’ll need to specify the item you are appending to the list.|\n",
    "| ``my_list.insert()``|**Insert an item into a specific position in the list.**<br>You’ll need to specify the item you are inserting as well as<br>the position you’d like to insert it into.|\n",
    "| ``my_list.remove()``|**Remove an item from a list.**<br>You’ll need to specify the item you are removing.<br>If there are duplicates in your list, it will only remove the first occurrence of that item.|\n",
    "| ``my_list.pop()``  |**Remove an item from a list by index.**<br>This differs from remove() because you specify the **index** of the item<br>you are removing, instead of specifying the item itself.|\n",
    "| ``my_list.sort()``  |**Sort the list.**<br>If the items in your list are all numbers, it will sort it by ascending numbers.<br>If your items are all strings, it will alphabetize your list.<br>If your list contains a mix of strings and numbers, you may run into an error.<br>You can specify ways to sort. Read documentation for more info.|\n",
    "| ``my_list.reverse()``  |**Reverse the order of the items in your list.**<br>You don’t need to specify anything in this method.|"
   ]
  },
  {
   "cell_type": "markdown",
   "metadata": {},
   "source": [
    "Let's take a look at how the following methods can be used on the example `some_list` below."
   ]
  },
  {
   "cell_type": "code",
   "execution_count": null,
   "metadata": {},
   "outputs": [],
   "source": [
    "# Use as RESET cell if needed\n",
    "some_list = [1, 1, '2', 'hello?', 583, 'llama', [2,4,6], 3.14159]"
   ]
  },
  {
   "cell_type": "markdown",
   "metadata": {},
   "source": [
    "Using the `len()` function tells us how many items are in the list."
   ]
  },
  {
   "cell_type": "code",
   "execution_count": 33,
   "metadata": {
    "slideshow": {
     "slide_type": "fragment"
    }
   },
   "outputs": [],
   "source": [
    "# Length of a list\n",
    "len(some_list)"
   ]
  },
  {
   "cell_type": "markdown",
   "metadata": {},
   "source": [
    "#### A quick aside: what's the difference between a function and a method?"
   ]
  },
  {
   "cell_type": "markdown",
   "metadata": {},
   "source": [
    "A **method** is a function that is **specific to a certain object or data type**. For example, the methods in the table above are specific to lists. A function, meanwhile, is more general and can apply to more than one object or data type.\n",
    "\n",
    "You might have also noticed a syntax difference: **methods come _after_** the object, while **functions come _before_**:"
   ]
  },
  {
   "cell_type": "markdown",
   "metadata": {},
   "source": [
    "The function `len()` can be used on many types of objects or data types:"
   ]
  },
  {
   "cell_type": "code",
   "execution_count": 1,
   "metadata": {},
   "outputs": [
    {
     "data": {
      "text/plain": [
       "10"
      ]
     },
     "execution_count": 1,
     "metadata": {},
     "output_type": "execute_result"
    }
   ],
   "source": [
    "len('somestring')"
   ]
  },
  {
   "cell_type": "code",
   "execution_count": null,
   "metadata": {},
   "outputs": [],
   "source": [
    "len(some_list)"
   ]
  },
  {
   "cell_type": "markdown",
   "metadata": {},
   "source": [
    "However, a list method..."
   ]
  },
  {
   "cell_type": "code",
   "execution_count": null,
   "metadata": {},
   "outputs": [],
   "source": [
    "some_list.append(4)"
   ]
  },
  {
   "cell_type": "markdown",
   "metadata": {},
   "source": [
    "...won't work on a string."
   ]
  },
  {
   "cell_type": "code",
   "execution_count": 4,
   "metadata": {},
   "outputs": [],
   "source": [
    "my_str = 'somestring'\n",
    "my_str.append(4)"
   ]
  },
  {
   "cell_type": "markdown",
   "metadata": {},
   "source": [
    "### <span style=\"color:orange\"> EX8: List methods\n",
    "\n",
    "Check the answers to the exercise here."
   ]
  },
  {
   "cell_type": "code",
   "execution_count": 4,
   "metadata": {},
   "outputs": [],
   "source": [
    "some_list = [1, 1, '2', 'hello?', 583, 'llama', [2,4,6], 3.14159]"
   ]
  },
  {
   "cell_type": "markdown",
   "metadata": {},
   "source": [
    "(A) What code would you write if you wanted to add the number 314 after the item `'llama'` in `some_list`?"
   ]
  },
  {
   "cell_type": "code",
   "execution_count": null,
   "metadata": {},
   "outputs": [],
   "source": []
  },
  {
   "cell_type": "markdown",
   "metadata": {},
   "source": [
    "(B) How would `some_list` change if you ran the following line of code?"
   ]
  },
  {
   "cell_type": "code",
   "execution_count": null,
   "metadata": {},
   "outputs": [],
   "source": [
    "some_list.pop()"
   ]
  },
  {
   "cell_type": "markdown",
   "metadata": {},
   "source": [
    "(C) How would `some_list` change if you ran the following line of code?"
   ]
  },
  {
   "cell_type": "code",
   "execution_count": 6,
   "metadata": {},
   "outputs": [],
   "source": [
    "some_list.append()"
   ]
  },
  {
   "cell_type": "markdown",
   "metadata": {},
   "source": [
    "Note that each of these methods modify `some_list` **in place**. This means that will **keep all of the previous changes** you make to it. For example, if you run `some_list.append(11)` twice, `some_list` will have two 11s at the end.\n",
    "\n",
    "If you need reset some_list, simply run the cell above to redefine `some_list`.\n",
    "\n",
    "Predict what `some_list` will look like before executing the cell."
   ]
  },
  {
   "cell_type": "code",
   "execution_count": 29,
   "metadata": {},
   "outputs": [],
   "source": [
    "# Append a value to the end\n",
    "some_list.append(11)\n",
    "some_list"
   ]
  },
  {
   "cell_type": "code",
   "execution_count": 32,
   "metadata": {},
   "outputs": [],
   "source": [
    "# Insert the item 'information' into the position with index 3\n",
    "some_list.insert(3,'information')\n",
    "some_list"
   ]
  },
  {
   "cell_type": "code",
   "execution_count": null,
   "metadata": {},
   "outputs": [],
   "source": [
    "# Remove the item 1 from the list\n",
    "some_list.remove(1)\n",
    "some_list"
   ]
  },
  {
   "cell_type": "code",
   "execution_count": null,
   "metadata": {},
   "outputs": [],
   "source": [
    "# Remove an item in position 0 in the list\n",
    "some_list.pop(0)\n",
    "some_list"
   ]
  },
  {
   "cell_type": "code",
   "execution_count": null,
   "metadata": {},
   "outputs": [],
   "source": [
    "# Sort the list\n",
    "some_list.sort()\n",
    "some_list"
   ]
  },
  {
   "cell_type": "code",
   "execution_count": null,
   "metadata": {},
   "outputs": [],
   "source": [
    "# Reverse the order of the list\n",
    "some_list.reverse()\n",
    "some_list"
   ]
  },
  {
   "cell_type": "markdown",
   "metadata": {},
   "source": [
    "### <span style=\"color:orange\">EX6\n",
    "Say we have a list containing the names of several CSV files:"
   ]
  },
  {
   "cell_type": "code",
   "execution_count": 47,
   "metadata": {},
   "outputs": [],
   "source": [
    "filenames = ['Mod-3-USA-19970101.csv','Mod-3-AUS-19970102.csv',\n",
    "             'Mod-3-BRA-19970103.csv','Mod-3-CAN-19970204.csv',\n",
    "             'Mod-3-ENG-19970105.csv']"
   ]
  },
  {
   "cell_type": "markdown",
   "metadata": {},
   "source": [
    "**(A)** You notice that the fourth file, `Mod-3-USA-19970204.csv`, has the wrong month in the date - it should be `19970104` instead of `19970204`. How would you correct this file name in `filenames`?"
   ]
  },
  {
   "cell_type": "code",
   "execution_count": 34,
   "metadata": {},
   "outputs": [],
   "source": [
    "# Your code here\n"
   ]
  },
  {
   "cell_type": "markdown",
   "metadata": {},
   "source": [
    "**(B)** You want to extract the **day** within the date of the **last file** in `filenames`. That is, you want to extract the substring `'05'` from the `'19970105'` within `'Mod-3-ENG-19970105.csv'`.\n",
    "\n",
    "What code could you write to do that?\n",
    "\n",
    "**Tip - do this in two steps:**\n",
    "\n",
    "   1) Extract the file name from `filenames`.\n",
    "   \n",
    "   2) Extract the day from the file name."
   ]
  },
  {
   "cell_type": "code",
   "execution_count": null,
   "metadata": {},
   "outputs": [],
   "source": [
    "# Your code here\n"
   ]
  },
  {
   "cell_type": "markdown",
   "metadata": {},
   "source": [
    "---"
   ]
  },
  {
   "cell_type": "markdown",
   "metadata": {},
   "source": [
    "## Tuples\n",
    "A tuple is a data structure in Python where values are **ordered** but **unchangeable (“immutable”)**. Like a list, the **items are accessed through an index**. However, you **cannot add, delete, or change items** in a tuple after it is created.\n",
    "\n",
    "Tuples are useful if you want to store pieces of information with a specific order that you don’t want to accidentally change - for example, an RGB code or a phone number."
   ]
  },
  {
   "cell_type": "code",
   "execution_count": null,
   "metadata": {},
   "outputs": [],
   "source": [
    "blue = (0,0,1)"
   ]
  },
  {
   "cell_type": "code",
   "execution_count": null,
   "metadata": {},
   "outputs": [],
   "source": [
    "blue[0]"
   ]
  },
  {
   "cell_type": "markdown",
   "metadata": {},
   "source": [
    "Tuples are *immutable* so they cannot be changed once created."
   ]
  },
  {
   "cell_type": "code",
   "execution_count": null,
   "metadata": {},
   "outputs": [],
   "source": [
    "blue[0] = 100"
   ]
  },
  {
   "cell_type": "markdown",
   "metadata": {},
   "source": [
    "This may seem like a limitation but is in fact very useful if you don't want to accidently change something, like a list of constants. Tuples  are faster than lists and can be used in dictionaries."
   ]
  },
  {
   "cell_type": "markdown",
   "metadata": {},
   "source": [
    "---"
   ]
  },
  {
   "cell_type": "markdown",
   "metadata": {},
   "source": [
    "## Dictionaries\n",
    "A **dictionary** is a data structure in Python where **values are accessed by keys** instead of indices. Each item in a dictionary is a **key:value** pair.\n",
    "\n",
    "Dictionaries are useful if you want to store pieces of information that are unique to that key - for example, a person (key) and their phone number (value), a country (key) and an abbreviation you’d like to assign to it (value), a color (key) and its RGB code (value)."
   ]
  },
  {
   "cell_type": "code",
   "execution_count": 11,
   "metadata": {},
   "outputs": [],
   "source": [
    "colors = {'blue':(0,0,1), 'red':(1,0,0), 'green':(0,1,0)}\n",
    "# or\n",
    "colors = dict(blue = (0,0,1), red = (1,0,0), green = (0,1,0))"
   ]
  },
  {
   "cell_type": "markdown",
   "metadata": {},
   "source": [
    "Items are accessed using the key you set when you make the dictionary:"
   ]
  },
  {
   "cell_type": "code",
   "execution_count": null,
   "metadata": {},
   "outputs": [],
   "source": [
    "# Access a value via the key\n",
    "colors['blue']"
   ]
  },
  {
   "cell_type": "markdown",
   "metadata": {},
   "source": [
    "New items can be added to the dictionary using similar syntax."
   ]
  },
  {
   "cell_type": "code",
   "execution_count": null,
   "metadata": {},
   "outputs": [],
   "source": [
    "# Set a new key:value pair\n",
    "colors['purple'] = (1,1,0)\n",
    "print(colors)"
   ]
  },
  {
   "cell_type": "markdown",
   "metadata": {},
   "source": [
    "### <span style=\"color:orange\"> EX 7:\n",
    "Create a dictionary called `constants` that holds the values of the following scientific constants:\n",
    "\n",
    "|`pi`|`R`|`g`|\n",
    "|--|--|--|\n",
    "|`3.141`|`8.314`|`9.807`|"
   ]
  },
  {
   "cell_type": "code",
   "execution_count": 6,
   "metadata": {},
   "outputs": [],
   "source": [
    "# Your code here\n"
   ]
  },
  {
   "cell_type": "markdown",
   "metadata": {},
   "source": [
    "Add a key value pair for `phi`, which is equal to `1.618`."
   ]
  },
  {
   "cell_type": "code",
   "execution_count": null,
   "metadata": {},
   "outputs": [],
   "source": [
    "# Your code here\n"
   ]
  },
  {
   "cell_type": "markdown",
   "metadata": {},
   "source": [
    "---"
   ]
  },
  {
   "cell_type": "markdown",
   "metadata": {},
   "source": [
    "# 4. Control Flow\n",
    "* With control flow, you can execute certain code blocks conditionally and/or repeatedly.\n",
    "* Basic building blocks are:\n",
    "    - *conditional statements* (including \"``if``\", \"``elif``\", and \"``else``\")\n",
    "    - *loop statements* (including \"``for``\" and \"``while``\" and the accompanying \"``break``\", \"``continue``\", and \"``pass``\")."
   ]
  },
  {
   "cell_type": "markdown",
   "metadata": {},
   "source": [
    "## Booleans"
   ]
  },
  {
   "cell_type": "markdown",
   "metadata": {},
   "source": [
    "**Booleans**, or the ``bool`` data type, can take on only values of `True` or `False`. **Booleans are the basis for writing conditional conditional if statements**. (You can also use bools for indexing data, but we will not cover this until the data analysis section)."
   ]
  },
  {
   "cell_type": "markdown",
   "metadata": {},
   "source": [
    "Booleans are the results of **logical operators**. The following are common logical operators:\n",
    "\n",
    "|Less than|Greater than|Less than or equal to|Greater than or equal to|Equal to|Not equal to\n",
    "|:-:|:-:|:-:|:-:|:-:|:-:|\n",
    "| `<`|`>`|`<=`|`>=`|`==`|`!=`|"
   ]
  },
  {
   "cell_type": "markdown",
   "metadata": {},
   "source": [
    "Note that the **boolean equal to “==” is different from “=”**, which is used to assign values to variables (eg, x = 3)."
   ]
  },
  {
   "cell_type": "markdown",
   "metadata": {},
   "source": [
    "You can **combine boolean operators** to create more multi-conditional statements **using `and`/`or`**.\n",
    "\n",
    "|And|Or|\n",
    "|:-:|:-:|\n",
    "| `and` or `&`|`or` or `\\|`|\n",
    "\n",
    "Some examples of boolean statements in action:"
   ]
  },
  {
   "cell_type": "code",
   "execution_count": null,
   "metadata": {},
   "outputs": [],
   "source": [
    "test = 30 > 10\n",
    "print(test)"
   ]
  },
  {
   "cell_type": "code",
   "execution_count": null,
   "metadata": {},
   "outputs": [],
   "source": [
    "Test = True\n",
    "Test2 = False\n",
    "print(Test & Test2)"
   ]
  },
  {
   "cell_type": "code",
   "execution_count": null,
   "metadata": {},
   "outputs": [],
   "source": [
    "A = 3\n",
    "B = 1\n",
    "print((A>B) | (A<0))"
   ]
  },
  {
   "cell_type": "markdown",
   "metadata": {},
   "source": [
    "---"
   ]
  },
  {
   "cell_type": "markdown",
   "metadata": {},
   "source": [
    "## Conditional Statements: ``if``-``elif``-``else``:\n",
    "The **if statement** directs Python to **execute certain lines of code depending on whether a <u>certain condition is satisfied**. That condition is specified using a **boolean statement**.\n",
    "    \n",
    "The output of a boolean statement must always be `True` or `False` (i.e., a bool), or convertible to a bool (i.e., implicit booleaness; you can Google this term to learn more about it)."
   ]
  },
  {
   "cell_type": "code",
   "execution_count": 36,
   "metadata": {},
   "outputs": [],
   "source": [
    "x = 1\n",
    "if x>0:\n",
    "    print('x is positive')"
   ]
  },
  {
   "cell_type": "markdown",
   "metadata": {},
   "source": [
    "If the first condition is not true (i.e., the boolean statement returns False), then you may specify any number of **additional boolean statements** using **else ifs (`elif`)**. Lastly, you have the option to specify an **`else`**, which will execute **if neither the first if or any of the following `elif` boolean statements are true**."
   ]
  },
  {
   "cell_type": "code",
   "execution_count": 39,
   "metadata": {},
   "outputs": [],
   "source": [
    "x = 3\n",
    "if x > 0:\n",
    "    print('x is positive')\n",
    "elif x < 0:\n",
    "    print('x is negative')\n",
    "else:\n",
    "    print('x is zero')"
   ]
  },
  {
   "cell_type": "markdown",
   "metadata": {},
   "source": [
    "**Comparison with R or MATLAB**: There is no `end` or curly braces `{}` to define the scope of if statements - the scope of if-elif-else statements are solely defined by the indentation."
   ]
  },
  {
   "cell_type": "markdown",
   "metadata": {},
   "source": [
    "### <span style=\"color:orange\"> EX8: Practicing `if-elif-else` statements"
   ]
  },
  {
   "cell_type": "markdown",
   "metadata": {},
   "source": [
    "Complete the code below so that:\n",
    "* `status = 'Danger'` if `T` is above 40 or below 0\n",
    "* `status = 'Optimal'` if `T` is between 15 and 30\n",
    "* `status = 'Acceptable'` in all other cases."
   ]
  },
  {
   "cell_type": "code",
   "execution_count": null,
   "metadata": {},
   "outputs": [],
   "source": [
    "T = 20\n",
    "if # Your code here:\n",
    "    status = 'Danger'\n",
    "elif # Your code here:\n",
    "     status = 'Optimal'\n",
    "# Your code here:\n",
    "     status = 'Acceptable'\n",
    "\n",
    "print(instruction)"
   ]
  },
  {
   "cell_type": "markdown",
   "metadata": {},
   "source": [
    "---"
   ]
  },
  {
   "cell_type": "markdown",
   "metadata": {},
   "source": [
    "## ``for`` loops\n",
    "A **for loop** is used to execute some code for a **predetermined number of iterations**, normally determined by the size of your data set. The for loop is useful when you know how many iterations you need.\n",
    "\n",
    "A basic ``for`` loop generally has 3 components:\n",
    "\n",
    "1. The **indexing variable**, which takes on the value of every item in the iterable\n",
    "2. The **iterable**, the collection of *things* you are iterating through\n",
    "3. The **executable**, the code you are executing on each iteration."
   ]
  },
  {
   "cell_type": "code",
   "execution_count": null,
   "metadata": {},
   "outputs": [],
   "source": [
    "# A simple example of a for loop\n",
    "for j in [0,1,2,3]:\n",
    "    print(j+1)"
   ]
  },
  {
   "cell_type": "markdown",
   "metadata": {},
   "source": [
    "`for` loops in Python are very similar to R in that setting the iterable is very flexible. You can directly use lists, arrays, or other data structures.\n",
    "\n",
    "**Unlike MATLAB and R**, you can't use the \"a:b\" syntax, e.g., 1:5, to represent the numbers 1, 2, 3, 4, 5:\n",
    "\n",
    "`for j = 1:5:\n",
    "    print(j)`\n",
    "    \n",
    "The colon can only be used between numbers when you are using it to index something."
   ]
  },
  {
   "cell_type": "markdown",
   "metadata": {},
   "source": [
    "The built-in function `range()` is commonly used to create an iterable of sequential numbers from a starting point until stopping point in increments of a step you can specify:"
   ]
  },
  {
   "cell_type": "code",
   "execution_count": null,
   "metadata": {},
   "outputs": [],
   "source": [
    "range(0,5)"
   ]
  },
  {
   "cell_type": "code",
   "execution_count": 15,
   "metadata": {},
   "outputs": [],
   "source": [
    "list(range(0,5))"
   ]
  },
  {
   "cell_type": "markdown",
   "metadata": {},
   "source": [
    "An example of how to use `range()` in a for loop:"
   ]
  },
  {
   "cell_type": "code",
   "execution_count": 14,
   "metadata": {},
   "outputs": [],
   "source": [
    "for i in range(0,10):\n",
    "    print(i)"
   ]
  },
  {
   "cell_type": "markdown",
   "metadata": {},
   "source": [
    "### <span style=\"color:orange\">EX9\n",
    "    \n",
    "Read the code below and answer the following questions:\n",
    "    \n",
    "1. How many total iterations will there be?\n",
    "2. What is `j` on the 4th iteration?\n",
    "3. What is `y` on the 4th iteration?"
   ]
  },
  {
   "cell_type": "code",
   "execution_count": null,
   "metadata": {},
   "outputs": [],
   "source": [
    "x = [10,20,30,40,50]\n",
    "for j in range(len(x)):\n",
    "    y = x[j]/(j+1)"
   ]
  },
  {
   "cell_type": "code",
   "execution_count": null,
   "metadata": {},
   "outputs": [],
   "source": []
  },
  {
   "cell_type": "markdown",
   "metadata": {},
   "source": [
    "###  <span style=\"color:orange\">EX10: Calculating the BMI of patients</span>\n",
    "\n",
    "The equation for BMI is given by:\n",
    "    \n",
    "$BMI = \\frac{W}{H^{2}}$\n",
    "    \n",
    "Suppose you have the heights and weights of 6 patients stored in the lists H and W, such that each element in the same position of H and W corresponds to the same patient (e.g., patient one is 1.76 m and weighs 75 kg). \n",
    "\n",
    "Complete the code below to compute the BMI of each patient, printing the BMI on each iteration.\n",
    "\n",
    "This pseudocode should help you get started:\n",
    "* Choose an iterable to represent the index of each patient.\n",
    "* On each iteration, extract the height and weight of patient j (i.e., the jth element of both H and W).\n",
    "* Use the extracted height and weight of the patient to calculate that patient's BMI.\n",
    "* Print the calculated BMI."
   ]
  },
  {
   "cell_type": "code",
   "execution_count": null,
   "metadata": {},
   "outputs": [],
   "source": [
    "H = [176,162,181,153,170,168]\n",
    "W = [75,65,83,54,91,62]\n",
    "\n",
    "# Your code here\n",
    "for j in : # your code here\n",
    "    BMI = "
   ]
  },
  {
   "cell_type": "markdown",
   "metadata": {},
   "source": [
    "---"
   ]
  },
  {
   "cell_type": "markdown",
   "metadata": {},
   "source": [
    "## Common Implementations of For Loops"
   ]
  },
  {
   "cell_type": "markdown",
   "metadata": {},
   "source": [
    "Loops are incredibly useful for generating and processing datasets. Some bits of code that are frequently used in loops are **appending** and **counters**."
   ]
  },
  {
   "cell_type": "markdown",
   "metadata": {},
   "source": [
    "#### Appending\n",
    "In MATLAB, you generally preallocate an array when putting data into a data structure in a for loop. You generally do not need to do this in Python."
   ]
  },
  {
   "cell_type": "markdown",
   "metadata": {},
   "source": [
    "When adding data to a list, you can simply do it \"in place\" using the `.append()` method. Recall `.append()`, a `list` method that we can use to add an item to an end of a list.\n",
    "\n",
    "For example, if `my_list = [1,2,3,4]`, then `my_list.append('hello')` would turn `my_list` into `[1,2,3,4,'hello']`.\n",
    "\n",
    "The `.append()` method is very useful for when we want to perform an operation on every item in a list to create a new output. An example:"
   ]
  },
  {
   "cell_type": "code",
   "execution_count": 16,
   "metadata": {},
   "outputs": [],
   "source": [
    "# List of first names\n",
    "list1 = ['alice','tvetene','minerva','aparna','clara']\n",
    "# List of last names\n",
    "list2 = ['hsu','carlson','teli','anitha','kubler']\n",
    "\n",
    "# The new list we want to fill with full names\n",
    "new_list = []\n",
    "\n",
    "# Iterate as many times as there are names in the list\n",
    "for i in range(len(list1)):\n",
    "    \n",
    "    # Concatenate first and last names\n",
    "    full_name = list1[i]+list2[i]\n",
    "    \n",
    "    # Add the full_name to the new list\n",
    "    new_list.append(full_name)\n",
    "    \n",
    "print(new_list)"
   ]
  },
  {
   "cell_type": "markdown",
   "metadata": {},
   "source": [
    "#### Counters\n",
    "\n",
    "The idea behind the counter is that it **counts the number of iterations** you have done. Below is a simple implementation of a counter.\n",
    "\n",
    "Counters can be useful for a few purposes:\n",
    "* a counter can be used to index data within a data structure like a list\n",
    "* a counter can help to debug code\n",
    "\n",
    "Note that your **counter's variable name** needs to be **different from the indexing variable**.\n",
    "\n",
    "In the code below, `j` is the counter."
   ]
  },
  {
   "cell_type": "code",
   "execution_count": 17,
   "metadata": {},
   "outputs": [],
   "source": [
    "# Initialize the counter\n",
    "j = 0\n",
    "\n",
    "for i in range(0,1000,20):\n",
    "    \n",
    "    # Increment the counter\n",
    "    j = j+1"
   ]
  },
  {
   "cell_type": "markdown",
   "metadata": {},
   "source": [
    "Because counters **count the number of iterations** you have done, it is very useful for debugging code. This is because if your code runs into an error in your loop, the **counter will tell us which iteration it was on when the error occurred**.\n",
    "\n",
    "In this example, we will implement a counter to tell us which row has an error in it."
   ]
  },
  {
   "cell_type": "code",
   "execution_count": 66,
   "metadata": {},
   "outputs": [],
   "source": [
    "# Example of counter\n",
    "dataset = [[9,0,2],[1,2,3],[5,6,2],[2,6,2],[3,1,'error'],[2,1,1],[3,2,2],[2,1,2]]\n",
    "\n",
    "# Initialize the counter\n",
    "i = 0\n",
    "\n",
    "# For loop to interate through each row in dataset\n",
    "for row in dataset:\n",
    "    \n",
    "    # Calculate the mean of the row\n",
    "    row_mean = sum(row)/len(row)\n",
    "    \n",
    "    # Increment the counter\n",
    "    i+=1\n",
    "    "
   ]
  },
  {
   "cell_type": "markdown",
   "metadata": {},
   "source": [
    "---"
   ]
  },
  {
   "cell_type": "markdown",
   "metadata": {},
   "source": [
    "#### Do I always need to use a for loop to execute a computation on everything in a list? Isn't this super inefficient?"
   ]
  },
  {
   "cell_type": "markdown",
   "metadata": {},
   "source": [
    "On the one hand, lists are great because they can hold different kinds of data (unlike vectors in MATLAB). On the other hand, doing computations with them can be very inefficient.\n",
    "\n",
    "Generally, you will use a specific package like **NumPy** or **Pandas** packages to handle large datasets. These packages contain **data structures** that you can do **vectorized computations** in. We will cover these briefly below."
   ]
  },
  {
   "cell_type": "markdown",
   "metadata": {},
   "source": [
    "---"
   ]
  },
  {
   "cell_type": "markdown",
   "metadata": {},
   "source": [
    "# A Brief Intro of Data Analysis in Python...\n"
   ]
  },
  {
   "cell_type": "markdown",
   "metadata": {},
   "source": [
    "There are two primary packages that are used for doing data analysis in Python: **NumPy** and **Pandas**.\n",
    "\n",
    "There are many other packages that have been developed for specific kinds of data (e.g., to look at geospatial data, meteorological data, DNA sequences, etc), but most of these are **built off of NumPy and Pandas**.\n",
    "\n",
    "Here, we will do a **brief tour of what kinds of data can be processed and analyzed using these packages**. A deeper dive into these packages will be covered in the following PPD session, Data Analysis in Python."
   ]
  },
  {
   "cell_type": "markdown",
   "metadata": {},
   "source": [
    "To use specific packages in Python, we have to first download the package. Once downloaded, we then **import** them:\n",
    "* _Note: if you use Python through Anaconda, NumPy and Pandas come pre-installed!_"
   ]
  },
  {
   "cell_type": "code",
   "execution_count": 1,
   "metadata": {},
   "outputs": [],
   "source": [
    "import numpy as np\n",
    "import pandas as pd"
   ]
  },
  {
   "cell_type": "markdown",
   "metadata": {},
   "source": [
    "The `np` and `pd` you see above are called **aliases**. These aliases are used to call the functions or objects within the package:"
   ]
  },
  {
   "cell_type": "code",
   "execution_count": 5,
   "metadata": {},
   "outputs": [
    {
     "data": {
      "text/plain": [
       "array([1, 2, 3, 4])"
      ]
     },
     "execution_count": 5,
     "metadata": {},
     "output_type": "execute_result"
    }
   ],
   "source": [
    "np.array([1,2,3,4])"
   ]
  },
  {
   "cell_type": "code",
   "execution_count": null,
   "metadata": {},
   "outputs": [],
   "source": [
    "pd.DataFrame([1,2,3,4])"
   ]
  },
  {
   "cell_type": "markdown",
   "metadata": {},
   "source": [
    "You can use whatever you want as an alias for a package, but `np` and `pd` are widely used standards for NumPy and Pandas."
   ]
  },
  {
   "cell_type": "markdown",
   "metadata": {},
   "source": [
    "## NumPy\n",
    "\n",
    "**NumPy** is generally used to **handle numerical data**. This package is meant to make data behave similarly to the way matrices and vectors are handled in MATLAB.\n",
    "\n",
    "You can do a wide range of data analysis in NumPy on matrices of data, including:\n",
    "* **Basic statistics** (mean, median, min, max, percentiles, standard deviations)\n",
    "* **Basic and matrix math** (elementwise adding, subtracting, multiplication, etc; linear algebra operations)\n",
    "* **Statistical fitting** (linear or polynomial regressions)\n",
    "* **Matrix maniplation** (reshaping, masking data)"
   ]
  },
  {
   "cell_type": "markdown",
   "metadata": {},
   "source": [
    "As an example, say we have an array that represents the temperature taken every day of the week at different times of the day:\n",
    "\n",
    "||**S**|**M**|**T**|**W**|**Th**|**F**|**S**|\n",
    "|-|-|-|-|-|-|-|-|\n",
    "|**9:00**|31|37|35|34|31|29|32|\n",
    "|**12:00**|43|46|47|45|39|39|42|\n",
    "|**15:00**|40|42|31|44|33|38|37|"
   ]
  },
  {
   "cell_type": "code",
   "execution_count": 49,
   "metadata": {},
   "outputs": [
    {
     "data": {
      "text/plain": [
       "array([[31, 37, 35, 34, 31, 29, 32],\n",
       "       [43, 46, 47, 45, 39, 39, 42],\n",
       "       [40, 42, 31, 44, 33, 38, 37]])"
      ]
     },
     "execution_count": 49,
     "metadata": {},
     "output_type": "execute_result"
    }
   ],
   "source": [
    "T = np.array([[31,37,35,34,31,29,32],\n",
    "[43,46,47,45,39,39,42],\n",
    "[40,42,31,44,33,38,37]])\n",
    "T"
   ]
  },
  {
   "cell_type": "markdown",
   "metadata": {},
   "source": [
    "You can access values in your data by **indexing** the same way as we did with lists:"
   ]
  },
  {
   "cell_type": "code",
   "execution_count": 47,
   "metadata": {},
   "outputs": [
    {
     "data": {
      "text/plain": [
       "[31, 37, 35, 34, 31, 29, 32]"
      ]
     },
     "execution_count": 47,
     "metadata": {},
     "output_type": "execute_result"
    }
   ],
   "source": [
    "T[0,:]"
   ]
  },
  {
   "cell_type": "code",
   "execution_count": 50,
   "metadata": {},
   "outputs": [
    {
     "data": {
      "text/plain": [
       "array([32, 42, 37])"
      ]
     },
     "execution_count": 50,
     "metadata": {},
     "output_type": "execute_result"
    }
   ],
   "source": [
    "T[:,-1]"
   ]
  },
  {
   "cell_type": "markdown",
   "metadata": {},
   "source": [
    "You can easily perform **statistical analysis** on your data..."
   ]
  },
  {
   "cell_type": "code",
   "execution_count": 23,
   "metadata": {},
   "outputs": [],
   "source": [
    "T.mean()"
   ]
  },
  {
   "cell_type": "code",
   "execution_count": 22,
   "metadata": {},
   "outputs": [],
   "source": [
    "T.mean(axis=0)"
   ]
  },
  {
   "cell_type": "code",
   "execution_count": 21,
   "metadata": {},
   "outputs": [],
   "source": [
    "T.mean(axis=1)"
   ]
  },
  {
   "cell_type": "markdown",
   "metadata": {},
   "source": [
    "...and also do **computations** quickly."
   ]
  },
  {
   "cell_type": "code",
   "execution_count": 52,
   "metadata": {},
   "outputs": [],
   "source": [
    "T+273.15"
   ]
  },
  {
   "cell_type": "code",
   "execution_count": 54,
   "metadata": {},
   "outputs": [],
   "source": [
    "(T*(9/5))+32"
   ]
  },
  {
   "cell_type": "markdown",
   "metadata": {},
   "source": [
    "### Vectorization: Lists vs NumPy Arrays\n",
    "Lists and NumPy arrays seem similar at first, but they function very differently.\n",
    "\n",
    "**Lists** can hold **different data types** at a time. However, **computations must be done on each individual element**.\n",
    "* If a list has 100 elements, to perform an operation on everything in the list, **you have to do 100 computations**.\n",
    "    \n",
    "    \n",
    "**NumPy arrays** can only hold one data type at a time. However, **computations are <u>vectorized</u>**:\n",
    "* You can perform a mathematical operation on every element at once.\n",
    "* If a NumPy array has 100 elements, to perform an operation on everything in the array, **you have to do only 1 computation**.\n",
    "    * Arrays are (generally) faster than lists."
   ]
  },
  {
   "cell_type": "code",
   "execution_count": 29,
   "metadata": {},
   "outputs": [],
   "source": [
    "T_list = [[31,37,35,34,31,29,32],\n",
    "[43,46,47,45,39,39,42],\n",
    "[40,42,31,44,33,38,37]]"
   ]
  },
  {
   "cell_type": "code",
   "execution_count": 31,
   "metadata": {},
   "outputs": [],
   "source": [
    "T_list*0.9"
   ]
  },
  {
   "cell_type": "markdown",
   "metadata": {},
   "source": [
    "If you plan to do geospatial analysis in Python, you will probably use the `netcdf4` or `xarray` packages, which use NumPy arrays."
   ]
  },
  {
   "cell_type": "markdown",
   "metadata": {},
   "source": [
    "## Pandas\n",
    "\n",
    "**Pandas** is can be used to handle both **numerical and qualitative data**. The **DataFrame** is the basic data structure in Pandas.\n",
    "* The DataFrame behaves similarly to the dataframe in R.\n",
    "* The DataFrame is most similar to a structure (`struct`) in MATLAB.\n",
    "\n",
    "Like lists, DataFrames can hold different kinds of data. They also make use of **labelled indexes** (as opposed to numerical indexing). This means you can access data using, e.g., a column name instead of a number.\n",
    "\n",
    "Generally, you will load your data into Python as a CSV, Excel, or text file. Pandas supports many file types; you can find a full list [here](https://pandas.pydata.org/docs/user_guide/io.html)."
   ]
  },
  {
   "cell_type": "code",
   "execution_count": 35,
   "metadata": {},
   "outputs": [
    {
     "data": {
      "text/html": [
       "<div>\n",
       "<style scoped>\n",
       "    .dataframe tbody tr th:only-of-type {\n",
       "        vertical-align: middle;\n",
       "    }\n",
       "\n",
       "    .dataframe tbody tr th {\n",
       "        vertical-align: top;\n",
       "    }\n",
       "\n",
       "    .dataframe thead th {\n",
       "        text-align: right;\n",
       "    }\n",
       "</style>\n",
       "<table border=\"1\" class=\"dataframe\">\n",
       "  <thead>\n",
       "    <tr style=\"text-align: right;\">\n",
       "      <th></th>\n",
       "      <th>2000</th>\n",
       "      <th>2001</th>\n",
       "      <th>2002</th>\n",
       "      <th>2003</th>\n",
       "      <th>2004</th>\n",
       "      <th>2005</th>\n",
       "      <th>2006</th>\n",
       "      <th>2007</th>\n",
       "      <th>2008</th>\n",
       "      <th>2009</th>\n",
       "      <th>...</th>\n",
       "      <th>2011</th>\n",
       "      <th>2012</th>\n",
       "      <th>2013</th>\n",
       "      <th>2014</th>\n",
       "      <th>2015</th>\n",
       "      <th>2016</th>\n",
       "      <th>2017</th>\n",
       "      <th>2018</th>\n",
       "      <th>2019</th>\n",
       "      <th>2020</th>\n",
       "    </tr>\n",
       "  </thead>\n",
       "  <tbody>\n",
       "    <tr>\n",
       "      <th>Brazil</th>\n",
       "      <td>3766.548115</td>\n",
       "      <td>3176.289357</td>\n",
       "      <td>2855.940189</td>\n",
       "      <td>3090.607010</td>\n",
       "      <td>3663.823188</td>\n",
       "      <td>4827.781731</td>\n",
       "      <td>5934.144711</td>\n",
       "      <td>7409.691307</td>\n",
       "      <td>8908.331766</td>\n",
       "      <td>8678.659225</td>\n",
       "      <td>...</td>\n",
       "      <td>13396.624360</td>\n",
       "      <td>12521.721350</td>\n",
       "      <td>12458.891210</td>\n",
       "      <td>12274.993970</td>\n",
       "      <td>8936.196618</td>\n",
       "      <td>8836.286526</td>\n",
       "      <td>10080.509280</td>\n",
       "      <td>9300.661649</td>\n",
       "      <td>9029.833267</td>\n",
       "      <td>7074.193783</td>\n",
       "    </tr>\n",
       "    <tr>\n",
       "      <th>China</th>\n",
       "      <td>959.360431</td>\n",
       "      <td>1053.112314</td>\n",
       "      <td>1148.514257</td>\n",
       "      <td>1288.637491</td>\n",
       "      <td>1508.667916</td>\n",
       "      <td>1753.414192</td>\n",
       "      <td>2099.219430</td>\n",
       "      <td>2693.958732</td>\n",
       "      <td>3468.327063</td>\n",
       "      <td>3832.227457</td>\n",
       "      <td>...</td>\n",
       "      <td>5614.386022</td>\n",
       "      <td>6300.582180</td>\n",
       "      <td>7020.386074</td>\n",
       "      <td>7636.074340</td>\n",
       "      <td>8016.445595</td>\n",
       "      <td>8094.390167</td>\n",
       "      <td>8817.045608</td>\n",
       "      <td>9905.406383</td>\n",
       "      <td>10143.860220</td>\n",
       "      <td>10408.719550</td>\n",
       "    </tr>\n",
       "    <tr>\n",
       "      <th>Egypt, Arab Rep.</th>\n",
       "      <td>1366.092744</td>\n",
       "      <td>1295.137418</td>\n",
       "      <td>1116.828846</td>\n",
       "      <td>1031.275563</td>\n",
       "      <td>991.255689</td>\n",
       "      <td>1104.803407</td>\n",
       "      <td>1298.979002</td>\n",
       "      <td>1547.741707</td>\n",
       "      <td>1896.215943</td>\n",
       "      <td>2161.639646</td>\n",
       "      <td>...</td>\n",
       "      <td>2590.643849</td>\n",
       "      <td>2996.067707</td>\n",
       "      <td>3025.525636</td>\n",
       "      <td>3133.391023</td>\n",
       "      <td>3306.981594</td>\n",
       "      <td>3270.628777</td>\n",
       "      <td>2395.103333</td>\n",
       "      <td>2484.703156</td>\n",
       "      <td>2962.988920</td>\n",
       "      <td>3511.113810</td>\n",
       "    </tr>\n",
       "    <tr>\n",
       "      <th>France</th>\n",
       "      <td>22340.593950</td>\n",
       "      <td>22331.794830</td>\n",
       "      <td>24144.572700</td>\n",
       "      <td>29479.522210</td>\n",
       "      <td>33644.928220</td>\n",
       "      <td>34696.371830</td>\n",
       "      <td>36431.565890</td>\n",
       "      <td>41486.190780</td>\n",
       "      <td>45464.818140</td>\n",
       "      <td>41728.088420</td>\n",
       "      <td>...</td>\n",
       "      <td>43929.784090</td>\n",
       "      <td>40863.581440</td>\n",
       "      <td>42669.179510</td>\n",
       "      <td>43148.045930</td>\n",
       "      <td>36702.432370</td>\n",
       "      <td>37024.215710</td>\n",
       "      <td>38687.162640</td>\n",
       "      <td>41418.176650</td>\n",
       "      <td>40408.284860</td>\n",
       "      <td>39169.860600</td>\n",
       "    </tr>\n",
       "    <tr>\n",
       "      <th>United Kingdom</th>\n",
       "      <td>28280.926790</td>\n",
       "      <td>27906.569500</td>\n",
       "      <td>30077.741430</td>\n",
       "      <td>34442.687540</td>\n",
       "      <td>40366.888670</td>\n",
       "      <td>42104.788440</td>\n",
       "      <td>44512.459030</td>\n",
       "      <td>50397.685500</td>\n",
       "      <td>47396.120210</td>\n",
       "      <td>38744.131690</td>\n",
       "      <td>...</td>\n",
       "      <td>42109.641880</td>\n",
       "      <td>42497.340500</td>\n",
       "      <td>43426.298140</td>\n",
       "      <td>47439.616590</td>\n",
       "      <td>44964.391140</td>\n",
       "      <td>40985.235140</td>\n",
       "      <td>40572.121480</td>\n",
       "      <td>43203.814110</td>\n",
       "      <td>42662.535370</td>\n",
       "      <td>40201.681240</td>\n",
       "    </tr>\n",
       "    <tr>\n",
       "      <th>India</th>\n",
       "      <td>442.750219</td>\n",
       "      <td>450.357901</td>\n",
       "      <td>469.149929</td>\n",
       "      <td>544.143133</td>\n",
       "      <td>624.258827</td>\n",
       "      <td>710.488080</td>\n",
       "      <td>801.668354</td>\n",
       "      <td>1021.887077</td>\n",
       "      <td>992.519585</td>\n",
       "      <td>1094.949746</td>\n",
       "      <td>...</td>\n",
       "      <td>1445.461275</td>\n",
       "      <td>1429.321995</td>\n",
       "      <td>1432.843975</td>\n",
       "      <td>1553.883961</td>\n",
       "      <td>1583.998159</td>\n",
       "      <td>1707.508929</td>\n",
       "      <td>1950.104683</td>\n",
       "      <td>1966.254552</td>\n",
       "      <td>2041.428637</td>\n",
       "      <td>1907.042516</td>\n",
       "    </tr>\n",
       "  </tbody>\n",
       "</table>\n",
       "<p>6 rows × 21 columns</p>\n",
       "</div>"
      ],
      "text/plain": [
       "                          2000          2001          2002          2003  \\\n",
       "Brazil             3766.548115   3176.289357   2855.940189   3090.607010   \n",
       "China               959.360431   1053.112314   1148.514257   1288.637491   \n",
       "Egypt, Arab Rep.   1366.092744   1295.137418   1116.828846   1031.275563   \n",
       "France            22340.593950  22331.794830  24144.572700  29479.522210   \n",
       "United Kingdom    28280.926790  27906.569500  30077.741430  34442.687540   \n",
       "India               442.750219    450.357901    469.149929    544.143133   \n",
       "\n",
       "                          2004          2005          2006          2007  \\\n",
       "Brazil             3663.823188   4827.781731   5934.144711   7409.691307   \n",
       "China              1508.667916   1753.414192   2099.219430   2693.958732   \n",
       "Egypt, Arab Rep.    991.255689   1104.803407   1298.979002   1547.741707   \n",
       "France            33644.928220  34696.371830  36431.565890  41486.190780   \n",
       "United Kingdom    40366.888670  42104.788440  44512.459030  50397.685500   \n",
       "India               624.258827    710.488080    801.668354   1021.887077   \n",
       "\n",
       "                          2008          2009  ...          2011          2012  \\\n",
       "Brazil             8908.331766   8678.659225  ...  13396.624360  12521.721350   \n",
       "China              3468.327063   3832.227457  ...   5614.386022   6300.582180   \n",
       "Egypt, Arab Rep.   1896.215943   2161.639646  ...   2590.643849   2996.067707   \n",
       "France            45464.818140  41728.088420  ...  43929.784090  40863.581440   \n",
       "United Kingdom    47396.120210  38744.131690  ...  42109.641880  42497.340500   \n",
       "India               992.519585   1094.949746  ...   1445.461275   1429.321995   \n",
       "\n",
       "                          2013          2014          2015          2016  \\\n",
       "Brazil            12458.891210  12274.993970   8936.196618   8836.286526   \n",
       "China              7020.386074   7636.074340   8016.445595   8094.390167   \n",
       "Egypt, Arab Rep.   3025.525636   3133.391023   3306.981594   3270.628777   \n",
       "France            42669.179510  43148.045930  36702.432370  37024.215710   \n",
       "United Kingdom    43426.298140  47439.616590  44964.391140  40985.235140   \n",
       "India              1432.843975   1553.883961   1583.998159   1707.508929   \n",
       "\n",
       "                          2017          2018          2019          2020  \n",
       "Brazil            10080.509280   9300.661649   9029.833267   7074.193783  \n",
       "China              8817.045608   9905.406383  10143.860220  10408.719550  \n",
       "Egypt, Arab Rep.   2395.103333   2484.703156   2962.988920   3511.113810  \n",
       "France            38687.162640  41418.176650  40408.284860  39169.860600  \n",
       "United Kingdom    40572.121480  43203.814110  42662.535370  40201.681240  \n",
       "India              1950.104683   1966.254552   2041.428637   1907.042516  \n",
       "\n",
       "[6 rows x 21 columns]"
      ]
     },
     "execution_count": 35,
     "metadata": {},
     "output_type": "execute_result"
    }
   ],
   "source": [
    "gdp_df = pd.read_csv('GDP_data.csv',index_col=0)\n",
    "gdp_df"
   ]
  },
  {
   "cell_type": "markdown",
   "metadata": {},
   "source": [
    "To **access** data:"
   ]
  },
  {
   "cell_type": "code",
   "execution_count": 36,
   "metadata": {},
   "outputs": [
    {
     "data": {
      "text/plain": [
       "Brazil               3766.548115\n",
       "China                 959.360431\n",
       "Egypt, Arab Rep.     1366.092744\n",
       "France              22340.593950\n",
       "United Kingdom      28280.926790\n",
       "India                 442.750219\n",
       "Name: 2000, dtype: float64"
      ]
     },
     "execution_count": 36,
     "metadata": {},
     "output_type": "execute_result"
    }
   ],
   "source": [
    "gdp_df['2000']"
   ]
  },
  {
   "cell_type": "code",
   "execution_count": 37,
   "metadata": {},
   "outputs": [
    {
     "data": {
      "text/plain": [
       "5934.144711"
      ]
     },
     "execution_count": 37,
     "metadata": {},
     "output_type": "execute_result"
    }
   ],
   "source": [
    "gdp_df.loc['Brazil','2006']"
   ]
  },
  {
   "cell_type": "markdown",
   "metadata": {},
   "source": [
    "**Another example**: used car sales data"
   ]
  },
  {
   "cell_type": "code",
   "execution_count": 39,
   "metadata": {},
   "outputs": [
    {
     "data": {
      "text/html": [
       "<div>\n",
       "<style scoped>\n",
       "    .dataframe tbody tr th:only-of-type {\n",
       "        vertical-align: middle;\n",
       "    }\n",
       "\n",
       "    .dataframe tbody tr th {\n",
       "        vertical-align: top;\n",
       "    }\n",
       "\n",
       "    .dataframe thead th {\n",
       "        text-align: right;\n",
       "    }\n",
       "</style>\n",
       "<table border=\"1\" class=\"dataframe\">\n",
       "  <thead>\n",
       "    <tr style=\"text-align: right;\">\n",
       "      <th></th>\n",
       "      <th>price_inr</th>\n",
       "      <th>age_yr</th>\n",
       "      <th>mileage_km</th>\n",
       "      <th>transmission</th>\n",
       "      <th>color</th>\n",
       "      <th>engine_cc</th>\n",
       "      <th>seats</th>\n",
       "      <th>tank_size_l</th>\n",
       "    </tr>\n",
       "  </thead>\n",
       "  <tbody>\n",
       "    <tr>\n",
       "      <th>0</th>\n",
       "      <td>515000</td>\n",
       "      <td>3</td>\n",
       "      <td>3395</td>\n",
       "      <td>Manual</td>\n",
       "      <td>Others</td>\n",
       "      <td>1086</td>\n",
       "      <td>5</td>\n",
       "      <td>35.0</td>\n",
       "    </tr>\n",
       "    <tr>\n",
       "      <th>1</th>\n",
       "      <td>610000</td>\n",
       "      <td>3</td>\n",
       "      <td>3800</td>\n",
       "      <td>Manual</td>\n",
       "      <td>White</td>\n",
       "      <td>998</td>\n",
       "      <td>4</td>\n",
       "      <td>55.0</td>\n",
       "    </tr>\n",
       "    <tr>\n",
       "      <th>2</th>\n",
       "      <td>625000</td>\n",
       "      <td>3</td>\n",
       "      <td>7000</td>\n",
       "      <td>Manual</td>\n",
       "      <td>Grey</td>\n",
       "      <td>1196</td>\n",
       "      <td>7</td>\n",
       "      <td>40.0</td>\n",
       "    </tr>\n",
       "    <tr>\n",
       "      <th>3</th>\n",
       "      <td>650000</td>\n",
       "      <td>3</td>\n",
       "      <td>6000</td>\n",
       "      <td>Manual</td>\n",
       "      <td>White</td>\n",
       "      <td>1197</td>\n",
       "      <td>5</td>\n",
       "      <td>37.0</td>\n",
       "    </tr>\n",
       "    <tr>\n",
       "      <th>4</th>\n",
       "      <td>700000</td>\n",
       "      <td>3</td>\n",
       "      <td>1000</td>\n",
       "      <td>Manual</td>\n",
       "      <td>White</td>\n",
       "      <td>1199</td>\n",
       "      <td>5</td>\n",
       "      <td>35.0</td>\n",
       "    </tr>\n",
       "    <tr>\n",
       "      <th>...</th>\n",
       "      <td>...</td>\n",
       "      <td>...</td>\n",
       "      <td>...</td>\n",
       "      <td>...</td>\n",
       "      <td>...</td>\n",
       "      <td>...</td>\n",
       "      <td>...</td>\n",
       "      <td>...</td>\n",
       "    </tr>\n",
       "    <tr>\n",
       "      <th>1875</th>\n",
       "      <td>1000000</td>\n",
       "      <td>15</td>\n",
       "      <td>67000</td>\n",
       "      <td>Automatic</td>\n",
       "      <td>Silver</td>\n",
       "      <td>1798</td>\n",
       "      <td>5</td>\n",
       "      <td>63.0</td>\n",
       "    </tr>\n",
       "    <tr>\n",
       "      <th>1876</th>\n",
       "      <td>1000000</td>\n",
       "      <td>15</td>\n",
       "      <td>127000</td>\n",
       "      <td>Manual</td>\n",
       "      <td>White</td>\n",
       "      <td>2982</td>\n",
       "      <td>7</td>\n",
       "      <td>80.0</td>\n",
       "    </tr>\n",
       "    <tr>\n",
       "      <th>1877</th>\n",
       "      <td>1150000</td>\n",
       "      <td>15</td>\n",
       "      <td>120000</td>\n",
       "      <td>Automatic</td>\n",
       "      <td>Silver</td>\n",
       "      <td>2987</td>\n",
       "      <td>5</td>\n",
       "      <td>80.0</td>\n",
       "    </tr>\n",
       "    <tr>\n",
       "      <th>1878</th>\n",
       "      <td>1195000</td>\n",
       "      <td>15</td>\n",
       "      <td>74000</td>\n",
       "      <td>Automatic</td>\n",
       "      <td>Silver</td>\n",
       "      <td>2497</td>\n",
       "      <td>5</td>\n",
       "      <td>70.0</td>\n",
       "    </tr>\n",
       "    <tr>\n",
       "      <th>1879</th>\n",
       "      <td>2400000</td>\n",
       "      <td>15</td>\n",
       "      <td>34105</td>\n",
       "      <td>Automatic</td>\n",
       "      <td>Grey</td>\n",
       "      <td>1796</td>\n",
       "      <td>2</td>\n",
       "      <td>70.0</td>\n",
       "    </tr>\n",
       "  </tbody>\n",
       "</table>\n",
       "<p>1880 rows × 8 columns</p>\n",
       "</div>"
      ],
      "text/plain": [
       "      price_inr  age_yr  mileage_km transmission   color  engine_cc  seats  \\\n",
       "0        515000       3        3395       Manual  Others       1086      5   \n",
       "1        610000       3        3800       Manual   White        998      4   \n",
       "2        625000       3        7000       Manual    Grey       1196      7   \n",
       "3        650000       3        6000       Manual   White       1197      5   \n",
       "4        700000       3        1000       Manual   White       1199      5   \n",
       "...         ...     ...         ...          ...     ...        ...    ...   \n",
       "1875    1000000      15       67000    Automatic  Silver       1798      5   \n",
       "1876    1000000      15      127000       Manual   White       2982      7   \n",
       "1877    1150000      15      120000    Automatic  Silver       2987      5   \n",
       "1878    1195000      15       74000    Automatic  Silver       2497      5   \n",
       "1879    2400000      15       34105    Automatic    Grey       1796      2   \n",
       "\n",
       "      tank_size_l  \n",
       "0            35.0  \n",
       "1            55.0  \n",
       "2            40.0  \n",
       "3            37.0  \n",
       "4            35.0  \n",
       "...           ...  \n",
       "1875         63.0  \n",
       "1876         80.0  \n",
       "1877         80.0  \n",
       "1878         70.0  \n",
       "1879         70.0  \n",
       "\n",
       "[1880 rows x 8 columns]"
      ]
     },
     "execution_count": 39,
     "metadata": {},
     "output_type": "execute_result"
    }
   ],
   "source": [
    "car_df = pd.read_csv('car_data.csv')\n",
    "car_df"
   ]
  },
  {
   "cell_type": "code",
   "execution_count": 46,
   "metadata": {},
   "outputs": [
    {
     "data": {
      "text/plain": [
       "1686498.3563829786"
      ]
     },
     "execution_count": 46,
     "metadata": {},
     "output_type": "execute_result"
    }
   ],
   "source": [
    "car_df['price_inr'].mean()"
   ]
  },
  {
   "cell_type": "markdown",
   "metadata": {},
   "source": [
    "# Coding Challenges"
   ]
  },
  {
   "cell_type": "markdown",
   "metadata": {},
   "source": [
    "## Coding Challenge 1: Usernames\n",
    "\n",
    "**<u>Concepts covered</u>**\n",
    "* Strings and string methods\n",
    "* Data type conversion\n",
    "* Lists and indexing\n",
    "* List methods\n",
    "* `for` loops\n",
    "\n",
    "**<u>Instructions</u>**\n",
    "\n",
    "In this exercise, you have a list of names, `names`, that you need to generate usernames for. Each username must contain the name of the person plus their ID number, stored in `IDs`. For example, the first username would be `'alice142'`. Write a loop that combines creates a username for each item in `names` and `IDs`, and saves each username into the list `usernames`. For example, `usernames` should have a length of 5 and its first element would be `'alice142'`.\n",
    "\n",
    "**<u>Pseudocode</u>**\n",
    "* Use an iterable that represents an index on each iteration (such as in EX12).\n",
    "    * Hint: recall how to access items in a list using their indices. You may find either the `range()` function or a counter useful for this.\n",
    "* On each iteration, convert the element in ID into a string.\n",
    "* On each iteration, concatenate (add together) the string in names and the number in ID to create the username for that person. For example, `'alice' + '142'` would return `'alice142'`.\n",
    "* On each iteration, append the username you just created to the list `usernames`.\n",
    "    * You will need the list method `.append()` for this."
   ]
  },
  {
   "cell_type": "code",
   "execution_count": null,
   "metadata": {},
   "outputs": [],
   "source": [
    "names = ['alice','clara','alfie','matthew','abdullah','ingo']\n",
    "IDs = [142,753,243,457,503,294]\n",
    "usernames = []\n",
    "\n",
    "# Your code here\n",
    "\n"
   ]
  },
  {
   "cell_type": "markdown",
   "metadata": {},
   "source": [
    "---"
   ]
  },
  {
   "cell_type": "markdown",
   "metadata": {},
   "source": [
    "## Coding Challenge 2: Experiment Files\n",
    "\n",
    "**<u>Concepts covered</u>**\n",
    "* Strings and string methods\n",
    "* Lists and indexing\n",
    "* List methods\n",
    "* `for` loops\n",
    "* `if-elif-else` statements\n",
    "\n",
    "**<u>Instructions</u>**\n",
    "\n",
    "In this exercise, you have a list of files from different experiments you’ve conducted, `exp_files`. For each file, we want to extract the date, but only if it is for a file corresponding to experiment A (`expA`). Write a loop that extracts the dates for all the `expA` files only and saves them in a new list called `expA_dates`.\n",
    "\n",
    "`expA_dates` should return `['20221024','20230814','20210203','20230523']` at the end of your code.\n",
    "\n",
    "**<u>Pseudocode</u>**\n",
    "* Use `exp_files` as the iterable.\n",
    "* Your code should first check whether the file name has `'expA'` in it using an if statement.\n",
    "    * Google “check if substring in string Python” and look at some of the Stack Overflow recommendations for going about this.\n",
    "* On each iteration (that passes the condition above), extract the date from the file name.\n",
    "    * You might find the string method `.split()` useful.\n",
    "* On each iteration (that passes the condition above), append the extracted date to `expA_dates`.\n",
    "    * You will need the list method `.append()` for this."
   ]
  },
  {
   "cell_type": "code",
   "execution_count": null,
   "metadata": {},
   "outputs": [],
   "source": [
    "exp_files = ['20221024_expA.xlsx','20231006_expB.csv','20230910_expC.csv',\n",
    "              '20230814_expA.csv','20220405_expB.xlsx','20211201_expC.xlsx'\n",
    "             '20210203_expA.xlsx','20220505_expB.csv','20211102_expC.xlsx'\n",
    "             '20230523_expA.xlsx','20230611_expB.csv','20211102_expC.xlsx']\n",
    "\n",
    "expA_dates = []\n",
    "# Your code here\n",
    "\n"
   ]
  },
  {
   "cell_type": "markdown",
   "metadata": {},
   "source": [
    "---"
   ]
  },
  {
   "cell_type": "markdown",
   "metadata": {},
   "source": [
    "## Coding Challenge 3: A Fancier Temperature Converter\n",
    "\n",
    "**<u>Concepts covered</u>**\n",
    "* Basic maths\n",
    "* Strings\n",
    "* Lists and indexing\n",
    "* List methods\n",
    "* `for` loops\n",
    "* `if-elif-else` statements\n",
    "\n",
    "**<u>Instructions</u>**\n",
    "\n",
    "In this exercise, you will write some code that converts a series of temperature measurements into Celsius. You have a series of temperature measurements stored in a list called `T`. The corresponding unit of each of the measurements is stored in a separate list called `units`. Your goal is to convert all of the measurements in `T` into Celsius, and store them to a list called `T_C`.\n",
    "\n",
    "The formulae for converting from Fahrenheit and Kelvin are:\n",
    "\n",
    "<center> $C = \\frac{5}{9}*(F - 32)$ </center>\n",
    "<center> $C = K - 273.15$ </center>\n",
    "\n",
    "**<u>Pseudocode</u>**\n",
    "* Use an iterable in your `for` loop that represents an index on each iteration (such as in EX12).\n",
    "    * *Hint: recall how to access items in a list using their indices.*\n",
    "    * You may find either the `range()` function or a counter useful for this.\n",
    "* On each iteration, you should have a series of `if` statements that check the unit of that measurement in `units`.\n",
    "    * Based on the unit, apply the correct temperature conversion formula.\n",
    "* After applying the correct temperature conversion, save the converted value into `T_C`."
   ]
  },
  {
   "cell_type": "code",
   "execution_count": 58,
   "metadata": {},
   "outputs": [],
   "source": [
    "T = [30,280,14,85,58,317,251,305,5,69,301]\n",
    "units = ['C','K','C','F','F','K','K','K','C','F','K']\n",
    "\n",
    "T_C = []\n",
    "\n",
    "# Your code here\n",
    "\n"
   ]
  },
  {
   "cell_type": "markdown",
   "metadata": {},
   "source": [
    "---"
   ]
  },
  {
   "cell_type": "markdown",
   "metadata": {},
   "source": [
    "# Functions"
   ]
  },
  {
   "cell_type": "markdown",
   "metadata": {},
   "source": [
    "**Functions** generally take inputs (called **parameters**) and return one or more outputs. Functions are useful because they are reusable - you can run the same code on different variables without having to rewrite all the code every time.\n",
    "\n",
    "Some examples of some functions:"
   ]
  },
  {
   "cell_type": "code",
   "execution_count": null,
   "metadata": {},
   "outputs": [],
   "source": [
    "def f(x):\n",
    "    y = x+1\n",
    "    return y"
   ]
  },
  {
   "cell_type": "code",
   "execution_count": null,
   "metadata": {},
   "outputs": [],
   "source": [
    "def g(x,y):\n",
    "    z = x**2+**2\n",
    "    return z"
   ]
  },
  {
   "cell_type": "markdown",
   "metadata": {},
   "source": [
    "Note the syntax for defining a function.\n",
    "\n",
    "* You must use the `def` keyword, followed by your **function name**, the **inputs** you would like to use in **parentheses**, and followed by a **colon**.\n",
    "* The operations that you perform within your function must be **indented to the right of the `def` line** with your function name and inputs.\n",
    "* You must **specify the outputs** you would like your function to compute using the **return** keyword."
   ]
  },
  {
   "cell_type": "markdown",
   "metadata": {},
   "source": [
    "###  <span style=\"color:orange\">EX11</span>\n",
    "\n",
    "**(A)** Write a function called parabola that takes an input `x` and outputs a point on the `parabola` y = x$^2$+2x+1."
   ]
  },
  {
   "cell_type": "code",
   "execution_count": null,
   "metadata": {},
   "outputs": [],
   "source": [
    "# Your code here\n"
   ]
  },
  {
   "cell_type": "markdown",
   "metadata": {},
   "source": [
    "**(B)** Write a function called `circles` that takes a radius of a circle as input and returns\n",
    "* the circumference\n",
    "* the area of that circle"
   ]
  },
  {
   "cell_type": "code",
   "execution_count": null,
   "metadata": {},
   "outputs": [],
   "source": [
    "# Your code here\n"
   ]
  },
  {
   "cell_type": "markdown",
   "metadata": {},
   "source": [
    "---"
   ]
  },
  {
   "cell_type": "markdown",
   "metadata": {},
   "source": [
    "# What did you think?\n",
    "\n",
    "**Please take a few moments to leave your [course feedback here!](https://forms.office.com/Pages/ResponsePage.aspx?id=lYdfxj26UUOKBwhl5djwkFtIujJ9lCFMouysTWFV3rRURDJCTFpFOThXUTlDQlBONk9UMDNWUTg0SS4u)**\n",
    "\n",
    "This is the first time this version of the Introduction to Python Course has been run. I am very eager for your feedback on what worked for your and what could be improved :)\n",
    "\n",
    "Cheers,\n",
    "\n",
    "Alice"
   ]
  },
  {
   "cell_type": "code",
   "execution_count": null,
   "metadata": {},
   "outputs": [],
   "source": []
  }
 ],
 "metadata": {
  "kernelspec": {
   "display_name": "Python 3 (ipykernel)",
   "language": "python",
   "name": "python3"
  },
  "language_info": {
   "codemirror_mode": {
    "name": "ipython",
    "version": 3
   },
   "file_extension": ".py",
   "mimetype": "text/x-python",
   "name": "python",
   "nbconvert_exporter": "python",
   "pygments_lexer": "ipython3",
   "version": "3.9.12"
  },
  "vscode": {
   "interpreter": {
    "hash": "31f2aee4e71d21fbe5cf8b01ff0e069b9275f58929596ceb00d14d90e3e16cd6"
   }
  }
 },
 "nbformat": 4,
 "nbformat_minor": 2
}
