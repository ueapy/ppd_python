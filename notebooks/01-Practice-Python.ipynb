{
 "cells": [
  {
   "cell_type": "markdown",
   "metadata": {},
   "source": [
    "# Essential Python commands"
   ]
  },
  {
   "cell_type": "markdown",
   "metadata": {},
   "source": [
    "What not to call your variables!\n",
    "\n",
    "There are words with special meanings in Python - they are the names of built-in functions. NEVER use these to name your variables:\n",
    "``and, as, assert, break, class, continue, def, del, elif, else, except, exec, finally, for, from, global, if, import, in, is, lambda, not, or, pass, print, raise, return, try, with, while, yield.``\n",
    "\n",
    "**NOTE**: you can use numbers in your variable name so long as *it does not start with a number*.\n",
    "***"
   ]
  },
  {
   "cell_type": "markdown",
   "metadata": {},
   "source": [
    "**Variable assignment** and **basic maths** are built into Python - i.e., you don't need to import any packages to use either of these.\n",
    "\n",
    "**Variable assignment**: setting some variable name equal to some data or value\n",
    "* e.g., ``myvar = 123``\n",
    "\n",
    "**Basic maths**: basic mathematical operations\n",
    "* e.g., addition and subtraction, multiplication and division, exponentiation"
   ]
  },
  {
   "cell_type": "code",
   "execution_count": 2,
   "metadata": {},
   "outputs": [],
   "source": [
    "# Variable assignment\n",
    "a = 1\n",
    "b = 3\n",
    "\n",
    "# Basic maths\n",
    "c = a + b\n",
    "d = b / a\n",
    "e = b ** a"
   ]
  },
  {
   "cell_type": "markdown",
   "metadata": {},
   "source": [
    "You will notice that by default, Python will not print a result to the screen unless you ask it to with the ``print()`` command, or putting the variable by itself in a cell:"
   ]
  },
  {
   "cell_type": "code",
   "execution_count": 4,
   "metadata": {},
   "outputs": [
    {
     "name": "stdout",
     "output_type": "stream",
     "text": [
      "1\n"
     ]
    }
   ],
   "source": [
    "# Print function\n",
    "print(a)"
   ]
  },
  {
   "cell_type": "code",
   "execution_count": 6,
   "metadata": {},
   "outputs": [
    {
     "data": {
      "text/plain": [
       "3"
      ]
     },
     "execution_count": 6,
     "metadata": {},
     "output_type": "execute_result"
    }
   ],
   "source": [
    "b"
   ]
  },
  {
   "cell_type": "markdown",
   "metadata": {},
   "source": [
    "Printing your variable(s) (via the ``print()`` function or using the variable name) is useful for checking the value of variables. It is also useful for if you forget whether you have used a variable name (\"Have I used `myvar` as a variable name yet?\") or if you forgot what value you assigned to a certain variable (\"What did I set ``a`` equal to again?\").\n",
    "\n",
    "You can also format the output you want to print with *strings* (we will talk later about different data types such as strings)."
   ]
  },
  {
   "cell_type": "code",
   "execution_count": 5,
   "metadata": {},
   "outputs": [
    {
     "name": "stdout",
     "output_type": "stream",
     "text": [
      "c = 4\n",
      "d = 3.0\n",
      "e = 3\n"
     ]
    }
   ],
   "source": [
    "print(f\"c = {c}\")\n",
    "print(f\"d = {d}\")\n",
    "print(f\"e = {e}\")"
   ]
  },
  {
   "cell_type": "markdown",
   "metadata": {},
   "source": [
    "### A full list of arithmetic operators\n",
    "\n",
    "| Operator     | Name           | Description                                            |\n",
    "|--------------|----------------|--------------------------------------------------------|\n",
    "| ``a + b``    | Addition       | Sum of ``a`` and ``b``                                 |\n",
    "| ``a - b``    | Subtraction    | Difference of ``a`` and ``b``                          |\n",
    "| ``a * b``    | Multiplication | Product of ``a`` and ``b``                             |\n",
    "| ``a / b``    | True division  | Quotient of ``a`` and ``b``                            |\n",
    "| ``a // b``   | Floor division | Quotient of ``a`` and ``b``, removing fractional parts |\n",
    "| ``a % b``    | Modulus        | Integer remainder after division of ``a`` by ``b``     |\n",
    "| ``a ** b``   | Exponentiation | ``a`` raised to the power of ``b``                     |\n",
    "| ``-a``       | Negation       | The negative of ``a``                                  |"
   ]
  },
  {
   "cell_type": "markdown",
   "metadata": {},
   "source": [
    "**Excercise 1:** Make some variables and experiment with operators here, do some simple maths and use print() to display your results"
   ]
  },
  {
   "cell_type": "code",
   "execution_count": 9,
   "metadata": {},
   "outputs": [
    {
     "name": "stdout",
     "output_type": "stream",
     "text": [
      "Temperature in Celsius: 10\n",
      "Temperature in Farenheit: 50.0\n"
     ]
    }
   ],
   "source": [
    "C = 10\n",
    "F = 10*(9/5)+32\n",
    "print('Temperature in Celsius: '+str(C))\n",
    "print('Temperature in Farenheit: '+str(F))"
   ]
  },
  {
   "cell_type": "markdown",
   "metadata": {},
   "source": [
    "Python is *dynamically typed.* There is no need to declare variables before assigning them the value you want as you would in FORTRAN, C, or other statically typed languages. A variable can also change to whatever data type or object you want.\n",
    "\n",
    "This means that you must be careful you do not accidentally overwrite variables (if you aren't doing so on purpose) - if you set the same variable name equal to different values, it will take on the last value."
   ]
  },
  {
   "cell_type": "code",
   "execution_count": 11,
   "metadata": {},
   "outputs": [
    {
     "name": "stdout",
     "output_type": "stream",
     "text": [
      "hello world\n",
      "<class 'str'>\n",
      "4\n",
      "<class 'int'>\n",
      "3.73\n",
      "<class 'float'>\n",
      "[1, 2, 3]\n",
      "<class 'list'>\n"
     ]
    }
   ],
   "source": [
    "x = \"hello world\" # x is a string\n",
    "print(x)\n",
    "print(type(x))\n",
    "\n",
    "x = 4 # x is an integer\n",
    "print(x)\n",
    "print(type(x))\n",
    "\n",
    "x = 3.73 # x is a float\n",
    "print(x)\n",
    "print(type(x))\n",
    "\n",
    "x = [1, 2, 3] # x is a list\n",
    "print(x)\n",
    "print(type(x))"
   ]
  },
  {
   "cell_type": "markdown",
   "metadata": {},
   "source": [
    "What will the following cell output?"
   ]
  },
  {
   "cell_type": "code",
   "execution_count": null,
   "metadata": {},
   "outputs": [],
   "source": [
    "x"
   ]
  },
  {
   "cell_type": "markdown",
   "metadata": {},
   "source": [
    "## Built-in types of variables\n",
    "\n",
    "<center> Python Scalar Types or Simple Types </center>\n",
    "\n",
    "| Type        | Example        | Description                                                  |\n",
    "|-------------|----------------|--------------------------------------------------------------|\n",
    "| ``int``     | ``x = 1``      | integers (i.e., whole numbers)                               |\n",
    "| ``float``   | ``x = 1.0``    | floating-point numbers (i.e., real numbers)                  |\n",
    "| ``complex`` | ``x = 1 + 2j`` | Complex numbers (i.e., numbers with real and imaginary part) |\n",
    "| ``bool``    | ``x = True``   | Boolean: True/False values                                   |\n",
    "| ``str``     | ``x = 'abc'``  | String: characters or text                                   |\n",
    "| ``NoneType``| ``x = None``   | Special object indicating nulls                              |\n",
    "\n",
    "\n",
    "\n",
    "<center> Data Structures </center>\n",
    "\n",
    "| Type Name | Example                   |Description                            |\n",
    "|-----------|---------------------------|---------------------------------------|\n",
    "| ``list``  | ``[1, 2, 3]``             | Ordered collection                    |\n",
    "| ``tuple`` | ``(1, 2, 3)``             | Immutable ordered collection          |\n",
    "| ``dict``  | ``{'a':1, 'b':2, 'c':3}`` | Unordered (key,value) mapping         |\n",
    "| ``set``   | ``{1, 2, 3}``             | Unordered collection of unique values |\n",
    "\n",
    "**NOTE**: round ( ), square [ ], and curly { } brackets have distinct meanings - you can't use them interchangeably."
   ]
  },
  {
   "cell_type": "markdown",
   "metadata": {},
   "source": [
    "We can change between different scalar types using their names as functions:"
   ]
  },
  {
   "cell_type": "code",
   "execution_count": null,
   "metadata": {},
   "outputs": [],
   "source": [
    "b = 1.3\n",
    "print(b)\n",
    "print(type(b))\n",
    "c = int(b)\n",
    "print(c)\n",
    "print(type(c))"
   ]
  },
  {
   "cell_type": "markdown",
   "metadata": {},
   "source": [
    "**Excercise:** Try switching between variable types with ``str()``, ``int()``, ``float()``, ``complex()``, and ``bool()``"
   ]
  },
  {
   "cell_type": "code",
   "execution_count": null,
   "metadata": {},
   "outputs": [],
   "source": [
    "c = 3"
   ]
  },
  {
   "cell_type": "code",
   "execution_count": null,
   "metadata": {},
   "outputs": [],
   "source": [
    "# make a float from c\n"
   ]
  },
  {
   "cell_type": "code",
   "execution_count": null,
   "metadata": {},
   "outputs": [],
   "source": [
    "# make a complex number from c\n"
   ]
  },
  {
   "cell_type": "code",
   "execution_count": null,
   "metadata": {},
   "outputs": [],
   "source": [
    "# make a string from c\n"
   ]
  },
  {
   "cell_type": "code",
   "execution_count": null,
   "metadata": {},
   "outputs": [],
   "source": [
    "# make a bool from c. Is c true or False?\n"
   ]
  },
  {
   "cell_type": "code",
   "execution_count": null,
   "metadata": {},
   "outputs": [],
   "source": [
    "# What do you need to give bool() to return False rather than True?\n"
   ]
  },
  {
   "cell_type": "markdown",
   "metadata": {},
   "source": [
    "### Strings\n",
    "\n",
    "Strings in Python are created with single or double quotes. Generally, they are used to represent text."
   ]
  },
  {
   "cell_type": "markdown",
   "metadata": {},
   "source": [
    "Python has many extremely useful functions and methods you can use on strings. Here are a few of them:\n"
   ]
  },
  {
   "cell_type": "code",
   "execution_count": 21,
   "metadata": {},
   "outputs": [],
   "source": [
    "message = 'Welcome to python!'\n",
    "response = 'But where are the snakes?'"
   ]
  },
  {
   "cell_type": "code",
   "execution_count": 13,
   "metadata": {},
   "outputs": [
    {
     "data": {
      "text/plain": [
       "18"
      ]
     },
     "execution_count": 13,
     "metadata": {},
     "output_type": "execute_result"
    }
   ],
   "source": [
    "# length of string\n",
    "\n",
    "len(message)"
   ]
  },
  {
   "cell_type": "code",
   "execution_count": 15,
   "metadata": {},
   "outputs": [
    {
     "data": {
      "text/plain": [
       "'WELCOME TO PYTHON!'"
      ]
     },
     "execution_count": 15,
     "metadata": {},
     "output_type": "execute_result"
    }
   ],
   "source": [
    "# Make all characters upper-case. See also str.lower()\n",
    "\n",
    "message.upper()"
   ]
  },
  {
   "cell_type": "code",
   "execution_count": 16,
   "metadata": {},
   "outputs": [
    {
     "data": {
      "text/plain": [
       "'Welcome to python!'"
      ]
     },
     "execution_count": 16,
     "metadata": {},
     "output_type": "execute_result"
    }
   ],
   "source": [
    "# Capitalize the first character. See also str.title() - what is the difference?\n",
    "\n",
    "message.capitalize()"
   ]
  },
  {
   "cell_type": "code",
   "execution_count": 22,
   "metadata": {},
   "outputs": [
    {
     "data": {
      "text/plain": [
       "'Welcome to python!But where are the snakes?'"
      ]
     },
     "execution_count": 22,
     "metadata": {},
     "output_type": "execute_result"
    }
   ],
   "source": [
    "# concatenation with +\n",
    "\n",
    "message + response"
   ]
  },
  {
   "cell_type": "code",
   "execution_count": 23,
   "metadata": {},
   "outputs": [
    {
     "data": {
      "text/plain": [
       "'Welcome to python! BUT WHERE ARE THE SNAKES?'"
      ]
     },
     "execution_count": 23,
     "metadata": {},
     "output_type": "execute_result"
    }
   ],
   "source": [
    "# concatenation with + and add a space\n",
    "\n",
    "message.capitalize() + ' ' + response.upper()"
   ]
  },
  {
   "cell_type": "markdown",
   "metadata": {},
   "source": [
    "``Split()`` breaks a string up into pieces - the default delimiter is a space \" \", but you can change this to whatever character you want.\n",
    "\n",
    "Note that the output is a ``list`` of strings."
   ]
  },
  {
   "cell_type": "code",
   "execution_count": 25,
   "metadata": {},
   "outputs": [
    {
     "data": {
      "text/plain": [
       "['Welc', 'me t', ' pyth', 'n!']"
      ]
     },
     "execution_count": 25,
     "metadata": {},
     "output_type": "execute_result"
    }
   ],
   "source": [
    "message.split()\n",
    "message.split('o')"
   ]
  },
  {
   "cell_type": "markdown",
   "metadata": {},
   "source": [
    "We can make strings from other data types with `str()`"
   ]
  },
  {
   "cell_type": "code",
   "execution_count": null,
   "metadata": {},
   "outputs": [],
   "source": [
    "a = 3.75\n",
    "b = str(a)\n",
    "b"
   ]
  },
  {
   "cell_type": "markdown",
   "metadata": {},
   "source": [
    "But we cannot make all other data types from strings"
   ]
  },
  {
   "cell_type": "code",
   "execution_count": null,
   "metadata": {},
   "outputs": [],
   "source": [
    "a = 'hello'\n",
    "b= float(a)"
   ]
  },
  {
   "cell_type": "markdown",
   "metadata": {},
   "source": [
    "**Excercise 2:** Make a sentence string for end date of Python 2 by combining two strings and a number. *Hint: you can only combine strings.*"
   ]
  },
  {
   "cell_type": "code",
   "execution_count": null,
   "metadata": {},
   "outputs": [],
   "source": [
    "python = 'Python 2 support ended in '\n",
    "year = 2020\n",
    "note = ' move to Python 3 already!'\n",
    "\n",
    "# your code here\n",
    "sentence = python + str(year) + note\n",
    "sentence"
   ]
  },
  {
   "cell_type": "markdown",
   "metadata": {},
   "source": [
    "**Excercise 3:** Create a variable called ``filename`` that is a string that includes the model, model number, country, date, and file type. Separate the model, model number, country, and date with a dash '-'."
   ]
  },
  {
   "cell_type": "code",
   "execution_count": 29,
   "metadata": {},
   "outputs": [
    {
     "data": {
      "text/plain": [
       "'MetMod-3-USA-19970213.csv'"
      ]
     },
     "execution_count": 29,
     "metadata": {},
     "output_type": "execute_result"
    }
   ],
   "source": [
    "model = 'MetMod'\n",
    "model_no = 3\n",
    "country = \"USA\"\n",
    "date = '19970213'\n",
    "filetype = '.csv'"
   ]
  },
  {
   "cell_type": "markdown",
   "metadata": {
    "slideshow": {
     "slide_type": "slide"
    }
   },
   "source": [
    "## Lists\n",
    "Lists are the basic *ordered* and *mutable* data collection type in Python.\n",
    "\n",
    "**Ordered**: the elements in the list have an order.\n",
    "\n",
    "**Mutable**: the order or value of the elements within a list can be changed."
   ]
  },
  {
   "cell_type": "code",
   "execution_count": 30,
   "metadata": {},
   "outputs": [],
   "source": [
    "a = [1, 3, 5, 7]"
   ]
  },
  {
   "cell_type": "markdown",
   "metadata": {
    "slideshow": {
     "slide_type": "skip"
    }
   },
   "source": [
    "Lists have a number of useful properties and methods available to them."
   ]
  },
  {
   "cell_type": "code",
   "execution_count": 31,
   "metadata": {
    "slideshow": {
     "slide_type": "fragment"
    }
   },
   "outputs": [
    {
     "data": {
      "text/plain": [
       "4"
      ]
     },
     "execution_count": 31,
     "metadata": {},
     "output_type": "execute_result"
    }
   ],
   "source": [
    "# Length of a list\n",
    "len(a)"
   ]
  },
  {
   "cell_type": "code",
   "execution_count": 32,
   "metadata": {},
   "outputs": [
    {
     "data": {
      "text/plain": [
       "[1, 3, 5, 7, 11]"
      ]
     },
     "execution_count": 32,
     "metadata": {},
     "output_type": "execute_result"
    }
   ],
   "source": [
    "# Append a value to the end\n",
    "a.append(11)\n",
    "a"
   ]
  },
  {
   "cell_type": "code",
   "execution_count": null,
   "metadata": {},
   "outputs": [],
   "source": [
    "# Addition concatenates lists\n",
    "a + [13, 17, 19]"
   ]
  },
  {
   "cell_type": "code",
   "execution_count": null,
   "metadata": {},
   "outputs": [],
   "source": [
    "# sort() method sorts in-place\n",
    "b = [2, 5, 1, 6, 3, 4]\n",
    "b.sort()\n",
    "b"
   ]
  },
  {
   "cell_type": "markdown",
   "metadata": {},
   "source": [
    "One of the powerful features of Python lists is that they can contain a mix of objects of any type, including other lists\n"
   ]
  },
  {
   "cell_type": "code",
   "execution_count": null,
   "metadata": {},
   "outputs": [],
   "source": [
    "a = [1, 'two', 3.14, [0, 3, 5]]\n",
    "\n",
    "print(a)"
   ]
  },
  {
   "cell_type": "code",
   "execution_count": null,
   "metadata": {},
   "outputs": [],
   "source": [
    "b = [20, 'cabbage', a]\n",
    "\n",
    "print(b)"
   ]
  },
  {
   "cell_type": "markdown",
   "metadata": {},
   "source": [
    "This flexibility is a consequence of Python's dynamic type system. Creating such a mixed sequence in a statically-typed language like C can be much more of a headache! Such type flexibility is an essential piece of what makes Python code relatively quick and easy to write."
   ]
  },
  {
   "cell_type": "markdown",
   "metadata": {},
   "source": [
    "### List indexing and slicing\n",
    "\n",
    "You can access specific elements within compound data types like lists through indexing (for single elements) and slicing (for multiple elements).\n"
   ]
  },
  {
   "cell_type": "code",
   "execution_count": null,
   "metadata": {},
   "outputs": [],
   "source": [
    "a = [2, 3, 5, 7, 11]"
   ]
  },
  {
   "cell_type": "markdown",
   "metadata": {},
   "source": [
    "Python uses zero-based indexing, so the first element of the list is actually the zeroth - you can access it using the following syntax:\n"
   ]
  },
  {
   "cell_type": "code",
   "execution_count": null,
   "metadata": {},
   "outputs": [],
   "source": [
    "a[0]"
   ]
  },
  {
   "cell_type": "markdown",
   "metadata": {},
   "source": [
    "What does the following code return?"
   ]
  },
  {
   "cell_type": "code",
   "execution_count": null,
   "metadata": {},
   "outputs": [],
   "source": [
    "a[1]"
   ]
  },
  {
   "cell_type": "markdown",
   "metadata": {},
   "source": [
    "Elements at the end of the list can be accessed with negative numbers, starting from -1:\n"
   ]
  },
  {
   "cell_type": "code",
   "execution_count": null,
   "metadata": {},
   "outputs": [],
   "source": [
    "a[-1]"
   ]
  },
  {
   "cell_type": "code",
   "execution_count": 35,
   "metadata": {},
   "outputs": [
    {
     "data": {
      "text/plain": [
       "7"
      ]
     },
     "execution_count": 35,
     "metadata": {},
     "output_type": "execute_result"
    }
   ],
   "source": [
    "a[-2]"
   ]
  },
  {
   "cell_type": "markdown",
   "metadata": {},
   "source": [
    "You can also use the ``index()`` method to access an item in a list."
   ]
  },
  {
   "cell_type": "code",
   "execution_count": null,
   "metadata": {},
   "outputs": [],
   "source": [
    "x=[1,2,3,3,3,4,5]\n",
    "x.index(3)"
   ]
  },
  {
   "cell_type": "markdown",
   "metadata": {},
   "source": [
    "You can visualize this indexing scheme this way:"
   ]
  },
  {
   "cell_type": "markdown",
   "metadata": {},
   "source": [
    "![List Indexing Figure](../figures/list-indexing.jpeg)"
   ]
  },
  {
   "cell_type": "markdown",
   "metadata": {},
   "source": [
    "Here values in the list are represented by large numbers in the squares; list indices are represented by small numbers above and below. In this case, L[2] returns 5, because that is the next value at index 2.\n",
    "\n",
    "Where **indexing** is a means of fetching a **single value** from the list, **slicing** is a means of accessing **multiple** values in sub-lists. Slicing uses a colon to indicate the start point (inclusive) and end point (non-inclusive) of the sub-array. For example, to get the first three elements of the list, we can write:\n"
   ]
  },
  {
   "cell_type": "code",
   "execution_count": null,
   "metadata": {},
   "outputs": [],
   "source": [
    "a[0:3]"
   ]
  },
  {
   "cell_type": "markdown",
   "metadata": {},
   "source": [
    "We can equivalently write:"
   ]
  },
  {
   "cell_type": "code",
   "execution_count": null,
   "metadata": {},
   "outputs": [],
   "source": [
    "a[:3]"
   ]
  },
  {
   "cell_type": "markdown",
   "metadata": {},
   "source": [
    "Similarly, if we leave out the last index, it defaults to the length of the list. Thus, the last three elements can be accessed as follows:\n"
   ]
  },
  {
   "cell_type": "code",
   "execution_count": null,
   "metadata": {},
   "outputs": [],
   "source": [
    "a[-3:]"
   ]
  },
  {
   "cell_type": "markdown",
   "metadata": {},
   "source": [
    "Finally, it is possible to specify a third integer that represents the step size; for example, to select every second element of the list, we can write:\n"
   ]
  },
  {
   "cell_type": "code",
   "execution_count": null,
   "metadata": {},
   "outputs": [],
   "source": [
    "a[::2]  # equivalent to a[0:len(a):2]"
   ]
  },
  {
   "cell_type": "markdown",
   "metadata": {},
   "source": [
    "A particularly useful version of this is to specify a negative step, which will reverse the array:\n"
   ]
  },
  {
   "cell_type": "code",
   "execution_count": null,
   "metadata": {},
   "outputs": [],
   "source": [
    "a[::-1]"
   ]
  },
  {
   "cell_type": "markdown",
   "metadata": {},
   "source": [
    "Both indexing and slicing can be used to set elements as well as access them. The syntax is as you would expect:"
   ]
  },
  {
   "cell_type": "code",
   "execution_count": null,
   "metadata": {},
   "outputs": [],
   "source": [
    "a[0] = 100\n",
    "\n",
    "print(a)"
   ]
  },
  {
   "cell_type": "code",
   "execution_count": null,
   "metadata": {},
   "outputs": [],
   "source": [
    "a[1:4] = [55, 56]\n",
    "\n",
    "print(a)"
   ]
  },
  {
   "cell_type": "markdown",
   "metadata": {},
   "source": [
    "Let's go back to our file name from **Exercise 3** when we looked at strings."
   ]
  },
  {
   "cell_type": "code",
   "execution_count": 47,
   "metadata": {},
   "outputs": [],
   "source": [
    "filename = 'MetMod-3-USA-19970213.csv'"
   ]
  },
  {
   "cell_type": "code",
   "execution_count": 36,
   "metadata": {},
   "outputs": [
    {
     "data": {
      "text/plain": [
       "'MetMo'"
      ]
     },
     "execution_count": 36,
     "metadata": {},
     "output_type": "execute_result"
    }
   ],
   "source": [
    "# Access individual characters (zero-based indexing)\n",
    "filename[0:5]"
   ]
  },
  {
   "cell_type": "code",
   "execution_count": 43,
   "metadata": {},
   "outputs": [
    {
     "data": {
      "text/plain": [
       "'.csv'"
      ]
     },
     "execution_count": 43,
     "metadata": {},
     "output_type": "execute_result"
    }
   ],
   "source": [
    "filename[-4:]"
   ]
  },
  {
   "cell_type": "code",
   "execution_count": 46,
   "metadata": {},
   "outputs": [
    {
     "data": {
      "text/plain": [
       "'Welcome to'"
      ]
     },
     "execution_count": 46,
     "metadata": {},
     "output_type": "execute_result"
    }
   ],
   "source": [
    "# Note that spaces count as a character\n",
    "message[0:10]"
   ]
  },
  {
   "cell_type": "markdown",
   "metadata": {},
   "source": [
    "Strings are immutable. Once created, they cannot be changed:"
   ]
  },
  {
   "cell_type": "code",
   "execution_count": null,
   "metadata": {},
   "outputs": [],
   "source": [
    "s = \"0123456789\"\n",
    "\n",
    "s[0] = 1"
   ]
  },
  {
   "cell_type": "markdown",
   "metadata": {},
   "source": [
    "**Exercise 4**: Write the following lines of code."
   ]
  },
  {
   "cell_type": "code",
   "execution_count": null,
   "metadata": {},
   "outputs": [],
   "source": [
    "x = [1,10,7.5,-3,8,4,3]"
   ]
  },
  {
   "cell_type": "code",
   "execution_count": null,
   "metadata": {},
   "outputs": [],
   "source": [
    "# print the first 3 values of x\n"
   ]
  },
  {
   "cell_type": "code",
   "execution_count": null,
   "metadata": {},
   "outputs": [],
   "source": [
    "# print the last 2 values of x\n"
   ]
  },
  {
   "cell_type": "code",
   "execution_count": null,
   "metadata": {},
   "outputs": [],
   "source": [
    "# Replace the value 7.5 with 7 in x\n"
   ]
  },
  {
   "cell_type": "code",
   "execution_count": null,
   "metadata": {},
   "outputs": [],
   "source": [
    "# Sort x\n"
   ]
  },
  {
   "cell_type": "code",
   "execution_count": null,
   "metadata": {},
   "outputs": [],
   "source": [
    "# Make a new list y by reversing x\n"
   ]
  },
  {
   "cell_type": "code",
   "execution_count": null,
   "metadata": {},
   "outputs": [],
   "source": [
    "# Combine lists x and y to make a new list z\n"
   ]
  },
  {
   "cell_type": "markdown",
   "metadata": {},
   "source": [
    "**Exercise 5**: Use the variable ``filename = 'MetMod-3-USA-19970213.csv'`` to answer the following questions. *Hint: you can (optionally) use the ``split()`` method to help you*."
   ]
  },
  {
   "cell_type": "code",
   "execution_count": null,
   "metadata": {},
   "outputs": [],
   "source": [
    "# Extract the country from the file name"
   ]
  },
  {
   "cell_type": "code",
   "execution_count": null,
   "metadata": {},
   "outputs": [],
   "source": [
    "# Extract the month (from within the date) from the file name"
   ]
  },
  {
   "cell_type": "markdown",
   "metadata": {},
   "source": [
    "## Tuples\n",
    "A tuple is much like a list. It has a length and can be subset with square brackets"
   ]
  },
  {
   "cell_type": "code",
   "execution_count": null,
   "metadata": {},
   "outputs": [],
   "source": [
    "y = (1,2,3)\n",
    "print(len(y))"
   ]
  },
  {
   "cell_type": "code",
   "execution_count": null,
   "metadata": {},
   "outputs": [],
   "source": [
    "y[0]"
   ]
  },
  {
   "cell_type": "markdown",
   "metadata": {},
   "source": [
    "The difference is that tuples are *immutable* so cannot be changed in any way "
   ]
  },
  {
   "cell_type": "code",
   "execution_count": null,
   "metadata": {},
   "outputs": [],
   "source": [
    "y[0] = 100"
   ]
  },
  {
   "cell_type": "markdown",
   "metadata": {},
   "source": [
    "This may seem like a limitation but is in fact very useful if you don't want to accidently change something, like a list of constants. Tuples  are faster than lists and can be used in dictionaries, while lists can't."
   ]
  },
  {
   "cell_type": "markdown",
   "metadata": {},
   "source": [
    "## Dictionaries\n",
    "Dictionaries are extremely flexible mappings of keys to values, and form the basis of much of Python's internal implementation.\n",
    "They can be created via a comma-separated list of ``key:value`` pairs within curly braces:"
   ]
  },
  {
   "cell_type": "code",
   "execution_count": null,
   "metadata": {},
   "outputs": [],
   "source": [
    "colors = {'blue':[0,0,1], 'red':[1,0,0], 'green':[0,1,0]}\n",
    "# or\n",
    "colors = dict(blue = [0,0,1], red = [1,0,0], green = [0,1,0])"
   ]
  },
  {
   "cell_type": "markdown",
   "metadata": {},
   "source": [
    "Items are accessed and set via the indexing syntax used for lists and tuples, except here the index is not a zero-based order but valid key in the dictionary:"
   ]
  },
  {
   "cell_type": "code",
   "execution_count": null,
   "metadata": {},
   "outputs": [],
   "source": [
    "# Access a value via the key\n",
    "colors['blue']"
   ]
  },
  {
   "cell_type": "markdown",
   "metadata": {},
   "source": [
    "New items can be added to the dictionary using indexing as well:"
   ]
  },
  {
   "cell_type": "code",
   "execution_count": null,
   "metadata": {},
   "outputs": [],
   "source": [
    "# Set a new key:value pair\n",
    "colors['purple'] = [1,1,0]\n",
    "print(colors)"
   ]
  },
  {
   "cell_type": "markdown",
   "metadata": {},
   "source": [
    "**Excercise 6:** Dictionaries"
   ]
  },
  {
   "cell_type": "code",
   "execution_count": null,
   "metadata": {},
   "outputs": [],
   "source": [
    "# Make a dictionary with key:value pairs pi=3.14 e=2.72 and g=9.81\n"
   ]
  },
  {
   "cell_type": "code",
   "execution_count": null,
   "metadata": {},
   "outputs": [],
   "source": [
    "# Add the key:value pair tau=6.28\n"
   ]
  },
  {
   "cell_type": "code",
   "execution_count": null,
   "metadata": {},
   "outputs": [],
   "source": [
    "# Add the key:value pair foo='bar'\n"
   ]
  },
  {
   "cell_type": "markdown",
   "metadata": {},
   "source": [
    "## Control Flow\n",
    "* Without *Control flow*, a program is simply a list of statements that are sequentially executed.\n",
    "* With control flow, you can execute certain code blocks conditionally and/or repeatedly.\n",
    "* Basic building blocks are:\n",
    "    - *conditional statements* (including \"``if``\", \"``elif``\", and \"``else``\")\n",
    "    - *loop statements* (including \"``for``\" and \"``while``\" and the accompanying \"``break``\", \"``continue``\", and \"``pass``\")."
   ]
  },
  {
   "cell_type": "markdown",
   "metadata": {},
   "source": [
    "## Conditional Statements: ``if``-``elif``-``else``:\n",
    "**Conditional statements**, often referred to as ``if-then`` statements, allow the programmer to execute certain pieces of code depending on some condition.\n",
    "\n",
    "Note the use of **colons (``:``)** to end an if statement and **indentation** to mark code within the statement! These must be present or you will get a syntax error."
   ]
  },
  {
   "cell_type": "code",
   "execution_count": null,
   "metadata": {},
   "outputs": [],
   "source": [
    "foo = 7 # Try changing foo to something else, what happens when you run the cell?\n",
    "\n",
    "# The 'if' statment will set a condition, and if the condition is met, it will print 'Condition satisfied'\n",
    "if foo == 'bar':\n",
    "    print('Condition satisfied')"
   ]
  },
  {
   "cell_type": "markdown",
   "metadata": {},
   "source": [
    "We can test for multiple conditions with `elif`:"
   ]
  },
  {
   "cell_type": "code",
   "execution_count": null,
   "metadata": {},
   "outputs": [],
   "source": [
    "x = -15\n",
    "\n",
    "# If x is equal to zero print x, \"is zero\"\n",
    "if x == 0:\n",
    "    print(x, \"is zero\")\n",
    "    \n",
    "# Otherwise if x is greater than zero, print x, \"is positive\"\n",
    "elif x > 0:\n",
    "    print(x, \"is positive\")\n",
    "    \n",
    "# Otherwise print x, \"is negative\"\n",
    "else:\n",
    "    print(x, \"is negative\")"
   ]
  },
  {
   "cell_type": "markdown",
   "metadata": {},
   "source": [
    "You can also use **boolean operators** to test for conditions. Boolean operators include: ``and``, ``or``, and ``not``. These are called boolean operators because the \"pieces\" on either side of the operator must return a ``True`` or ``False``."
   ]
  },
  {
   "cell_type": "code",
   "execution_count": 55,
   "metadata": {},
   "outputs": [
    {
     "name": "stdout",
     "output_type": "stream",
     "text": [
      "12\n"
     ]
    }
   ],
   "source": [
    "x = 12\n",
    "if x > 10 or x < 2 and not x==5:\n",
    "    print(x)"
   ]
  },
  {
   "cell_type": "code",
   "execution_count": null,
   "metadata": {},
   "outputs": [],
   "source": [
    "x = 15\n",
    "if x % 3 == 0 or x < 0:\n",
    "    print(x, \"is either negative or divisible by 3.\")"
   ]
  },
  {
   "cell_type": "markdown",
   "metadata": {},
   "source": [
    "Try tesing the above with different values of x!"
   ]
  },
  {
   "cell_type": "markdown",
   "metadata": {},
   "source": [
    "**Excercise 7:** Conditional Statements"
   ]
  },
  {
   "cell_type": "markdown",
   "metadata": {},
   "source": [
    "**7.1** Write an if statement that prints confirmation if x is greater than or equal to 10."
   ]
  },
  {
   "cell_type": "code",
   "execution_count": null,
   "metadata": {},
   "outputs": [],
   "source": [
    "x = 12.5"
   ]
  },
  {
   "cell_type": "markdown",
   "metadata": {},
   "source": [
    "**7.2** Write an if statement that prints confirmation if x is both a string and has length shorter than 12. *Hint: use the function ``type()``*"
   ]
  },
  {
   "cell_type": "code",
   "execution_count": null,
   "metadata": {},
   "outputs": [],
   "source": [
    "x = 'hello world'"
   ]
  },
  {
   "cell_type": "markdown",
   "metadata": {},
   "source": [
    "**Challenge:** Write a series of ``if`` statements that can convert a variable representing the temperature into Kelvin from either Farenheit or Celsius, given the starting unit.\n",
    "\n",
    "Guidelines:\n",
    "* Have your code print the calculated results.\n",
    "* Have your code print an error message if the variable is not a number (i.e., not an int, or float).\n",
    "\n",
    "Some tips:\n",
    "* Your ``if`` statements should first check the unit given to know which formula to implement. For example, if the unit is 'C', we know to use the formula T+273.15. If the unit is 'F', then you will use the formula (T-32)*5/9+273.15."
   ]
  },
  {
   "cell_type": "code",
   "execution_count": 58,
   "metadata": {},
   "outputs": [],
   "source": [
    "T = 15\n",
    "unit = 'C'"
   ]
  },
  {
   "cell_type": "markdown",
   "metadata": {},
   "source": [
    "##  ``Try `` and  ``Except ``"
   ]
  },
  {
   "cell_type": "markdown",
   "metadata": {},
   "source": [
    "Sometimes, we get errors in our code, which stop it running successfully. We can use try and except blocks to avoid this. The try block executes the program and if the program fails, exception is raised and we can recover from the error."
   ]
  },
  {
   "cell_type": "code",
   "execution_count": null,
   "metadata": {},
   "outputs": [],
   "source": [
    "num = 5.7\n",
    "\n",
    "# Try to create a number out of a string\n",
    "try:\n",
    "    int(num)\n",
    "    \n",
    "# Raise an error if something goes wrong    \n",
    "except ValueError:\n",
    "    print(\"ValueError.\\nPlease use digits in your string.\")\n"
   ]
  },
  {
   "cell_type": "markdown",
   "metadata": {},
   "source": [
    "``Try`` and ``Except`` are particularly useful when you are using loops (the next section!) and want to continue your code even if it ran into an error."
   ]
  },
  {
   "cell_type": "code",
   "execution_count": 61,
   "metadata": {},
   "outputs": [
    {
     "name": "stdout",
     "output_type": "stream",
     "text": [
      "5\n"
     ]
    },
    {
     "data": {
      "text/plain": [
       "[3, 6.2, 2, 6, 4.3, 7.2]"
      ]
     },
     "execution_count": 61,
     "metadata": {},
     "output_type": "execute_result"
    }
   ],
   "source": [
    "# Example dataset\n",
    "data = [1,4.2,0,4,'invalid',2.3,5.2]\n",
    "\n",
    "# Empty list to store processed data\n",
    "processed_data = []\n",
    "i = 0\n",
    "for data_pt in data:\n",
    "    i+=1\n",
    "    try:\n",
    "        processed_data.append(data_pt+2)\n",
    "    except:\n",
    "        print(i)"
   ]
  },
  {
   "cell_type": "markdown",
   "metadata": {},
   "source": [
    "## ``for`` loops\n",
    "Loops in Python are a way to repeatedly execute some code on every element within some defined collection.\n",
    "\n",
    "A basic ``for`` loop generally has 3 components:\n",
    "\n",
    "1. The **iterator variable**, which takes on the value of every item in the iterable\n",
    "2. The **iterable**, the collection of *things* you are iterating through\n",
    "3. The code you are executing on the items in the iterable.\n",
    "\n",
    "How can I tell how many iterations a ``for`` loop will do?"
   ]
  },
  {
   "cell_type": "code",
   "execution_count": null,
   "metadata": {},
   "outputs": [],
   "source": [
    "# N is the iterator variable; it takes on the value \n",
    "# [1, 2, 3, 4, 5] is the iterable\n",
    "# print(N*2) is the code being executed on all the items in the iterable\n",
    "for N in [1, 2, 3, 4, 5]: \n",
    "    print(N*2)"
   ]
  },
  {
   "cell_type": "markdown",
   "metadata": {},
   "source": [
    "One of the most commonly-used iterators in Python is the ``range`` object, which generates a sequence of numbers:\n",
    "``range(start, stop, step)`` "
   ]
  },
  {
   "cell_type": "code",
   "execution_count": null,
   "metadata": {},
   "outputs": [],
   "source": [
    "for i in range(10):   # Here we have replaced 'N' with 'i'. You can use whatever name you wish\n",
    "    print(i)"
   ]
  },
  {
   "cell_type": "code",
   "execution_count": null,
   "metadata": {},
   "outputs": [],
   "source": [
    "for i in range(10,0,-2):\n",
    "    print(i)"
   ]
  },
  {
   "cell_type": "markdown",
   "metadata": {},
   "source": [
    "It is also common to iterate through items in **lists**:"
   ]
  },
  {
   "cell_type": "code",
   "execution_count": 56,
   "metadata": {},
   "outputs": [
    {
     "name": "stdout",
     "output_type": "stream",
     "text": [
      "<class 'str'>\n",
      "<class 'int'>\n",
      "<class 'list'>\n",
      "<class 'float'>\n"
     ]
    }
   ],
   "source": [
    "my_list = ['asdf',14,[0,1,2],3.1415]\n",
    "\n",
    "for item in my_list:\n",
    "    print(type(item))"
   ]
  },
  {
   "cell_type": "markdown",
   "metadata": {},
   "source": [
    "Loops are incredibly useful for generating and processing datasets. Some functions that are frequently used in loops are **appending** and **counters**."
   ]
  },
  {
   "cell_type": "markdown",
   "metadata": {},
   "source": [
    "In this example, the following code calculates the mean of each row of data and then appends it into a new dataset, a variable we've called ``processed_dataset``."
   ]
  },
  {
   "cell_type": "code",
   "execution_count": 64,
   "metadata": {},
   "outputs": [
    {
     "name": "stdout",
     "output_type": "stream",
     "text": [
      "[2.0, 1.6666666666666667, 1.3333333333333333, 2.3333333333333335, 1.6666666666666667]\n"
     ]
    }
   ],
   "source": [
    "# Example of processing data\n",
    "\n",
    "# Our data\n",
    "dataset = [[1,2,3],[3,1,1],[2,1,1],[3,2,2],[2,1,2]]\n",
    "\n",
    "# Empty list to put processed data into\n",
    "processed_dataset = []\n",
    "\n",
    "# For loop to interate through each row in dataset\n",
    "for row in dataset:\n",
    "    \n",
    "    # Calculate the mean\n",
    "    row_mean = sum(row)/len(row)\n",
    "    \n",
    "    # Add the mean to the new processed_dataset\n",
    "    processed_dataset.append(row_mean)\n",
    "    \n",
    "print(processed_dataset)"
   ]
  },
  {
   "cell_type": "markdown",
   "metadata": {},
   "source": [
    "In this example, we will implement a counter to tell us which row has an error in it."
   ]
  },
  {
   "cell_type": "code",
   "execution_count": 66,
   "metadata": {},
   "outputs": [],
   "source": [
    "# Example of counter\n",
    "dataset = [[1,2,3],[3,1,'error'],[2,1,1],[3,2,2],[2,1,2]]\n",
    "# Counter\n",
    "i = 0\n",
    "\n",
    "# For loop to interate through each row in dataset\n",
    "for row in dataset:\n",
    "    \n",
    "    # Calculate the mean of the row\n",
    "    row_mean = sum(row)/len(row)\n",
    "    \n",
    "    # Increment the counter\n",
    "    i+=1\n",
    "    "
   ]
  },
  {
   "cell_type": "markdown",
   "metadata": {},
   "source": [
    "**Excercise: ``for`` loops**"
   ]
  },
  {
   "cell_type": "code",
   "execution_count": null,
   "metadata": {},
   "outputs": [],
   "source": [
    "# Write a for loop to print the first 5 numbers of the 7 times table\n"
   ]
  },
  {
   "cell_type": "code",
   "execution_count": null,
   "metadata": {},
   "outputs": [],
   "source": [
    "# Write a for loop for the range 1 to 10 that only prints the even numbers\n",
    "# hint: use an if statement in the for loop\n"
   ]
  },
  {
   "cell_type": "code",
   "execution_count": null,
   "metadata": {},
   "outputs": [],
   "source": [
    "# Write a for loop that iterates through each month of the year (0 to 12) and tells you"
   ]
  },
  {
   "cell_type": "markdown",
   "metadata": {},
   "source": [
    "**Challenge:**\n",
    "\n",
    "You have a list of file names that are identified by the dates that you conducted experiences:\n",
    "\n",
    "``file_names = ['20231024_expA.xlsx','20231006_expB.csv','20230910_expC.csv',\n",
    "                '20230814_expA.csv','20220405_expB.xlsx','20211201_expC.xlsx'\n",
    "                '20230203_expA.xlsx','20220505_expB.csv','20211102_expC.xlsx']``\n",
    "                \n",
    "Copy and paste the above ``file_names`` variable into the cell below. Then, using a ``for`` loop and ``if`` statements, write some code that prints out just the dates for which experiment A (``'expA'``) was conducted. \n",
    "\n",
    "\n",
    "* *Tip 1*: you can extract (i.e., index) the elements from a string using brackets. For example:\n",
    "\n",
    "if ``file = '20231024_expA.xlsx'``, then ``file[0:3]`` returns ``'2023'``.\n",
    "\n",
    "\n",
    "* *Tip 2*: you can use the ``in`` function to check if there is a substring within a string. For example:\n",
    "\n",
    "``if 'abc' in 'abcdef':\n",
    "    print(True)``\n",
    "    \n",
    "should return ``True``."
   ]
  },
  {
   "cell_type": "code",
   "execution_count": null,
   "metadata": {},
   "outputs": [],
   "source": [
    "file_names = ['20231024_expA.xlsx','20231006_expB.csv','20230910_expC.csv',\n",
    "                '20230814_expA.csv','20220405_expB.xlsx','20211201_expC.xlsx'\n",
    "                '20230203_expA.xlsx','20220505_expB.csv','20211102_expC.xlsx']\n",
    "for file in file_names:\n",
    "    if # Your code here"
   ]
  },
  {
   "cell_type": "markdown",
   "metadata": {},
   "source": [
    "Lots more on control flow statements and loops [here](https://github.com/ueapy/pythoncourse2019-materials/blob/master/notebooks/09-Control-Flow-Statements.ipynb)"
   ]
  },
  {
   "cell_type": "markdown",
   "metadata": {},
   "source": [
    "## Functions in Python"
   ]
  },
  {
   "cell_type": "markdown",
   "metadata": {},
   "source": [
    "To make our code reusable we make functions. Functions are useful for when you want to perform the same pieces of code multiple times in different places in your code.\n",
    "\n",
    "The basis of a function is that it takes some input(s) and creates one or more outputs.\n",
    "\n",
    "A function is created with `def` and typically takes at least one argument"
   ]
  },
  {
   "cell_type": "code",
   "execution_count": null,
   "metadata": {},
   "outputs": [],
   "source": [
    "def my_fave_language(name):\n",
    "    print(\"My favourite programming langauge is \"+name)"
   ]
  },
  {
   "cell_type": "markdown",
   "metadata": {},
   "source": [
    "We call functions using round brackets to pass them arguments."
   ]
  },
  {
   "cell_type": "code",
   "execution_count": null,
   "metadata": {},
   "outputs": [],
   "source": [
    "my_fave_language('Python')"
   ]
  },
  {
   "cell_type": "markdown",
   "metadata": {},
   "source": [
    "Functions are more useful if they can perform calculations and **return** data. For this we use the `return` statement"
   ]
  },
  {
   "cell_type": "code",
   "execution_count": 69,
   "metadata": {},
   "outputs": [],
   "source": [
    "def min_and_max(list_in):\n",
    "    minimum = min(list_in)\n",
    "    maximum = max(list_in)   \n",
    "    return minimum, maximum"
   ]
  },
  {
   "cell_type": "markdown",
   "metadata": {},
   "source": [
    "We made this function return two variables so when we call it we must supply two variable names for the results"
   ]
  },
  {
   "cell_type": "code",
   "execution_count": null,
   "metadata": {},
   "outputs": [],
   "source": [
    "numbers_list = [1, 5, -4, 100, -2.5, -7.3, 8.4, 2.66, 10]\n",
    "\n",
    "list_min, list_max = min_and_max(numbers_list)\n",
    "\n",
    "print(list_min)\n",
    "print(list_max)"
   ]
  },
  {
   "cell_type": "markdown",
   "metadata": {},
   "source": [
    "Note that variables defined within functions won't exist in your workspace. This feature can help you save memory, but can make it a little difficult to debug."
   ]
  },
  {
   "cell_type": "code",
   "execution_count": 72,
   "metadata": {},
   "outputs": [],
   "source": [
    "min_and_max([1,2,3,4])\n",
    "minimum"
   ]
  },
  {
   "cell_type": "markdown",
   "metadata": {},
   "source": [
    "**Excercise 8**\n",
    "\n",
    "**8.1** Write a function that takes a list of numbers and outputs its length and the `type` of the first value in the list\n",
    "\n",
    "hint: use `len(list_name)` and `type(list_name[0])`"
   ]
  },
  {
   "cell_type": "code",
   "execution_count": null,
   "metadata": {},
   "outputs": [],
   "source": [
    "a = [2, 6, 3, 1, 4, 5]\n",
    "# Your code here\n",
    "\n"
   ]
  },
  {
   "cell_type": "markdown",
   "metadata": {},
   "source": [
    "**Challenge**: Let's turn our temperature converter from Exercise 7 Challenge into a function! We now want to write a function that can convert any temperature into any unit we want from F, C, and K.\n",
    "* Your function should should have 3 inputs:\n",
    "    * The original temperature (``T_old``)\n",
    "    * The original temperature's unit (``unit_old``)\n",
    "    * The unit you wish to convert it into. (``unit_new``)\n",
    "* Your function should return 1 output:\n",
    "    * The converted temperature (``T_new``)\n",
    "\n",
    "Your function should still have a series of if statements that apply the correct formula based on the original temperature unit and desired temperature unit."
   ]
  },
  {
   "cell_type": "code",
   "execution_count": null,
   "metadata": {},
   "outputs": [],
   "source": [
    "# Your code here\n",
    "def temp_converter(T_old,unit_old,unit_new):\n",
    "    return T_new"
   ]
  },
  {
   "cell_type": "markdown",
   "metadata": {},
   "source": [
    "Functions can be written with *default arguments*. this is useful if you wish to call the function quickly wth a standard behaviour, but have the flexibility to change it without rewriting the function.\n",
    "\n",
    "Let's revisit our simple example from before"
   ]
  },
  {
   "cell_type": "code",
   "execution_count": null,
   "metadata": {},
   "outputs": [],
   "source": [
    "def my_fave_language(name, old_name='MATLAB'):\n",
    "    print(\"My favourite programming langauge is \"+name)\n",
    "    print(\"Previously I used \"+old_name)"
   ]
  },
  {
   "cell_type": "markdown",
   "metadata": {},
   "source": [
    "We can call this just like before by passing the first argument"
   ]
  },
  {
   "cell_type": "code",
   "execution_count": null,
   "metadata": {},
   "outputs": [],
   "source": [
    "my_fave_language('Python')"
   ]
  },
  {
   "cell_type": "markdown",
   "metadata": {},
   "source": [
    "This uses the default value of the optional argument (in this case 'MATLAB'). If we want to, we can specify the default argument too by using its name"
   ]
  },
  {
   "cell_type": "code",
   "execution_count": null,
   "metadata": {},
   "outputs": [],
   "source": [
    "my_fave_language('Python',old_name='C++')"
   ]
  },
  {
   "cell_type": "markdown",
   "metadata": {},
   "source": [
    "Here's a more useful example for calculating potential temperautre. Note the two compulsory arguments `t` and `p` and the three optional arguments `p0`, `r_d` and `c_p`. This function is a little more complicated so has a doc string in triple quotes to explain what it does."
   ]
  },
  {
   "cell_type": "code",
   "execution_count": null,
   "metadata": {},
   "outputs": [],
   "source": [
    "def calc_theta(t, p, p0=1e5, r_d=287.04, c_p=1004.5):\n",
    "    \"\"\"\n",
    "    Calculate air potential temperature\n",
    "\n",
    "    Parameters\n",
    "    ==========\n",
    "    t : air temperature (K)\n",
    "    p : air pressure (Pa)\n",
    "    \n",
    "    Optional inputs\n",
    "    ---------------\n",
    "    p0 : reference pressure (Pa), optional. Default is 1e5.\n",
    "    r_d : gas constant of air (J kg^-1 K^-1), optional. Default is 287.04.\n",
    "    c_p : specific heat capacity at a constant pressure (J kg^-1 K^-1), optional. Default is 1004.5.\n",
    "    \n",
    "    Returns\n",
    "    =======\n",
    "    theta: air potential temperature (K)\n",
    "    \"\"\"\n",
    "    theta = t * (p0 / p) **(r_d / c_p)\n",
    "    \n",
    "    return theta"
   ]
  },
  {
   "cell_type": "markdown",
   "metadata": {},
   "source": [
    "This function uses constants for air by default:"
   ]
  },
  {
   "cell_type": "code",
   "execution_count": null,
   "metadata": {},
   "outputs": [],
   "source": [
    "theta_air = calc_theta(300, 50000)\n",
    "print(theta_air)"
   ]
  },
  {
   "cell_type": "markdown",
   "metadata": {},
   "source": [
    "However, these constants can be changed if for instance we wanted to calculate potential temperature for nitrogen gas which has constants  r_d = 296.8 and c_p = 1039"
   ]
  },
  {
   "cell_type": "code",
   "execution_count": null,
   "metadata": {},
   "outputs": [],
   "source": [
    "theta_nitrogen = calc_theta(300, 50000, r_d = 296.8  ,c_p = 1039)\n",
    "print(theta_nitrogen)"
   ]
  },
  {
   "cell_type": "markdown",
   "metadata": {},
   "source": [
    "**Exercise** \n",
    "\n",
    "Write a function to calculate pressure for any depth in the ocean with the hydrostatic equation `P = rho * g * d`where `P` is pressure, `rho` is the density of seawater 1027.5 kg m<sup>-3</sup>, `g` is gravitational accceleration 9.81 m s<sup>-2</sup> and `d` is depth m.\n",
    "\n",
    "Bonus: make the function work for other planets with different gravitational accelerations and fluid densities.  Like [methane lakes on titan](https://en.wikipedia.org/wiki/Lakes_of_Titan) `g = 1.35` `rho = 572`"
   ]
  },
  {
   "cell_type": "code",
   "execution_count": null,
   "metadata": {},
   "outputs": [],
   "source": [
    "depth = 100\n",
    "# Your code here"
   ]
  },
  {
   "cell_type": "markdown",
   "metadata": {},
   "source": [
    "### Pointers and pitfalls"
   ]
  },
  {
   "cell_type": "markdown",
   "metadata": {},
   "source": [
    "Make comments with `#`. Python will not execute anything to the right hand side of a `#`"
   ]
  },
  {
   "cell_type": "code",
   "execution_count": null,
   "metadata": {},
   "outputs": [],
   "source": [
    "print(\"Python will print this\") #print(\"but not this\")\n",
    "# print(\"Python won't print this either\")"
   ]
  },
  {
   "cell_type": "markdown",
   "metadata": {},
   "source": [
    "Whitespace at the beginning of a line is important, as we have seen with control flow statements. Whitespace within a line does not matter, though it is helpful for readability"
   ]
  },
  {
   "cell_type": "code",
   "execution_count": null,
   "metadata": {},
   "outputs": [],
   "source": [
    "x = 3\n",
    "\n",
    "print(x)"
   ]
  },
  {
   "cell_type": "code",
   "execution_count": null,
   "metadata": {},
   "outputs": [],
   "source": [
    "x         =               3\n",
    "\n",
    "print(x)"
   ]
  },
  {
   "cell_type": "markdown",
   "metadata": {},
   "source": [
    "Note that Python variables are *pointers*. This is why you can change the identity of x by pointing it to whatever you want. This has a danger however.\n",
    "\n",
    "If I make a variable called `foo` as a list, I create a bucket of numbers and point `foo` at that bucket:"
   ]
  },
  {
   "cell_type": "code",
   "execution_count": null,
   "metadata": {},
   "outputs": [],
   "source": [
    "foo = [1,2,3]\n",
    "\n",
    "print(foo)"
   ]
  },
  {
   "cell_type": "markdown",
   "metadata": {},
   "source": [
    "Now I make another variable called `bar` and point it at `foo`"
   ]
  },
  {
   "cell_type": "code",
   "execution_count": null,
   "metadata": {},
   "outputs": [],
   "source": [
    "bar = foo\n",
    "print(bar)"
   ]
  },
  {
   "cell_type": "markdown",
   "metadata": {},
   "source": [
    "So far so good. What if I add another number to the list in `foo`?"
   ]
  },
  {
   "cell_type": "code",
   "execution_count": null,
   "metadata": {},
   "outputs": [],
   "source": [
    "foo.append(4)\n",
    "print(foo)"
   ]
  },
  {
   "cell_type": "code",
   "execution_count": null,
   "metadata": {},
   "outputs": [],
   "source": [
    "print(bar)"
   ]
  },
  {
   "cell_type": "markdown",
   "metadata": {},
   "source": [
    "By appending a value to the list `foo` we have altered `bar` too!"
   ]
  },
  {
   "cell_type": "markdown",
   "metadata": {},
   "source": [
    "However this normally is not a problem, as assignment with the `=` sign does not affect other variables that point at the same bucket, as you are changing the bucket:"
   ]
  },
  {
   "cell_type": "code",
   "execution_count": null,
   "metadata": {},
   "outputs": [],
   "source": [
    "x = 100\n",
    "y = x\n",
    "print(y)"
   ]
  },
  {
   "cell_type": "code",
   "execution_count": null,
   "metadata": {},
   "outputs": [],
   "source": [
    "x = 200\n",
    "print(x)"
   ]
  },
  {
   "cell_type": "code",
   "execution_count": null,
   "metadata": {},
   "outputs": [],
   "source": [
    "print(y)"
   ]
  },
  {
   "cell_type": "markdown",
   "metadata": {},
   "source": [
    "**y remains unchanged when we change x**"
   ]
  },
  {
   "cell_type": "markdown",
   "metadata": {},
   "source": [
    "In conclusion, if you are using `=` there is nothing to worry about. When using built in methods like `variable.append()` or `variable.sort()` be cautious.\n",
    "\n",
    "If you wish to make a copy of a variable with no risk of it changing if you apply an in built method to the first variable use the `copy` commmand from the copy module"
   ]
  },
  {
   "cell_type": "code",
   "execution_count": null,
   "metadata": {},
   "outputs": [],
   "source": [
    "from copy import copy\n",
    "a = [1, 2, 3]\n",
    "b = a\n",
    "c = copy(a)\n",
    "a.append(4)\n",
    "print(f\"a = {a}\")\n",
    "print(f\"b = {b}\")\n",
    "print(f\"c = {c}\")"
   ]
  },
  {
   "cell_type": "markdown",
   "metadata": {},
   "source": [
    "More on modules and how we use them in the next notebook"
   ]
  },
  {
   "cell_type": "markdown",
   "metadata": {},
   "source": [
    "------------\n",
    "### Now that we are writing code, How do we know if we're writing *pythonically?*\n",
    "It's never to early to think about writing good, clean code!\n",
    "* The most widely used style guide in Python is known as PEP8, it can be found at https://www.python.org/dev/peps/pep-0008/\n",
    "* some tools like [PyCharm](https://www.jetbrains.com/pycharm/) have integrated testers that evaluate your code for errors and formatting as you write it "
   ]
  }
 ],
 "metadata": {
  "kernelspec": {
   "display_name": "Python 3 (ipykernel)",
   "language": "python",
   "name": "python3"
  },
  "language_info": {
   "codemirror_mode": {
    "name": "ipython",
    "version": 3
   },
   "file_extension": ".py",
   "mimetype": "text/x-python",
   "name": "python",
   "nbconvert_exporter": "python",
   "pygments_lexer": "ipython3",
   "version": "3.9.12"
  },
  "vscode": {
   "interpreter": {
    "hash": "31f2aee4e71d21fbe5cf8b01ff0e069b9275f58929596ceb00d14d90e3e16cd6"
   }
  }
 },
 "nbformat": 4,
 "nbformat_minor": 2
}
