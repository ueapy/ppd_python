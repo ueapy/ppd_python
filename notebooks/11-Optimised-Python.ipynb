{
 "cells": [
  {
   "cell_type": "markdown",
   "metadata": {},
   "source": [
    "# Optimised Python"
   ]
  },
  {
   "cell_type": "markdown",
   "metadata": {},
   "source": [
    "## Vectorizing Operations\n",
    "\n",
    "In this section we will look at a few useful built in methods for making our Python code more efficient. In the following example, we will look specifically at **vectorizing operations**.\n",
    "\n",
    "**Vectorization**: to vectorize something means that instead of performing the computation individually on each element of a dataset, the computation can be performed simultaneously on the entire dataset."
   ]
  },
  {
   "cell_type": "code",
   "execution_count": 5,
   "metadata": {},
   "outputs": [],
   "source": [
    "import math\n",
    "import numpy as np\n",
    "from datetime import datetime\n",
    "%matplotlib inline\n",
    "import matplotlib.pyplot as plt"
   ]
  },
  {
   "cell_type": "markdown",
   "metadata": {},
   "source": [
    "In this example, we will use a short function that we define below.\n",
    "\n",
    "As the name suggests, `cart2pol` converts a pair of cartesian coordinates [x, y] to polar coordinates [r, phi]."
   ]
  },
  {
   "cell_type": "code",
   "execution_count": 6,
   "metadata": {},
   "outputs": [],
   "source": [
    "def cart2pol(x, y):\n",
    "    r = np.sqrt(x**2 + y**2)\n",
    "    phi = np.arctan2(y, x)\n",
    "    return(r, phi)"
   ]
  },
  {
   "cell_type": "markdown",
   "metadata": {},
   "source": [
    "<br>\n",
    "<img src=\"https://upload.wikimedia.org/wikipedia/commons/thumb/7/78/Polar_to_cartesian.svg/1024px-Polar_to_cartesian.svg.png#left\" style=\"width:300px;float: left;\"/>"
   ]
  },
  {
   "cell_type": "markdown",
   "metadata": {},
   "source": [
    "An example using the function:"
   ]
  },
  {
   "cell_type": "code",
   "execution_count": 7,
   "metadata": {},
   "outputs": [
    {
     "name": "stdout",
     "output_type": "stream",
     "text": [
      "r   =  5.0 \n",
      "phi =  0.9272952180016122\n"
     ]
    }
   ],
   "source": [
    "x = 3\n",
    "y = 4\n",
    "r, phi = cart2pol(x,y)\n",
    "\n",
    "print('r   = ',r,'\\nphi = ' ,phi)"
   ]
  },
  {
   "cell_type": "markdown",
   "metadata": {},
   "source": [
    "Now, what if we want to convert a Python `list` of multiple cartesian coordinates to polar coordinates?\n",
    "* We might think to use a `loop` that loops through both lists and performs the conversion for each x-y pair, one at a time:"
   ]
  },
  {
   "cell_type": "code",
   "execution_count": 25,
   "metadata": {},
   "outputs": [],
   "source": [
    "def cart2pol_list(list_x, list_y):\n",
    "    # Prepare empty lists for r and phi values\n",
    "    r = []\n",
    "    phi = []\n",
    "    \n",
    "    # Loop through the lists of x and y, calculating the r and phi values\n",
    "    for i in range(len(list_x)):\n",
    "        r.append(np.sqrt(list_x[i]**2 + list_y[i]**2))\n",
    "        phi.append(np.arctan2(list_y[i], list_x[i]))\n",
    "    \n",
    "    return(r, phi)"
   ]
  },
  {
   "cell_type": "markdown",
   "metadata": {},
   "source": [
    "Now, let's use our new function that we used to handle lists.\n",
    "* First, let's create a list of arbitrary x and y values."
   ]
  },
  {
   "cell_type": "code",
   "execution_count": 26,
   "metadata": {},
   "outputs": [],
   "source": [
    "# Create a range of x and y values\n",
    "x_list = [i for i in np.sin(np.arange(0,2*np.pi,0.1))]\n",
    "y_list = [i for i in np.cos(np.arange(0,2*np.pi,0.1))]"
   ]
  },
  {
   "cell_type": "markdown",
   "metadata": {},
   "source": [
    "Just as a quick visualization, these coordinates make a circle centered at [0,0]:"
   ]
  },
  {
   "cell_type": "code",
   "execution_count": 27,
   "metadata": {},
   "outputs": [
    {
     "data": {
      "image/png": "[encoded data removed]",
      "text/plain": [
       "<Figure size 216x216 with 1 Axes>"
      ]
     },
     "metadata": {
      "needs_background": "light"
     },
     "output_type": "display_data"
    }
   ],
   "source": [
    "fig, ax = plt.subplots(1, 1, figsize=(3,3))\n",
    "ax.scatter(x_list,y_list)\n",
    "plt.xlabel(\"x\")\n",
    "plt.ylabel(\"y\")\n",
    "plt.show()"
   ]
  },
  {
   "cell_type": "markdown",
   "metadata": {},
   "source": [
    "Now, let's actually convert the lists of x and y values into polar coordinates using the function we wrote specifically to handle lists, `cart2pol_list`."
   ]
  },
  {
   "cell_type": "code",
   "execution_count": 53,
   "metadata": {},
   "outputs": [],
   "source": [
    "# Convert list of x and y values to polar coordinates\n",
    "r_list, phi_list = cart2pol_list(x_list,y_list)\n",
    "\n",
    "print(r_list)\n",
    "print(phi_list)"
   ]
  },
  {
   "cell_type": "markdown",
   "metadata": {},
   "source": [
    "The function seems to work just fine! So what's the big deal?\n",
    "\n",
    "In reality, when you start working with large datasets, looping through each data point to do calculations can be incredibly inefficient. For example, in the last notebook, our dataset had:\n",
    "* 360x396 data points in the latitude and longitude dimensions\n",
    "* 5 vertical layers\n",
    "* 6 time steps\n",
    "\n",
    "Multiply all those together, and you have a total of 4,276,800 data points!\n",
    "\n",
    "How long would it take if we used a loop to convert every single one of those points into polar coordinates? Let's try it out:"
   ]
  },
  {
   "cell_type": "code",
   "execution_count": 29,
   "metadata": {},
   "outputs": [],
   "source": [
    "# Make 4,276,800 coordinate pairs to convert to polar coordinates\n",
    "x_list = [i for i in np.sin(np.linspace(0,2*np.pi,4276800))]\n",
    "y_list = [i for i in np.cos(np.linspace(0,2*np.pi,4276800))]\n",
    "\n",
    "# Use our looping function to convert:\n",
    "r_list, phi_list = cart2pol_list(x_list,y_list)"
   ]
  },
  {
   "cell_type": "markdown",
   "metadata": {},
   "source": [
    "So surely there is a better way to make our functions work for lists of inputs? Luckily, NumPy is designed to do just that!\n",
    "\n",
    "If we convert our lists to NumPy arrays, then NumPy can performed vectorized operations on them.\n",
    "\n",
    "* **To vectorize something** means that instead of performing the computation individually on each element of a dataset, the computation can be performed simultaneously on the entire dataset.\n",
    "* Vectorization is possible using NumPy because `numpy arrays` convert all data points within a data set into the **same data type**. This is not the case with lists."
   ]
  },
  {
   "cell_type": "markdown",
   "metadata": {},
   "source": [
    "But how do they perform?\n",
    "\n",
    "We can use Python's magic `%timeit` function to test this:"
   ]
  },
  {
   "cell_type": "code",
   "execution_count": 38,
   "metadata": {},
   "outputs": [
    {
     "name": "stdout",
     "output_type": "stream",
     "text": [
      "4.29 ms ± 496 µs per loop (mean ± std. dev. of 7 runs, 100 loops each)\n"
     ]
    }
   ],
   "source": [
    "%timeit cart2pol_list(x_list, y_list)"
   ]
  },
  {
   "cell_type": "markdown",
   "metadata": {},
   "source": [
    "Lastly, our original `cart2pol` actually already accepts `numpy arrays` as input - i.e., `cart2pol` already performs a vectorized computation. We can see that because the `sqrt()` and `arctan2()` functions that we use in `cart2pol` are from the NumPy package.\n",
    "\n",
    "So first, let's convert our lists into numpy arrays to prepare for vectorized operations."
   ]
  },
  {
   "cell_type": "code",
   "execution_count": 20,
   "metadata": {},
   "outputs": [],
   "source": [
    "x_nparray = np.array(x_list)\n",
    "y_nparray = np.array(y_list)"
   ]
  },
  {
   "cell_type": "markdown",
   "metadata": {},
   "source": [
    "Now, let's actually time this vectorized operation:"
   ]
  },
  {
   "cell_type": "code",
   "execution_count": 44,
   "metadata": {},
   "outputs": [
    {
     "name": "stdout",
     "output_type": "stream",
     "text": [
      "22.4 µs ± 2.52 µs per loop (mean ± std. dev. of 7 runs, 10000 loops each)\n"
     ]
    }
   ],
   "source": [
    "%timeit cart2pol(x_nparray, y_nparray)"
   ]
  },
  {
   "cell_type": "markdown",
   "metadata": {},
   "source": [
    "From our experiments with `%timeit`, we learn the following:\n",
    "- Using **`numpy functions`** directly on arrays was 1-2 orders of magnitude faster looping through a list!\n",
    "- Thus, when possible, it is more efficient to use **`numpy arrays`** than lists"
   ]
  },
  {
   "cell_type": "markdown",
   "metadata": {},
   "source": [
    "***\n",
    "***"
   ]
  },
  {
   "cell_type": "markdown",
   "metadata": {},
   "source": [
    "## Multiprocessing\n",
    "Another important consideration when code becomes computationally intensive is **multiprocessing**. Multiprocessing allows separate memory on your computer to run each process or program. Python normally runs on one core, so you won't feel the full benefit of your quad-core or greater machine. You can see this when you run a section of code. To demonstrate the effect of multiprocessing we'll need some more interesting maths:"
   ]
  },
  {
   "cell_type": "code",
   "execution_count": 46,
   "metadata": {},
   "outputs": [],
   "source": [
    "def do_maths(start=0, num=10):\n",
    "    pos = start\n",
    "    big = 1000 * 1000\n",
    "    ave = 0\n",
    "    while pos < num:\n",
    "        pos += 1\n",
    "        val = math.sqrt((pos - big) * (pos - big))\n",
    "        ave += val / num\n",
    "\n",
    "    return int(ave)"
   ]
  },
  {
   "cell_type": "code",
   "execution_count": 47,
   "metadata": {},
   "outputs": [
    {
     "name": "stdout",
     "output_type": "stream",
     "text": [
      "Done in 7.37 sec.\n"
     ]
    }
   ],
   "source": [
    "t0 = datetime.now()\n",
    "\n",
    "do_maths(num=30000000)\n",
    "\n",
    "dt = datetime.now() - t0\n",
    "print(\"Done in {:,.2f} sec.\".format(dt.total_seconds()))"
   ]
  },
  {
   "cell_type": "code",
   "execution_count": 45,
   "metadata": {},
   "outputs": [],
   "source": [
    "import multiprocessing"
   ]
  },
  {
   "cell_type": "code",
   "execution_count": 52,
   "metadata": {},
   "outputs": [],
   "source": [
    "t0 = datetime.now()\n",
    "\n",
    "pool = multiprocessing.Pool()\n",
    "processor_count = multiprocessing.cpu_count()\n",
    "# processor_count = 2 # we can Python to use a specific number of cores if desired\n",
    "\n",
    "print(f\"Computing with {processor_count} processor(s).\")\n",
    "tasks = []\n",
    "for n in range(1, processor_count + 1):\n",
    "    task = pool.apply_async(do_maths, (30000000 * (n - 1) / processor_count,\n",
    "                                      30000000 * n / processor_count))\n",
    "    \n",
    "    tasks.append(task)\n",
    "\n",
    "pool.close()\n",
    "pool.join()\n",
    "\n",
    "dt = datetime.now() - t0\n",
    "print(\"Done in {:,.2f} sec.\".format(dt.total_seconds()))\n"
   ]
  },
  {
   "cell_type": "markdown",
   "metadata": {},
   "source": [
    "Note that you can recover results stored in the task list with `get()`. This list will be in the same order as that which you used to spawn the processes:"
   ]
  },
  {
   "cell_type": "code",
   "execution_count": null,
   "metadata": {},
   "outputs": [],
   "source": [
    "for t in tasks:\n",
    "    print(t.get())"
   ]
  },
  {
   "cell_type": "markdown",
   "metadata": {},
   "source": [
    "The structure of a multiproccess call is:\n",
    "\n",
    "```python\n",
    "pool = multiprocessing.Pool() # Make a pool ready to recieve tasks\n",
    "results = [] # empty list for results\n",
    "for n in range(1, processor_count + 1): # Loop for assigning a number of tasks\n",
    "    result = pool.appy_async(function, (arguments)) # make a task by passing it a function and arguments\n",
    "    results.append(result) # when result(s) of this task are ready, append them to the list\n",
    "\n",
    "pool.close() # tell async there are no more tasks coming\n",
    "pool.join() # start running the tasks concurrently\n",
    "\n",
    "for t in results:\n",
    "    t.get() # retrieve your results, You could print or assign each result to a variable for later analysis\n",
    "```\n",
    "\n",
    "## Why can't we multithread in Python?\n",
    "\n",
    "If you have experience of other programming languages, you may wonder why we can't assign tasks to multiple threads to speed up execution (multithreading means sharing the same memory by multiple processes).\n",
    "\n",
    "We are prevented from doing this by the Global Interpreter Lock (GIL). This is a lock on the interpreter which ensures that only one thread can be in a state of execution at any one time. This is essential to protect Python's reference system that keeps track of all of the objects in memory. \n",
    "\n",
    "To get around this lock we spawn several processes which each have their own instance of the interpreter and allocated memory so cannot block one another or cause mischief with references. There's a great summary of the GIL on the [Real Python website](https://realpython.com/python-gil/).\n",
    "\n",
    "In conclusion, multithreading won't speed up your compute heavy calcualtions as only one thread can execute at any time. Use multiprocessing instead.\n",
    "\n",
    "## References\n",
    "\n",
    "Multiprocessing example adapted from [Talk Python To Me Training: async techniques](https://training.talkpython.fm/courses/details/async-in-python-with-threading-and-multiprocessing)."
   ]
  }
 ],
 "metadata": {
  "kernelspec": {
   "display_name": "Python 3",
   "language": "python",
   "name": "python3"
  },
  "language_info": {
   "codemirror_mode": {
    "name": "ipython",
    "version": 3
   },
   "file_extension": ".py",
   "mimetype": "text/x-python",
   "name": "python",
   "nbconvert_exporter": "python",
   "pygments_lexer": "ipython3",
   "version": "3.8.3"
  }
 },
 "nbformat": 4,
 "nbformat_minor": 2
}
