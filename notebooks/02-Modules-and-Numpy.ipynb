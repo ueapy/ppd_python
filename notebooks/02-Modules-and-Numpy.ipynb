{
 "cells": [
  {
   "cell_type": "markdown",
   "metadata": {},
   "source": [
    "# Modules in Python"
   ]
  },
  {
   "cell_type": "markdown",
   "metadata": {},
   "source": [
    "One of the advantages of Python that makes it so versatile for a wide range of tasks is the broad ecosystem of tools and packages that offer more specialized functionality on top of the \"bare\" Python."
   ]
  },
  {
   "cell_type": "markdown",
   "metadata": {},
   "source": [
    "## Loading Modules: the ``import`` Statement\n",
    "\n",
    "For loading built-in and third-party modules (aka packages), Python provides the ``import`` statement.\n",
    "\n",
    "Note that you will have to separately download more specialized packages using Anaconda before you can import them. Anaconda, the package manager you are using, and the **environment** you set up before the course already have some important commonly used packages installed, such as ``numpy`` and ``pandas``. These two packages are very commonly used for data analysis.\n",
    "\n",
    "#### *What's an <u>**environment**<u>?*\n",
    "\n",
    "*Environments are commonly used to create specific notebooks or workspaces that have a specific set of packages installed. For example, if I am mostly doing geospatial analysis in one notebook, I use the environment that I only have my geospatial packages downloaded into.*\n",
    "\n",
    "*Well, why wouldn't I just download all my packages to the same environment? Sometimes packages can conflict because they have dependencies - this can cause your packages to not work properly. So generally it is best to create environments where you're only downloading the packages you will use for that specific analysis. That way, if you install a conflict, you won't have to reconfigure all your packages, just the ones in that environment.*"
   ]
  },
  {
   "cell_type": "markdown",
   "metadata": {},
   "source": [
    "#### <font color='green'>Good</font>\n",
    "import <font color='green'>sys</font>\n",
    "\n",
    "from os import <font color='green'>path</font> --> import a specific function (``path``) from a package (``os``)\n",
    "\n",
    "import statistics <font color='green'>as stats</font> --> import a package, and set the prefix to all of those functions to \"stats\"\n",
    "\n",
    "from custom_package import <font color='green'>mode</font>\n",
    "\n",
    "from statistics import <font color='green'>mean, median</font>"
   ]
  },
  {
   "cell_type": "markdown",
   "metadata": {},
   "source": [
    "#### <font color='red'>Bad:</font> silently overwrites previous imports\n",
    "from math import <font color='red'><b>*</b></font>\n",
    "\n",
    "from pylab import <font color='red'><b>*</b></font>"
   ]
  },
  {
   "cell_type": "markdown",
   "metadata": {},
   "source": [
    "You can also use widgets in python. The example below (the tqdm module) gives a live progress bar as your code runs."
   ]
  },
  {
   "cell_type": "code",
   "execution_count": null,
   "metadata": {},
   "outputs": [],
   "source": [
    "from tqdm.notebook import tqdm # import the required package\n",
    "\n",
    "#then use this package in our code\n",
    "list(tqdm(range(0, 10000000, 2)))"
   ]
  },
  {
   "cell_type": "markdown",
   "metadata": {},
   "source": [
    "For today we will import the **NumPy** module. A powerful and flexible maths package"
   ]
  },
  {
   "cell_type": "code",
   "execution_count": 1,
   "metadata": {},
   "outputs": [],
   "source": [
    "import numpy as np # Because python users are too lazy to write numpy every time...\n",
    "                   # ...but also because it's more readable and succinct"
   ]
  },
  {
   "cell_type": "markdown",
   "metadata": {},
   "source": [
    "# ![](https://upload.wikimedia.org/wikipedia/commons/thumb/3/31/NumPy_logo_2020.svg/320px-NumPy_logo_2020.svg.png) \n",
    "### NumPy supports *arrays*, which are very useful to numerical computations\n",
    "* Arrays are N dimensional: 1d (vector), 2d (plane),...,N dim\n",
    "* Arrays are (generally) faster than lists, because numpy arrays can only contain one data type.\n",
    "* Many packages use numpy arrays to store data.\n",
    "* Arrays can be used to make calculations in one command, without `for` loops or list compreension\n",
    "    * This is called *vectorizing* a computation. This means you can perform a calculation on an entire array without having to loop through each individual element, like you might have to for a list.\n",
    "* There are also numpy functions for doing matrix algebra."
   ]
  },
  {
   "cell_type": "markdown",
   "metadata": {},
   "source": [
    "### Looking for help?\n",
    "\n",
    "* Documentation: http://docs.scipy.org/doc/numpy/reference/\n",
    "* Google is your friend! Especially links to Stack Overflow. You can find answers to pretty specific questions, like \"how do I create an empty array in numpy?\"\n",
    "* Use the help function (tab will show options available)"
   ]
  },
  {
   "cell_type": "code",
   "execution_count": null,
   "metadata": {
    "scrolled": true
   },
   "outputs": [],
   "source": [
    "help(len)"
   ]
  },
  {
   "cell_type": "markdown",
   "metadata": {},
   "source": [
    "### Creating an array from a list"
   ]
  },
  {
   "cell_type": "code",
   "execution_count": 29,
   "metadata": {},
   "outputs": [],
   "source": [
    "a1d = np.array([3, 4, 5, 6, 7])\n",
    "a1d"
   ]
  },
  {
   "cell_type": "code",
   "execution_count": 30,
   "metadata": {},
   "outputs": [],
   "source": [
    "a2d = np.array([[10.,20,30,40], [9,8,5,3], [1,2,3,4]])\n",
    "a2d"
   ]
  },
  {
   "cell_type": "markdown",
   "metadata": {},
   "source": [
    "Slicing works much like lists, with the different dimenstions of the array seperated by commas.\n",
    "\n",
    "Can you guess what the following slices are equal to? Print them to check your understanding."
   ]
  },
  {
   "cell_type": "code",
   "execution_count": null,
   "metadata": {},
   "outputs": [],
   "source": [
    "a2d[0,0]"
   ]
  },
  {
   "cell_type": "code",
   "execution_count": null,
   "metadata": {},
   "outputs": [],
   "source": [
    "a2d[0,1:]"
   ]
  },
  {
   "cell_type": "code",
   "execution_count": null,
   "metadata": {},
   "outputs": [],
   "source": [
    "a2d[:,2]"
   ]
  },
  {
   "cell_type": "markdown",
   "metadata": {},
   "source": [
    "You can perform element-wise operations on different NumPy arrays (or subsets of NumPy arrays), such as adding, subtracting, or multiplying together two arrays, provided they are the same shape.\n",
    "\n",
    "You can use the numpy function `shape()` to check. Remember to include the package prefix, `np.` when using the `shape()` function: ``np.shape()``"
   ]
  },
  {
   "cell_type": "code",
   "execution_count": 33,
   "metadata": {},
   "outputs": [
    {
     "data": {
      "text/plain": [
       "(3, 4)"
      ]
     },
     "execution_count": 33,
     "metadata": {},
     "output_type": "execute_result"
    }
   ],
   "source": [
    "# Check shape of a2d\n",
    "np.shape(a2d)"
   ]
  },
  {
   "cell_type": "code",
   "execution_count": 34,
   "metadata": {},
   "outputs": [
    {
     "data": {
      "text/plain": [
       "array([ 1., 12., 25., 37.])"
      ]
     },
     "execution_count": 34,
     "metadata": {},
     "output_type": "execute_result"
    }
   ],
   "source": [
    "# Subtract the second row from first row of a2d\n",
    "a2d[0,:]-a2d[1,:]"
   ]
  },
  {
   "cell_type": "code",
   "execution_count": 35,
   "metadata": {},
   "outputs": [
    {
     "data": {
      "text/plain": [
       "array([[1.0e+02, 4.0e+02, 9.0e+02, 1.6e+03],\n",
       "       [8.1e+01, 6.4e+01, 2.5e+01, 9.0e+00],\n",
       "       [1.0e+00, 4.0e+00, 9.0e+00, 1.6e+01]])"
      ]
     },
     "execution_count": 35,
     "metadata": {},
     "output_type": "execute_result"
    }
   ],
   "source": [
    "# Element-wise multiplication of a2d\n",
    "a2d*a2d"
   ]
  },
  {
   "cell_type": "code",
   "execution_count": 37,
   "metadata": {},
   "outputs": [],
   "source": [
    "# Why doesn't this work?\n",
    "a2d*a1d"
   ]
  },
  {
   "cell_type": "markdown",
   "metadata": {},
   "source": [
    "**Excercise 1.1:** Create a 2D NumPy array from the following list and assign it to the variable \"`a`\".\n",
    "\n",
    "* What dimensions does `a` have?\n",
    "* What dimensions does the first row of `a` have?\n",
    "* Subtract the second column of `a` from the last column of `a`."
   ]
  },
  {
   "cell_type": "code",
   "execution_count": 38,
   "metadata": {},
   "outputs": [],
   "source": [
    "# The list\n",
    "mylist = [[2, 3.2, 5.5, -6.4, -2.2, 2.4],[1, 22, 4, 0.1, 5.3, -9],[3, 1, 2.1, 21, 1.1, -2]]\n",
    "\n",
    "# Convert the list into a numpy array called a\n",
    "\n",
    "\n",
    "# Check the shape of a\n",
    "\n",
    "\n",
    "# Check the shape of the first column\n",
    "\n",
    "\n",
    "# Subtract the second column of a from the last column of a\n",
    "\n"
   ]
  },
  {
   "cell_type": "markdown",
   "metadata": {},
   "source": [
    "**Excercise 1.2:** Using indexes: Calculate the difference between adjacent items in a list **without** using a loop.\n",
    "\n",
    "Hint: you want to subtract the *1st* to the *second to last* elements from the *2nd* to the *last* elements."
   ]
  },
  {
   "cell_type": "code",
   "execution_count": 11,
   "metadata": {},
   "outputs": [
    {
     "data": {
      "text/plain": [
       "array([ 0,  2,  2,  4,  6, 10])"
      ]
     },
     "execution_count": 11,
     "metadata": {},
     "output_type": "execute_result"
    }
   ],
   "source": [
    "x = np.array([2,2,4,6,10,16,26])\n",
    "\n",
    "# Your code here\n"
   ]
  },
  {
   "cell_type": "markdown",
   "metadata": {},
   "source": [
    "### Array attributes"
   ]
  },
  {
   "cell_type": "code",
   "execution_count": null,
   "metadata": {},
   "outputs": [],
   "source": [
    "a2d"
   ]
  },
  {
   "cell_type": "markdown",
   "metadata": {},
   "source": [
    "#### ndarray.ndim\n",
    "the number of axes (dimensions) of the array. In NumPy, the number of dimensions is referred to as rank."
   ]
  },
  {
   "cell_type": "code",
   "execution_count": 41,
   "metadata": {},
   "outputs": [],
   "source": [
    "a2d.ndim"
   ]
  },
  {
   "cell_type": "markdown",
   "metadata": {},
   "source": [
    "#### ndarray.shape\n",
    "the dimensions of the array"
   ]
  },
  {
   "cell_type": "code",
   "execution_count": 42,
   "metadata": {},
   "outputs": [],
   "source": [
    "a2d.shape"
   ]
  },
  {
   "cell_type": "markdown",
   "metadata": {},
   "source": [
    "### Functions for creating arrays\n",
    "#### ``arange([start,] stop[, step,], dtype=None)``\n",
    "* Evenly spaced, defined by step size"
   ]
  },
  {
   "cell_type": "code",
   "execution_count": null,
   "metadata": {},
   "outputs": [],
   "source": [
    "np.arange(1, 9, 2)"
   ]
  },
  {
   "cell_type": "markdown",
   "metadata": {},
   "source": [
    "###### ``linspace(start, stop, num=50, endpoint=True, retstep=False, dtype=None)``\n",
    "* Evenly spaced, defined by length (i.e., number of points between start and stop)"
   ]
  },
  {
   "cell_type": "code",
   "execution_count": null,
   "metadata": {},
   "outputs": [],
   "source": [
    "np.linspace(0, 1, 11)   # start, end, number of points"
   ]
  },
  {
   "cell_type": "markdown",
   "metadata": {},
   "source": [
    "**Excercise 2.1**\n",
    "\n",
    "Create arrays of evenly spaced numbers."
   ]
  },
  {
   "cell_type": "code",
   "execution_count": null,
   "metadata": {},
   "outputs": [],
   "source": [
    "# Numbers from 1 to 10 in steps of 1\n"
   ]
  },
  {
   "cell_type": "code",
   "execution_count": null,
   "metadata": {},
   "outputs": [],
   "source": [
    "# From 0 to -2 in steps of -0.4\n"
   ]
  },
  {
   "cell_type": "code",
   "execution_count": null,
   "metadata": {},
   "outputs": [],
   "source": [
    "# 100 steps from - pi to pi (hint, use np.pi)\n"
   ]
  },
  {
   "cell_type": "markdown",
   "metadata": {},
   "source": [
    "####  Create array filled with zeros"
   ]
  },
  {
   "cell_type": "code",
   "execution_count": null,
   "metadata": {},
   "outputs": [],
   "source": [
    "np.zeros((2, 3))"
   ]
  },
  {
   "cell_type": "markdown",
   "metadata": {},
   "source": [
    "#### Creates array with random numbers"
   ]
  },
  {
   "cell_type": "code",
   "execution_count": null,
   "metadata": {},
   "outputs": [],
   "source": [
    "np.random.rand(4)       # From a uniform distribution beween 0 and 1"
   ]
  },
  {
   "cell_type": "code",
   "execution_count": null,
   "metadata": {},
   "outputs": [],
   "source": [
    "np.random.normal(0,1,size=4)      # Gaussian (mean,std dev, num samples)"
   ]
  },
  {
   "cell_type": "code",
   "execution_count": null,
   "metadata": {},
   "outputs": [],
   "source": [
    "np.random.randint(-10,10,size=(5,5)) # Random integers in a specified range\n",
    "# How does this function work? Try uncommenting the next line to read the documentation for this function\n",
    "#np.random.randint?"
   ]
  },
  {
   "cell_type": "markdown",
   "metadata": {},
   "source": [
    "#### Grid generation\n",
    "* A common task is to generate a pair of arrays that represent data coordinates. \n",
    "* Useful for interpolation of mapping contours.\n",
    "* When orthogonal 1D coordinate arrays already exist, NumPy's `meshgrid` function is very useful.\n",
    "    * A great explanation on how `meshgrid` works can be found [here](https://www.geeksforgeeks.org/numpy-meshgrid-function/)."
   ]
  },
  {
   "cell_type": "code",
   "execution_count": null,
   "metadata": {},
   "outputs": [],
   "source": [
    "x = np.linspace(-5, 5, 3)\n",
    "y = np.linspace(10, 40, 4)\n",
    "print(x)\n",
    "print(y)"
   ]
  },
  {
   "cell_type": "code",
   "execution_count": null,
   "metadata": {},
   "outputs": [],
   "source": [
    "x2d, y2d = np.meshgrid(x, y)\n",
    "print(x2d)"
   ]
  },
  {
   "cell_type": "code",
   "execution_count": null,
   "metadata": {},
   "outputs": [],
   "source": [
    "print(y2d)"
   ]
  },
  {
   "cell_type": "markdown",
   "metadata": {},
   "source": [
    "Transpose arays with .T"
   ]
  },
  {
   "cell_type": "code",
   "execution_count": null,
   "metadata": {},
   "outputs": [],
   "source": [
    "y2d.T"
   ]
  },
  {
   "cell_type": "markdown",
   "metadata": {},
   "source": [
    "### Statistical methods of arrays"
   ]
  },
  {
   "cell_type": "code",
   "execution_count": null,
   "metadata": {},
   "outputs": [],
   "source": [
    "print('array a1d                       :', a1d)\n",
    "print('Minimum and maximum             :', a1d.min(), a1d.max())\n",
    "print('Index of minimum and maximum    :', a1d.argmin(), a1d.argmax())\n",
    "print('Sum and product of all elements :', a1d.sum(), a1d.prod())\n",
    "print('Mean and standard deviation     :', a1d.mean(), a1d.std())\n",
    "print('Median and 75 percentile           :', np.median(a1d), np.percentile(a1d,75))"
   ]
  },
  {
   "cell_type": "markdown",
   "metadata": {},
   "source": [
    "### Operations over a given axis"
   ]
  },
  {
   "cell_type": "code",
   "execution_count": null,
   "metadata": {},
   "outputs": [],
   "source": [
    "print(a2d)\n",
    "print('sum array  :',a2d.sum())\n",
    "print('sum axis 0  :',a2d.sum(axis=0))\n",
    "print('sum axis 1 :',a2d.sum(axis=1))"
   ]
  },
  {
   "cell_type": "markdown",
   "metadata": {},
   "source": [
    "**Excercise 2.2** Using the array 'a' we created earlier, find: \n",
    "* The maximum value\n",
    "* The 90th percentile \n",
    "* The mean along axis 0\n",
    "* The sum along axis 1\n",
    "\n",
    "(If you haven't made 'a' yet uncomment and run the following cell)"
   ]
  },
  {
   "cell_type": "code",
   "execution_count": null,
   "metadata": {},
   "outputs": [],
   "source": [
    "#a = np.array([[2, 3.2, 5.5, -6.4, -2.2, 2.4],\n",
    "#              [1, 22, 4, 0.1, 5.3, -9],\n",
    "#              [3, 1, 2.1, 21, 1.1, -2]])"
   ]
  },
  {
   "cell_type": "code",
   "execution_count": null,
   "metadata": {},
   "outputs": [],
   "source": [
    "# Your code here"
   ]
  },
  {
   "cell_type": "markdown",
   "metadata": {},
   "source": [
    "### Vectorisation: operations on whole arrays"
   ]
  },
  {
   "cell_type": "code",
   "execution_count": null,
   "metadata": {},
   "outputs": [],
   "source": [
    "a = np.array([1,2,3,4])\n",
    "print(a)"
   ]
  },
  {
   "cell_type": "code",
   "execution_count": null,
   "metadata": {},
   "outputs": [],
   "source": [
    "a**2"
   ]
  },
  {
   "cell_type": "code",
   "execution_count": null,
   "metadata": {},
   "outputs": [],
   "source": [
    "np.exp(a) # e raised to the power of a"
   ]
  },
  {
   "cell_type": "code",
   "execution_count": null,
   "metadata": {},
   "outputs": [],
   "source": [
    "b = np.array([1, 10, 100, 1000])\n",
    "a*b"
   ]
  },
  {
   "cell_type": "markdown",
   "metadata": {},
   "source": [
    "All the maths we could apply to *ints*, *floats* and *complex* numbers individually we can now apply to arbitrarily large and complex *arrays* of numbers using NumPy. Let's revisit our function for calculating pressure from depth."
   ]
  },
  {
   "cell_type": "code",
   "execution_count": null,
   "metadata": {},
   "outputs": [],
   "source": [
    "def under_pressure(d,rho = 1027.5, g = 9.81):\n",
    "    P = rho*g*d\n",
    "    return P"
   ]
  },
  {
   "cell_type": "markdown",
   "metadata": {},
   "source": [
    "You cannot perform a function on an entire list:"
   ]
  },
  {
   "cell_type": "code",
   "execution_count": null,
   "metadata": {},
   "outputs": [],
   "source": [
    "depths_list = [10,20,30,40,50]\n",
    "pressures = under_pressure(depths_list)\n",
    "print(pressures)"
   ]
  },
  {
   "cell_type": "markdown",
   "metadata": {},
   "source": [
    "It is possible to loop through the elements of the list. However, for big datasets, this would take a super long time!"
   ]
  },
  {
   "cell_type": "code",
   "execution_count": null,
   "metadata": {},
   "outputs": [],
   "source": [
    "pressures=[] #create an empty list to hold the output\n",
    "depths_list = [10,20,30,40,50]\n",
    "for i in depths_list:\n",
    "    pressures.append(under_pressure(i))\n",
    "print(pressures)"
   ]
  },
  {
   "cell_type": "markdown",
   "metadata": {},
   "source": [
    "Using Python's standard data types (i.e., the list instead of NumPy's ndarray) we had to pass depths to the function one at a time to get pressures (above). With numpy we can use vectorisation to get a whole array of pressure values simply by passing an array of depths to the function!"
   ]
  },
  {
   "cell_type": "code",
   "execution_count": null,
   "metadata": {},
   "outputs": [],
   "source": [
    "depths_array = np.array([10,20,30,40,50])\n",
    "pressures = under_pressure(depths_array)\n",
    "print(pressures)"
   ]
  },
  {
   "cell_type": "markdown",
   "metadata": {},
   "source": [
    "## Shape manipulation"
   ]
  },
  {
   "cell_type": "code",
   "execution_count": null,
   "metadata": {},
   "outputs": [],
   "source": [
    "b = np.array([[1, 2, 3], [4, 5, 6]])"
   ]
  },
  {
   "cell_type": "code",
   "execution_count": null,
   "metadata": {},
   "outputs": [],
   "source": [
    "b.flatten()"
   ]
  },
  {
   "cell_type": "code",
   "execution_count": null,
   "metadata": {},
   "outputs": [],
   "source": [
    "b.reshape(3,2)"
   ]
  },
  {
   "cell_type": "code",
   "execution_count": null,
   "metadata": {},
   "outputs": [],
   "source": [
    "b.repeat(3)"
   ]
  },
  {
   "cell_type": "code",
   "execution_count": null,
   "metadata": {},
   "outputs": [],
   "source": [
    "np.tile(b,(3,2))"
   ]
  },
  {
   "cell_type": "markdown",
   "metadata": {},
   "source": [
    "## Pointers revisited\n",
    "### Copies vs. in-place operations\n",
    "\n",
    "\n",
    "From ``help(numpy)``:\n",
    "\n",
    "<code>\n",
    "Most of the functions in `numpy` return a copy of the array argument\n",
    "(e.g., `np.sort`).  In-place versions of these functions are often\n",
    "available as array methods, i.e. ``x = np.array([1,2,3]); x.sort()``.\n",
    "Exceptions to this rule are documented.\n",
    "</code>\n",
    "\n",
    "The key phrases here are **in-place** and **copy**.\n",
    "* If you want to change the original variable, or modify it **in place**, use the array methods.\n",
    "    * e.g., ``a2d.sort()``\n",
    "* If you want to keep the original variable and create a new one with the operation performed on it, use functions.\n",
    "    * e.g., ``np.sort(a2d)``"
   ]
  },
  {
   "cell_type": "code",
   "execution_count": null,
   "metadata": {},
   "outputs": [],
   "source": [
    "foo = np.array([99,98,97])\n",
    "bar = foo\n",
    "# Method sort()\n",
    "foo.sort()"
   ]
  },
  {
   "cell_type": "code",
   "execution_count": null,
   "metadata": {},
   "outputs": [],
   "source": [
    "print(foo)"
   ]
  },
  {
   "cell_type": "code",
   "execution_count": null,
   "metadata": {},
   "outputs": [],
   "source": [
    "print(bar)"
   ]
  },
  {
   "cell_type": "markdown",
   "metadata": {},
   "source": [
    "Using the built-in method `.sort()` on `foo` has changed `bar`!"
   ]
  },
  {
   "cell_type": "code",
   "execution_count": null,
   "metadata": {},
   "outputs": [],
   "source": [
    "foo = np.array([99,98,97])\n",
    "bar = foo\n",
    "# Function sort\n",
    "foo = np.sort(foo)"
   ]
  },
  {
   "cell_type": "code",
   "execution_count": null,
   "metadata": {},
   "outputs": [],
   "source": [
    "print(foo)"
   ]
  },
  {
   "cell_type": "code",
   "execution_count": null,
   "metadata": {},
   "outputs": [],
   "source": [
    "print(bar)"
   ]
  },
  {
   "cell_type": "markdown",
   "metadata": {},
   "source": [
    "However, using the function ``np.sort()``, `bar` remains unchanged!\n",
    "\n",
    "### If you are ever unsure:\n",
    "\n",
    "Preferentially use **functions** that take the form `module.function(variable)`, e.g. ` np.sort(variable)`\n",
    "\n",
    "instead of **methods** that take the form `variable.method()`, e.g. `variable.sort()`.\n",
    "\n",
    "You can also use `np.copy()` to make copies of variables just to be safe."
   ]
  },
  {
   "cell_type": "code",
   "execution_count": null,
   "metadata": {},
   "outputs": [],
   "source": [
    "foo2 = np.copy(foo)"
   ]
  }
 ],
 "metadata": {
  "kernelspec": {
   "display_name": "Python 3",
   "language": "python",
   "name": "python3"
  },
  "language_info": {
   "codemirror_mode": {
    "name": "ipython",
    "version": 3
   },
   "file_extension": ".py",
   "mimetype": "text/x-python",
   "name": "python",
   "nbconvert_exporter": "python",
   "pygments_lexer": "ipython3",
   "version": "3.8.3"
  },
  "vscode": {
   "interpreter": {
    "hash": "31f2aee4e71d21fbe5cf8b01ff0e069b9275f58929596ceb00d14d90e3e16cd6"
   }
  }
 },
 "nbformat": 4,
 "nbformat_minor": 2
}
