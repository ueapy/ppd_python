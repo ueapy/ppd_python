{
 "cells": [
  {
   "cell_type": "markdown",
   "metadata": {},
   "source": [
    "# That's all folks!"
   ]
  },
  {
   "cell_type": "markdown",
   "metadata": {},
   "source": [
    "Now is your time to look back over the notebooks and ask us about anything you're unsure of. You can experiment with different code editors or look ahead to material in the plotting and data processing courses if you wish. All the notebooks are in this folder"
   ]
  },
  {
   "cell_type": "markdown",
   "metadata": {},
   "source": [
    "---------\n",
    "### Further reading and useful resources"
   ]
  },
  {
   "cell_type": "markdown",
   "metadata": {},
   "source": [
    "Much of this short course is condensed from the UEA Cefas 3 day \"Python for data science\" course. The materials are available as jupyter notebooks [here](https://github.com/ueapy/pythoncourse2019-materials/tree/master/notebooks). You can find the Binder hosted cloud based notebooks [here](https://gke.mybinder.org/v2/gh/ueapy/pythoncourse2019-materials/master)."
   ]
  },
  {
   "cell_type": "markdown",
   "metadata": {},
   "source": [
    "-------------\n",
    "### Course evaluation (2 mins)"
   ]
  },
  {
   "cell_type": "markdown",
   "metadata": {},
   "source": [
    "Please take a moment to tell us how the course went for you. Feedback to improve it for next time would be greatly appreciated!\n",
    "\n",
    "[Feedback form link here!](https://docs.google.com/forms/d/e/1FAIpQLSdHyMSmGsk32cn7iCHAygvdJ5qZiVV4uRM6K6ZxGzt9coaC7Q/viewform?usp=sf_link)"
   ]
  },
  {
   "cell_type": "markdown",
   "metadata": {},
   "source": [
    "You can joing the UEA Python Slack group https://uea-python.slack.com/ with your UEA email.\n",
    "\n",
    "    -Weekly online code drop ins\n",
    "    \n",
    "    -online forum for code problems anytime\n",
    "   \n",
    "    -our go-figure channel. Get feedback on your python figures!"
   ]
  },
  {
   "cell_type": "code",
   "execution_count": null,
   "metadata": {},
   "outputs": [],
   "source": []
  }
 ],
 "metadata": {
  "kernelspec": {
   "display_name": "Python 3",
   "language": "python",
   "name": "python3"
  },
  "language_info": {
   "codemirror_mode": {
    "name": "ipython",
    "version": 3
   },
   "file_extension": ".py",
   "mimetype": "text/x-python",
   "name": "python",
   "nbconvert_exporter": "python",
   "pygments_lexer": "ipython3",
   "version": "3.8.3"
  }
 },
 "nbformat": 4,
 "nbformat_minor": 2
}
