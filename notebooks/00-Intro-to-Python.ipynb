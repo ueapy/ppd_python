{
 "cells": [
  {
   "cell_type": "markdown",
   "metadata": {},
   "source": [
    "# Introduction to Python"
   ]
  },
  {
   "cell_type": "markdown",
   "metadata": {},
   "source": [
    "##  Brief history and some facts"
   ]
  },
  {
   "cell_type": "markdown",
   "metadata": {},
   "source": [
    "* Created by Guido Van Rossum\n",
    "* Implementation started in December 1989, first published in February 1991"
   ]
  },
  {
   "cell_type": "markdown",
   "metadata": {},
   "source": [
    "* Python 2.0 was released in 2000 to move towards transparency and community-driven development\n",
    "* Python 2 support ended in 2020\n"
   ]
  },
  {
   "cell_type": "markdown",
   "metadata": {},
   "source": [
    "* Python 3.0 was released in 2008\n",
    "* Update to the 'modern way' of doing things\n",
    "* By fixing major flaws, it became backward-incompatible (most Python 2 code doesn't run under Python 3)\n",
    "* All essential scientific packages are ported to Python 3\n",
    "* The latest widely supported major version is **Python 3.9**. In this course, we are uing **Python 3.8**."
   ]
  },
  {
   "cell_type": "markdown",
   "metadata": {},
   "source": [
    "## Reasons to use Python"
   ]
  },
  {
   "cell_type": "markdown",
   "metadata": {},
   "source": [
    "* Free software, promotes open science\n",
    "* Very versatile \"glue\" language: interoperability with other languages and extensibility.\n",
    "* Originally developed as a teaching language, highly readable and easy to learn\"executable pseudocode\"\n",
    "* 1000s of specialist libraries for all purposes"
   ]
  },
  {
   "cell_type": "markdown",
   "metadata": {},
   "source": [
    "<img src=\"../figures/scipy-ecosystem.jpeg\" style=\"height:60%; width:60%;\">"
   ]
  },
  {
   "cell_type": "markdown",
   "metadata": {},
   "source": [
    "Strong institutional suport from\n",
    "* UK Met Office\n",
    "* British Atmospheric Data Centre (BADC)\n",
    "* Cefas\n",
    "* National Centre for Atmospheric Science (NCAS)\n",
    "* European Centre for Medium-Range Weather Forecasts (ECMRWF)\n",
    "* EUMETSAT\n",
    "* US National Center for Atmospheric Research (NCAR)\n",
    "* many-many more"
   ]
  },
  {
   "cell_type": "markdown",
   "metadata": {},
   "source": [
    "Popularity not limited to scientific computing. **No.1 on Stack Overflow as of 2019!** and shows no signs of slowing"
   ]
  },
  {
   "cell_type": "markdown",
   "metadata": {},
   "source": [
    "https://insights.stackoverflow.com/trends?tags=java%2Cc%2B%2B%2Cpython%2Cc%23%2Cjavascript%2Cphp%2Cr%2Cmatlab\n",
    "![](../figures/stack-insight.png)"
   ]
  },
  {
   "cell_type": "markdown",
   "metadata": {},
   "source": [
    "This awesome image by [Dr Katie Bouwman](https://www.theguardian.com/science/2019/apr/11/katie-bouman-black-hole-photo) and the team at Caltech\n",
    "![](../figures/black-hole.jpeg)"
   ]
  },
  {
   "cell_type": "markdown",
   "metadata": {},
   "source": [
    "And the earlier [discovery of gravitional waves](https://github.com/gwastro)"
   ]
  },
  {
   "cell_type": "markdown",
   "metadata": {},
   "source": [
    "Usage is not limited to the scientific community. Amongst other things Python powers:\n",
    "* Deep learning (AI) tools [TensorFlow](https://www.tensorflow.org/), [Keras](https://keras.io/) and [Pytorch](https://pytorch.org/)\n",
    "* [Reddit](https://www.reddit.com/)\n",
    "* [The 2018 Nobel Prize for Economics](https://paulromer.net/jupyter-mathematica-and-the-future-of-the-research-paper/)"
   ]
  },
  {
   "cell_type": "markdown",
   "metadata": {},
   "source": [
    "## Python, anaconda, spyder and Jupyter Notebooks"
   ]
  },
  {
   "cell_type": "markdown",
   "metadata": {},
   "source": [
    "**anaconda** is a data science distribution that greatly simplifies downloading and managing **Python** packages. The base installation includes several useful packages for importing, manipulating and plotting data which we will use today."
   ]
  },
  {
   "cell_type": "markdown",
   "metadata": {},
   "source": [
    "A **Jupyter Notebook** is an interactive environment for writing, running and sharing code. All the teaching materials and excercises for this course are organised in Jupyter Notebooks."
   ]
  },
  {
   "cell_type": "markdown",
   "metadata": {},
   "source": [
    "#### Notebook Cells\n",
    "\n",
    "- A Notebook is a series of \"cells\".\n",
    "- The active cell (the one you are currently using) has an outline around it.\n",
    "- You can navigate to different cells with the arrow keys.\n",
    "- A cell can be either be code, markdown, or \"raw\":\n",
    "\n",
    "    - Code\n",
    "        - Python\n",
    "        - R\n",
    "        - Julia\n",
    "        - [Many Others](https://github.com/ipython/ipython/wiki/IPython-kernels-for-other-languages)\n",
    "        \n",
    "    - Markdown cells contain plain text\n",
    "        - to add a heading to a markdown cell, use #\n",
    "        \n",
    "    - Raw cells are for converting to different formats\n",
    "        - we wont be using these here. [more info](https://nbsphinx.readthedocs.io/en/0.3.1/raw-cells.html)\n",
    "        \n",
    "- Create cells from the Notebook menu or using keyboard shortcuts.\n",
    "    - `h`: Bring up keyboard shortcuts screen.\n",
    "    - `b` Make a new cell below the current cell\n",
    "    - `x` delete current cell\n",
    "    - `Enter` To enter edit mode for the current cell (or double click it)\n",
    "    - `Ctrl`-`Enter` Run the current cell\n",
    "    - `Esc` Exit edit mode\n",
    "    - `Ctrl`-`s`: Save Notebook"
   ]
  },
  {
   "cell_type": "markdown",
   "metadata": {},
   "source": [
    "#### Other features\n",
    "- tab autocompletion, start typing something and hit tab for suggestions\n",
    "- inline documentation, type a command name followed by a question mark `open?`\n",
    "- run shell commands with \"!\" `!ls`\n",
    "- embed images and videos, load remote code and more. [More on jupyter notebooks](https://nbviewer.jupyter.org/github/ueapy/pythoncourse2019-materials/blob/master/notebooks/02-Jupyter-Notebook.ipynb)\n",
    "- Share python code with NBviewer or Binder"
   ]
  },
  {
   "cell_type": "code",
   "execution_count": 1,
   "metadata": {},
   "outputs": [
    {
     "name": "stdout",
     "output_type": "stream",
     "text": [
      "\u001b[34m$RECYCLE.BIN\u001b[m\u001b[m\r\n",
      "0-387-21710-X_6.pdf\r\n",
      "0-387-21710-X_7.pdf\r\n",
      "00-Intro-to-Python.ipynb\r\n",
      "01-Practice-Python.ipynb\r\n",
      "01Hikobia_Nakagoshi_ForestfireandNo.284.pdf\r\n",
      "02-Modules-and-Numpy.ipynb\r\n",
      "03-Wrapup-intro.ipynb\r\n",
      "0845_n_burrows_keynote.pdf\r\n",
      "1-s2.0-S0169204614001157-mmc2.docx\r\n",
      "1-s2.0-S0921800917316981-main.pdf\r\n",
      "10.1201_9781315152141-1_chapterpdf.pdf\r\n",
      "12299125_10206860985935483_3058707536814481467_n.jpg\r\n",
      "2-2Moreira.pdf\r\n",
      "2002Firehistory.pdf\r\n",
      "2011v6_3_2017_emismod_tsd_aug2016_final.pdf\r\n",
      "2022-08-23 Statement - USB Savings 8073.pdf\r\n",
      "335-Article Text-1557-1-10-20171031.pdf\r\n",
      "34-1929_Hayata.pdf\r\n",
      "386773a0.pdf\r\n",
      "57318542447__7591A235-FD2E-4959-9279-B164A056A3F3.JPG\r\n",
      "704_2018_2507_MOESM2_ESM.docx\r\n",
      "704_2018_2507_MOESM3_ESM.docx\r\n",
      "7_24_2020_Indigenous Conservation Practices Are Not A Monolith_Response to Oswald et al.pdf\r\n",
      "801481.jpg\r\n",
      "902081_813064455389960_7023690923377905760_o.jpg\r\n",
      "978-3-030-69815-7.pdf\r\n",
      "AAAR_Poster_SEC_10_16_17.pdf\r\n",
      "AH 20230119 Employer letter Student Visa.pdf\r\n",
      "AH 230922 Employer letter Student Visa.pdf\r\n",
      "ARIES DTP student profile form.docx\r\n",
      "ARIES-Continuing-TNA.docx\r\n",
      "A_1006524911242.pdf\r\n",
      "A_1009851614885.pdf\r\n",
      "BF01262026.pdf\r\n",
      "BF01867063.pdf\r\n",
      "BRA_Brazil_redo.xlsx\r\n",
      "BRP.pdf\r\n",
      "B_HUEC.0000043514.19598.23.pdf\r\n",
      "Brazil_redo.csv\r\n",
      "Brazil_redo.xlsx\r\n",
      "Brondizio and Moran 2012.pdf\r\n",
      "C Programming Session 1 v3(1).pptx\r\n",
      "Community-based_fire_managemen.pdf\r\n",
      "\u001b[34mConcentradoEstadisticas_IncendiosForestales_1970-2022\u001b[m\u001b[m\r\n",
      "Constraining_NA_Wetland_CH4_AliceHsu_v2 [Autosaved].pptx\r\n",
      "Constraining_NA_Wetland_CH4_AliceHsu_v2.pptx\r\n",
      "\u001b[34mDBCAFireHistoryDBCA_060\u001b[m\u001b[m\r\n",
      "DSC00975.JPG\r\n",
      "DSC07819_Original.jpg\r\n",
      "Deposit-Protection-Certificate - EW23888324.pdf\r\n",
      "Document de formalització de la condició de persona visitant_Alice Hsu.pdf\r\n",
      "Duffy_P_2006.pdf\r\n",
      "EDF RFP_ EU wildfire dynamics _ Final.docx\r\n",
      "EEAT Logo.png\r\n",
      "ENG-4008Y Fluids Lab Data Recording Sheets 2022-23.xlsx\r\n",
      "ENV_Risk_Assessment_Form_Oct2022.docx\r\n",
      "EPA_ORISE_Fellowship_CY2022.pdf\r\n",
      "EU-forest-fires.pdf\r\n",
      "EU_wildfire_dynamics_proposal_v2.docx\r\n",
      "Equal Opportunities form empty.docx\r\n",
      "Equal Opportunities form.pdf\r\n",
      "Ethics Upload.pdf\r\n",
      "Expression of interest_IfNotSecondment.docx\r\n",
      "F-A_Secondment Report_Alice_Hsu.docx\r\n",
      "F-A_Secondment_Agreement_BEN-BEN-UK_v1.docx\r\n",
      "FIRE-ADAPT_PARTB_CONFIDENTIAL.pdf\r\n",
      "\u001b[34mFWI_download\u001b[m\u001b[m\r\n",
      "FernandesBotelho2003_IJWF.pdf\r\n",
      "ForestFires-SparkingfiresmartpoliciesintheEU.pdf\r\n",
      "Forest_efor0686-009_Ascoli.pdf\r\n",
      "Forest_efor0686-009_Ascoli_EN.pdf\r\n",
      "Frederickson_Maya_MSc_2022.pdf\r\n",
      "FullSizeRender.jpg\r\n",
      "GlobalRx.png\r\n",
      "Guevaraetal_2013_Traditionalfireuse_LaPenseeFrancia.pdf\r\n",
      "HERSeijoGrayJune2012.pdf\r\n",
      "HMRC Starter-checklist_English_2021_2022.pdf\r\n",
      "HSU_JONES_Nomination Form for ARIES Associated Students 2022-3.pdf\r\n",
      "HSU_stipend-letter.pdf\r\n",
      "Health Declaration.pdf\r\n",
      "Hertz-rental-confirmation.pdf\r\n",
      "Historical_evolution_of_forest_managemen.pdf\r\n",
      "Hoffmanetal_2022_WesternCanadasnewwildfirerealityneedsanewapproachtofiremanagement.pdf\r\n",
      "How_Does_Cultural_Burning_Impact_Biodiversity.pdf\r\n",
      "Hsu A-SCI-Associate Tutor Contract 2023 01 10.xlsx\r\n",
      "Hsu, Alice-AT Contract Summary-SD 2022 10 03.pdf\r\n",
      "Hsu, Alice-AT Contract-SD 2022 10 03.xlsx\r\n",
      "Hsu, Alice-ENG-AT Contract-SD 2023 02 02.xlsx\r\n",
      "IAWF.pdf\r\n",
      "IBAMA_objective_categories.xlsx\r\n",
      "IMG_3909.HEIC\r\n",
      "IMG_3912.HEIC\r\n",
      "IMG_3912.jpg\r\n",
      "IMG_3944.PNG\r\n",
      "IMG_4150.JPG\r\n",
      "IMG_4481.jpg\r\n",
      "\u001b[34mIbama_data\u001b[m\u001b[m\r\n",
      "Info Form.docx\r\n",
      "Info Form.pdf\r\n",
      "\u001b[34mInstall Spotify.app\u001b[m\u001b[m\r\n",
      "Integrated_Fire_Management_Myers_2006.pdf\r\n",
      "Interim Review.png\r\n",
      "Johnson_2001.pdf\r\n",
      "Lewis_Aboriginal_N_AUS.pdf\r\n",
      "Liberation_hub.pdf\r\n",
      "Long_term_Rx_SW_AUS.pdf\r\n",
      "Managing_Fuels_S_AUS.pdf\r\n",
      "Martnez-Torresetal2016LaimportanciadelSistemaTradicionaldelUsodelFuego_MariposaMonarca.pdf\r\n",
      "MutsunDictionary_WarnerButlerGeary.pdf\r\n",
      "Online Railcards application form - print at home Jul 2023 Final.pdf\r\n",
      "Payroll - Timesheet for Monthly Paid Associate Tutors - UEA17.xlsx\r\n",
      "Plan ComunitarioMIF_Corazon del Valle.pdf\r\n",
      "Post-fire_vegetation_recovery_in_Portugal_based_on.pdf\r\n",
      "Presentation1.pptx\r\n",
      "Problems_and_Prospects_of_the_Forest_Industry_Deve.pdf\r\n",
      "Quick start guide to Visual Studio 2022(1).docx\r\n",
      "RX_cedarburg_SouthAfrica.pdf\r\n",
      "\u001b[34mRxWorld\u001b[m\u001b[m\r\n",
      "Rx_Arnheim_N_AUS.pdf\r\n",
      "Rx_MASTER_v2022-06-09_1979-2021.xlsx\r\n",
      "Rx_MASTER_v2022-12-12.csv\r\n",
      "Rx_debate_in_AUS.pdf\r\n",
      "Rx_in_SE_AUS.pdf\r\n",
      "Rx_in_SW_AUS.pdf\r\n",
      "SA Report Alice Hsu_signed.pdf\r\n",
      "SW_AUS.pdf\r\n",
      "Science_Festival_Budget.xlsx\r\n",
      "Self-Study-Instructions-130-190-LoupRiverTREX-2015.docx\r\n",
      "ShiskyAlencarCurranOverviewFiretropics2009.pdf\r\n",
      "SouthAfrica_FireManagementEvolution.pdf\r\n",
      "Statement_2023_4.pdf\r\n",
      "StephenJPyne_2019_FireABriefHistory.acsm\r\n",
      "Swetnam_1996_Siberia.pdf\r\n",
      "TaxReturn.pdf\r\n",
      "TemplateSlides-WP3.pptx\r\n",
      "Tengö2014ConnectingDiverseKnowledgeSyst.pdf\r\n",
      "Thesis_Full_MJONES.pdf\r\n",
      "Thumbs.db\r\n",
      "Tier 4 and Student Visa Student Worker Registration Form.docx\r\n",
      "Tier 4 and Student visa Associate Tutor Contract (excel version) (002).xlsx\r\n",
      "UEA4a.xlsx\r\n",
      "UKVI-visa.jpg\r\n",
      "University_of_East_Anglia.mobileconfig\r\n",
      "\u001b[34mVPD_download\u001b[m\u001b[m\r\n",
      "Vereda_Murundu_wetlands_2015.pdf\r\n",
      "Visiting person CTFC_Alice Hsu.docx\r\n",
      "Visiting person CTFC_Alice Hsu.pdf\r\n",
      "WF12203_SWOT.pdf\r\n",
      "Week 4 wshop notes.pdf\r\n",
      "Zotero-6.0.26.dmg\r\n",
      "adaptive_Rx_for_AUS_in_21cent.pdf\r\n",
      "bennett-et-al-2022-the-politics-of-pixels-a-review-and-agenda-for-critical-remote-sensing.pdf\r\n",
      "communities_in_flames.pdf\r\n",
      "data-to-paper-diabetes.pdf\r\n",
      "dpb-certificate.pdf\r\n",
      "el_ocote.pdf\r\n",
      "eucalyptus_AUS.pdf\r\n",
      "\u001b[34mf3635f17-32b6-4412-aa0b-84d6aa490137\u001b[m\u001b[m\r\n",
      "ffgc-03-00079.pdf\r\n",
      "fire_management_textbook_fernandes.pdf\r\n",
      "fire_regimes_AUS.pdf\r\n",
      "fireecology.0701040.pdf\r\n",
      "fpca.pdf\r\n",
      "googlechrome.dmg\r\n",
      "history-fire-KNP.pdf\r\n",
      "ignorance_production_matthew_2005.pdf\r\n",
      "indigenous_plant_use_SE_AUS.pdf\r\n",
      "linda-tuhiwai-smith-decolonizing-methodologies-research-and-indigenous-peoples.pdf\r\n",
      "mckemey-et-al-2020-a-review-of-contemporary-indigenous-cultural-fire-management-literature-in-southeast-australia_preprint.pdf\r\n",
      "mdps_profile.cer\r\n",
      "participantguide_onlinepaystub.pdf\r\n",
      "r667_part_1[1].pdf\r\n",
      "receipt_d4f27de2-2051-5eb0-a9e6-059d48d1a02e.pdf\r\n",
      "reducingmortalityfromAPinUSbytargetingspecificemissionssources.pdf\r\n",
      "rmrs_2014_stephens_s001.pdf\r\n",
      "russia_rx.pdf\r\n",
      "s10021-006-0095-0.pdf\r\n",
      "s10584-011-0060-6.pdf\r\n",
      "s10745-005-4143-8.pdf\r\n",
      "s10745-005-8211-x.pdf\r\n",
      "s11769-010-0437-x.pdf\r\n",
      "the-argonauts.pdf\r\n",
      "theoretical_FWI.png\r\n",
      "why-history-matters-in-ecology-an-interdisciplinary-perspective.pdf\r\n",
      "~$0217_EPR_Me2TsTACN_AcFcBF4_PrCN_MeCN.docx\r\n",
      "~$10169559.dotx\r\n",
      "~$1PortfolioPromptS19.docx\r\n",
      "~$311S19.docx\r\n",
      "~$Brazil_redo.xlsx\r\n",
      "~$CE 531 Final Paper.docx\r\n",
      "~$CV_NiN4(cyc).xlsx\r\n",
      "~$Classical Wave Equation template_HW2.xlsx\r\n",
      "~$Continuous Distributions STUDENT.docx\r\n",
      "~$EECE311 BEA IO-Tables 09Oct2017.xlsx\r\n",
      "~$F Personal Statement 2020.docx\r\n",
      "~$HW#6.docx\r\n",
      "~$Hwk Sheet 3 Q2(1).xlsx\r\n",
      "~$Joint Expectation - Conditional STUDENT.docx\r\n",
      "~$ODE Solver-2.xlsm\r\n",
      "~$Poster.pptx\r\n",
      "~$S Travel Grant App.docx\r\n",
      "~$Sample data_062718_AP.xlsx\r\n",
      "~$U_JONES_Nomination Form for ARIES Associated Students 2022.docx\r\n",
      "~$Weibull and Joint Distributions STUDENTS.docx\r\n",
      "~$_2 Sample Tests STUDENT.docx\r\n",
      "~$am 2 outline.doc\r\n",
      "~$atement_of_Purpose.doc\r\n",
      "~$aytsar.docx\r\n",
      "~$äulein Else-Arbeitsblatt 7(1).doc\r\n",
      "~$b 5 Fire model presentation assessments Spring 2021.docx\r\n",
      "~$bReportTemplate.docx\r\n",
      "~$cument1.docx\r\n",
      "~$default-age-distribution-tool-moves2014.xlsx\r\n",
      "~$delperformancestatisticsdefinitions.docx\r\n",
      "~$dergrad_handbook_fall_2016.doc\r\n",
      "~$er 4 and Student Visa Student Worker Registration Form.docx\r\n",
      "~$hw3.basic.carbonate.calculator.xlsx\r\n",
      "~$llaboratve Process Design Assignment(1).doc\r\n",
      "~$llabus EECE 531 Fall 2018.docx\r\n",
      "~$mework#3.docx\r\n",
      "~$mework_1_2017.docx\r\n",
      "~$new3lec9D.ppt\r\n",
      "~$r Pollution Final Exam 2021 DRAFT KEY.docx\r\n",
      "~$r-340-Luetzeler-spring-2018.doc\r\n",
      "~$rtual Onboarding Intern Computer Checklist.docx\r\n",
      "~$s2.0-S0169204614001157-mmc2.docx\r\n",
      "~$signment 4 population and risk.docx\r\n",
      "~$signment 8 hazardous and solid waste.docx\r\n"
     ]
    }
   ],
   "source": [
    "!ls"
   ]
  },
  {
   "cell_type": "markdown",
   "metadata": {},
   "source": [
    "[Spyder](https://www.spyder-ide.org/) is an Integrated Development Environment (IDE) similar to R studio or MATLAB for writing Python code. It is included with Anaconda\n",
    "\n",
    "[Pycharm](https://www.jetbrains.com/pycharm/) is a free, open source and feature rich IDE that can do just about anything. It's a little more complicated to set up but boasts autocompletion, error detection, code profiling and plugins for vim keybindings, a markdown editor and more"
   ]
  },
  {
   "cell_type": "markdown",
   "metadata": {},
   "source": [
    "Once you have **Python** installed on your computer through **anaconda** you can run python code in **Jupyter Notebooks**, **spyder, Pycharm** or straight from the command line as you prefer. Experiment with different code editors and find a setup that works for you :)"
   ]
  },
  {
   "cell_type": "markdown",
   "metadata": {},
   "source": [
    "### Running Jupyter and anaconda through ADA\n",
    "\n",
    "ADA, UEA's high-performance computing (HPC) system, comes preinstalled with conda (based on anaconda) and the Jupyter notebook package. To create and run notebooks on ADA, you can follow these instructions on the ADA software webpage on MyUEA. It is linked [here](https://my.uea.ac.uk/divisions/it-and-computing-services/service-catalogue/research-it-services/hpc/ada-cluster/ada-software). Note that you need to log into your UEA account to access this page."
   ]
  },
  {
   "cell_type": "code",
   "execution_count": null,
   "metadata": {},
   "outputs": [],
   "source": []
  }
 ],
 "metadata": {
  "kernelspec": {
   "display_name": "Python 3",
   "language": "python",
   "name": "python3"
  },
  "language_info": {
   "codemirror_mode": {
    "name": "ipython",
    "version": 3
   },
   "file_extension": ".py",
   "mimetype": "text/x-python",
   "name": "python",
   "nbconvert_exporter": "python",
   "pygments_lexer": "ipython3",
   "version": "3.8.3"
  }
 },
 "nbformat": 4,
 "nbformat_minor": 2
}
