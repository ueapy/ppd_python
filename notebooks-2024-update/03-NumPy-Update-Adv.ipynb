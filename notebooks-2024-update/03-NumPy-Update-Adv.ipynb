{
 "cells": [
  {
   "cell_type": "markdown",
   "metadata": {},
   "source": [
    "# NumPy\n",
    "---\n",
    "Notebook by Alice Hsu (Mar 2025)\n",
    "\n",
    "Concepts covered:\n",
    "* Creating arrays\n",
    "* Indexing, slicing, and changing data\n",
    "* Creating data masks\n",
    "* Methods for creating arrays\n",
    "* Methods for analyzing arrays\n",
    "* Practical with pollutant concentrations\n",
    "---"
   ]
  },
  {
   "cell_type": "markdown",
   "metadata": {},
   "source": [
    "# ![](https://upload.wikimedia.org/wikipedia/commons/thumb/3/31/NumPy_logo_2020.svg/320px-NumPy_logo_2020.svg.png) \n",
    "\n",
    "NumPy is a Python package used for handling large amounts of numerical data. It is very commonly used for working with multi-dimensional data (e.g., 2D, 3D, and even 4D and up!), such as geospatial datasets. NumPy is typically imported using the np alias:\n",
    "\n",
    "                                    import numpy as np\n",
    "\n",
    "For example, a geospatial dataset might contain data for each <span style=\"color:blue\">latitude</span>, <span style=\"color:red\">longitude</span>, and <span style=\"color:darkorange\">time step</span> - this would give you a 3D dataset, where the <span style=\"color:blue\">rows</span> represent the <span style=\"color:blue\">latitudes</span>, <span style=\"color:red\">columns</span> represent the <span style=\"color:red\">longitudes</span>, and the <span style=\"color:darkorange\">layers</span> represent the <span style=\"color:darkornage\">time steps</span>."
   ]
  },
  {
   "cell_type": "markdown",
   "metadata": {},
   "source": [
    "<img src=\"figures/data_cube.png\" style=\"height:90%; width:50%;\">"
   ]
  },
  {
   "cell_type": "code",
   "execution_count": 3,
   "metadata": {},
   "outputs": [],
   "source": [
    "import numpy as np # Because python users are too lazy to write numpy every time...\n",
    "                   # ...but also because it's more readable and succinct\n",
    "import matplotlib.pyplot as plt"
   ]
  },
  {
   "cell_type": "markdown",
   "metadata": {},
   "source": [
    "### Lists vs NumPy Arrays\n",
    "Lists and NumPy arrays seem similar at first, but they function very differently.\n",
    "\n",
    "* **Lists** can hold **different data types** at a time. However, **computations must be done on each individual element**.\n",
    "    * If a list has 100 elements, to perform an operation on everything in the list, **you have to do 100 computations**.\n",
    "* **NumPy arrays** can only hold one data type at a time. However, **computations are <u>vectorized</u>**:\n",
    "    * You can perform a mathematical operation on every element at once.\n",
    "    * If a NumPy array has 100 elements, to perform an operation on everything in the array, **you have to do only 1 computation**.\n",
    "        * Arrays are (generally) faster than lists.\n",
    "    * Many packages use NumPy arrays to store data."
   ]
  },
  {
   "cell_type": "code",
   "execution_count": 4,
   "metadata": {},
   "outputs": [
    {
     "data": {
      "text/plain": [
       "array([1, 2, 3, 4])"
      ]
     },
     "execution_count": 4,
     "metadata": {},
     "output_type": "execute_result"
    }
   ],
   "source": [
    "list_a = [1, 2, 3, 4]\n",
    "a1d = np.array(list_a)\n",
    "a1d"
   ]
  },
  {
   "cell_type": "code",
   "execution_count": 5,
   "metadata": {},
   "outputs": [
    {
     "data": {
      "text/plain": [
       "array([[10., 20., 30., 40.],\n",
       "       [ 9.,  8.,  5.,  3.],\n",
       "       [ 1.,  2.,  3.,  4.]])"
      ]
     },
     "execution_count": 5,
     "metadata": {},
     "output_type": "execute_result"
    }
   ],
   "source": [
    "a2d = np.array([[10.,20,30,40], [9,8,5,3], [1,2,3,4]])\n",
    "a2d"
   ]
  },
  {
   "cell_type": "markdown",
   "metadata": {},
   "source": [
    "Use the built-in `type()` function to check the datatype of `a1d`."
   ]
  },
  {
   "cell_type": "code",
   "execution_count": null,
   "metadata": {},
   "outputs": [],
   "source": [
    "#### YOUR CODE HERE ####\n"
   ]
  },
  {
   "cell_type": "markdown",
   "metadata": {},
   "source": [
    "Check the shape of `a2d` using the `.shape` property."
   ]
  },
  {
   "cell_type": "code",
   "execution_count": null,
   "metadata": {},
   "outputs": [],
   "source": [
    "#### YOUR CODE HERE ####\n"
   ]
  },
  {
   "cell_type": "markdown",
   "metadata": {},
   "source": [
    "The first element of a2d can be accessed using the code: `a2d[0,0]`. Check the data type of this value using the `type()` function."
   ]
  },
  {
   "cell_type": "code",
   "execution_count": null,
   "metadata": {},
   "outputs": [],
   "source": [
    "#### YOUR CODE HERE ####\n"
   ]
  },
  {
   "cell_type": "markdown",
   "metadata": {},
   "source": [
    "### Mathematical Operations on NumPy Arrays\n",
    "\n",
    "We can perform most basic mathematical functions on whole NumPy Arrays.\n",
    "\n",
    "**Perform the following operations on the NumPy array `a1d`** using the syntax written in the worksheet:\n",
    "* Multiply by 2 (`*`)\n",
    "* Divide by 2 (`/`)\n",
    "* Exponentiate by 2 (`**`)\n",
    "* Add 2 (`+`)"
   ]
  },
  {
   "cell_type": "code",
   "execution_count": null,
   "metadata": {},
   "outputs": [],
   "source": [
    "#### YOUR CODE HERE ####\n",
    "a1d"
   ]
  },
  {
   "cell_type": "code",
   "execution_count": null,
   "metadata": {},
   "outputs": [],
   "source": [
    "#### YOUR CODE HERE ####\n",
    "a1d"
   ]
  },
  {
   "cell_type": "code",
   "execution_count": null,
   "metadata": {},
   "outputs": [],
   "source": [
    "#### YOUR CODE HERE ####\n",
    "a1d"
   ]
  },
  {
   "cell_type": "code",
   "execution_count": null,
   "metadata": {},
   "outputs": [],
   "source": [
    "#### YOUR CODE HERE ####\n",
    "a1d"
   ]
  },
  {
   "cell_type": "markdown",
   "metadata": {},
   "source": [
    "You can also use **boolean operators** on NumPy arrays, such as:\n",
    "* Greater than (`>`), Greater than or equal to (`>=`)\n",
    "* Less than (`<`), Less than or equal to (`<=`)\n",
    "* Equal to (`==`)\n",
    "* Not equal to (`!=`)\n",
    "\n",
    "This concept will become useful later on when we **mask and filter** data."
   ]
  },
  {
   "cell_type": "code",
   "execution_count": 104,
   "metadata": {},
   "outputs": [
    {
     "data": {
      "text/plain": [
       "array([False, False,  True,  True])"
      ]
     },
     "execution_count": 104,
     "metadata": {},
     "output_type": "execute_result"
    }
   ],
   "source": [
    "a1d>2"
   ]
  },
  {
   "cell_type": "code",
   "execution_count": 105,
   "metadata": {},
   "outputs": [
    {
     "data": {
      "text/plain": [
       "array([False, False,  True, False])"
      ]
     },
     "execution_count": 105,
     "metadata": {},
     "output_type": "execute_result"
    }
   ],
   "source": [
    "a1d==3"
   ]
  },
  {
   "cell_type": "code",
   "execution_count": 107,
   "metadata": {
    "scrolled": true
   },
   "outputs": [
    {
     "data": {
      "text/plain": [
       "array([False,  True,  True,  True])"
      ]
     },
     "execution_count": 107,
     "metadata": {},
     "output_type": "execute_result"
    }
   ],
   "source": [
    "a1d!=1"
   ]
  },
  {
   "cell_type": "markdown",
   "metadata": {},
   "source": [
    "Multiply `list_a` by 2. How does the output differ from the output of `a1d*2`?"
   ]
  },
  {
   "cell_type": "code",
   "execution_count": 7,
   "metadata": {},
   "outputs": [],
   "source": [
    "#### YOUR CODE HERE ####\n",
    "list_a"
   ]
  },
  {
   "cell_type": "markdown",
   "metadata": {},
   "source": [
    "You can perform **element-wise operations** on different NumPy arrays (or subsets of NumPy arrays), such as adding, subtracting, or multiplying together two arrays, **provided they are the same shape**.\n",
    "\n",
    "You can check the shape of a NumPy array using the .shape\n",
    "\n",
    "For example:"
   ]
  },
  {
   "cell_type": "code",
   "execution_count": 19,
   "metadata": {},
   "outputs": [],
   "source": [
    "b1d = np.array([2,4,8,12])\n",
    "\n",
    "print(a1d+b1d)\n",
    "print(a1d*b1d)\n",
    "print(a1d**b1d)"
   ]
  },
  {
   "cell_type": "markdown",
   "metadata": {},
   "source": [
    "But we couldn't do:"
   ]
  },
  {
   "cell_type": "code",
   "execution_count": null,
   "metadata": {},
   "outputs": [],
   "source": [
    "a1d*a2d"
   ]
  },
  {
   "cell_type": "markdown",
   "metadata": {},
   "source": [
    "## Indexing and Slicing NumPy Arrays"
   ]
  },
  {
   "cell_type": "markdown",
   "metadata": {},
   "source": [
    "### Indexing"
   ]
  },
  {
   "cell_type": "markdown",
   "metadata": {},
   "source": [
    "#### 1D Arrays\n",
    "\n",
    "Slicing works much like lists, in that **indexing starts at 0**, and you can also **access things from the end via a negative index**:\n",
    "\n",
    "| Index |0|1|2|3|\n",
    "|:-------|-------|----|-------|---------|\n",
    "|`a1d`|`1`|`2`|`3`|`4`|\n",
    "|**Negative Index**|**-4**|**-3**|**-2**|**-1**|\n",
    "\n",
    "Thus, to access the last value in `a1d`, you could type `a1d[3]` or `a1d[-1]`, which would return `4`.\n",
    "\n",
    "**Some Quick Indexing Exercises in 1D**:\n",
    "\n",
    "**Access the `2` from `a1d` using both its positive and negative index.**"
   ]
  },
  {
   "cell_type": "code",
   "execution_count": null,
   "metadata": {},
   "outputs": [],
   "source": [
    "#### YOUR CODE HERE ####\n",
    "a1d[]"
   ]
  },
  {
   "cell_type": "code",
   "execution_count": null,
   "metadata": {},
   "outputs": [],
   "source": [
    "#### YOUR CODE HERE ####\n",
    "a1d[]"
   ]
  },
  {
   "cell_type": "markdown",
   "metadata": {},
   "source": [
    "#### 2D Arrays\n",
    "However, to access a value in a 2D array, you must specify **the row _and_ the column** your value is in.\n",
    "\n",
    "For example, let's access some values in `a2d`:\n",
    "\n",
    "||**0**|**1**|**2**|**3**|\n",
    "|-|:-------:|:-------:|:----:|:-------:|\n",
    "|**0**|`10.`|`20.`|`30.`|`40.`|\n",
    "|**1**|`9.`|`8.`|`5.`|`3.`|\n",
    "|**2**|`1.`|`2.`|`3.`|`4.`|\n",
    "\n",
    "To access the value `30`, in the first row and third column, you would type: `a2d[0,2]`.\n",
    "\n",
    "**Some Quick Indexing Exercises in 2D**:\n",
    "\n",
    "**How would you access the value `5` in `a2d`?**"
   ]
  },
  {
   "cell_type": "code",
   "execution_count": null,
   "metadata": {},
   "outputs": [],
   "source": [
    "#### YOUR CODE HERE ####\n",
    "a2d[]"
   ]
  },
  {
   "cell_type": "markdown",
   "metadata": {},
   "source": [
    "**Come up with two different ways to access the value `40` in `a2d`.**"
   ]
  },
  {
   "cell_type": "code",
   "execution_count": null,
   "metadata": {},
   "outputs": [],
   "source": [
    "#### YOUR CODE HERE ####\n",
    "a2d[]"
   ]
  },
  {
   "cell_type": "code",
   "execution_count": null,
   "metadata": {},
   "outputs": [],
   "source": [
    "#### YOUR CODE HERE ####\n",
    "a2d[]"
   ]
  },
  {
   "cell_type": "markdown",
   "metadata": {},
   "source": [
    "### Boolean Indexing/Masks"
   ]
  },
  {
   "cell_type": "markdown",
   "metadata": {},
   "source": [
    "Another way to extract data you want out of a NumPy array is to use a **boolean mask**.\n",
    "\n",
    "A **boolean mask** is just an array of `True` and `False`, where the locations of the `True` correspond to the data you want to extract, and the `False` correspond to the locations of the data you want to mask out.\n",
    "\n",
    "Recall the boolean operators:\n",
    "\n",
    "|Greater than|Greater than</br>or equal to|Less than|Less than</br>or equal to|Equal to|Not equal to|\n",
    "|:-:|:-:|:-:|:-:|:-:|:-:|\n",
    "|`>`|`>=`|`<`|`<=`|`==`|`!=`|\n",
    "\n",
    "You can also compound multiple boolean operators using `and` and `or`:\n",
    "\n",
    "|`and`|`or`|\n",
    "|:-:|:-:|\n",
    "|&|$|$|\n",
    "\n",
    "A simple example:\n",
    "\n",
    "Consider an array, `x`."
   ]
  },
  {
   "cell_type": "code",
   "execution_count": 13,
   "metadata": {},
   "outputs": [],
   "source": [
    "x = np.array([1,3,-3,2,8,4])"
   ]
  },
  {
   "cell_type": "markdown",
   "metadata": {},
   "source": [
    "Suppose we wanted to extract all values **less than 3**. The boolean mask would then be:"
   ]
  },
  {
   "cell_type": "code",
   "execution_count": 17,
   "metadata": {},
   "outputs": [
    {
     "data": {
      "text/plain": [
       "array([ True, False,  True,  True, False, False])"
      ]
     },
     "execution_count": 17,
     "metadata": {},
     "output_type": "execute_result"
    }
   ],
   "source": [
    "x<3"
   ]
  },
  {
   "cell_type": "markdown",
   "metadata": {},
   "source": [
    "Notice how the **boolean mask has the same shape as the data we are masking**.\n",
    "\n",
    "**Applying the mask** would then **return all the True values**, or all the values of x that are less than 3:"
   ]
  },
  {
   "cell_type": "code",
   "execution_count": 114,
   "metadata": {},
   "outputs": [
    {
     "data": {
      "text/plain": [
       "array([ 1, -3,  2])"
      ]
     },
     "execution_count": 114,
     "metadata": {},
     "output_type": "execute_result"
    }
   ],
   "source": [
    "x[x<3]"
   ]
  },
  {
   "cell_type": "markdown",
   "metadata": {},
   "source": [
    "Use a boolean mask to extract all the values in `a2d` **greater than 0 and less than 4.**"
   ]
  },
  {
   "cell_type": "code",
   "execution_count": null,
   "metadata": {},
   "outputs": [],
   "source": [
    "#### YOUR CODE HERE ####\n"
   ]
  },
  {
   "cell_type": "markdown",
   "metadata": {},
   "source": [
    "### Slicing\n",
    "\n",
    "You can also access parts, or slices, of your dataset by using the colon to specify the range you want. The colon is essentially the equivalent of saying “everything to and from” the row or column number you specify.\n",
    "\n",
    "Consider `a2d`:\n",
    "\n",
    "||**0**|**1**|**2**|**3**|\n",
    "|-|:-------:|:-------:|:----:|:-------:|\n",
    "|**0**|`10.`|`20.`|`30.`|`40.`|\n",
    "|**1**|`9.`|`8.`|`5.`|`3.`|\n",
    "|**2**|`1.`|`2.`|`3.`|`4.`|\n",
    "\n",
    "Here, `a2D[0,1:3]` would extract the values in the 0th row, in the second (index 1) and third (index 2) columns, returning `[20,30]`.\n",
    "\n",
    "Note that when you use the colon to specify a range, this range is not inclusive of the number specified on the right side - i.e., the `1:3` does not include the value with the index of 3."
   ]
  },
  {
   "cell_type": "markdown",
   "metadata": {},
   "source": [
    "**How would you access the slice containing [`20`,`30`,`40`]?**"
   ]
  },
  {
   "cell_type": "code",
   "execution_count": 9,
   "metadata": {},
   "outputs": [],
   "source": [
    "#### YOUR CODE HERE ####\n"
   ]
  },
  {
   "cell_type": "markdown",
   "metadata": {},
   "source": [
    "**How would you access the slice containing:**\n",
    "\n",
    "|||\n",
    "|-|-|\n",
    "|**`5`**|**`2`**|\n",
    "|**`3`**|**`4`**|"
   ]
  },
  {
   "cell_type": "code",
   "execution_count": 11,
   "metadata": {},
   "outputs": [],
   "source": [
    "#### YOUR CODE HERE ####\n"
   ]
  },
  {
   "cell_type": "markdown",
   "metadata": {},
   "source": [
    "**Consider a 3D array, `a3d`:**\n"
   ]
  },
  {
   "cell_type": "code",
   "execution_count": 24,
   "metadata": {},
   "outputs": [
    {
     "data": {
      "text/plain": [
       "array([[[ 10.,  20.,  30.,  40.],\n",
       "        [  9.,   8.,   5.,   3.],\n",
       "        [  1.,   2.,   3.,   4.]],\n",
       "\n",
       "       [[ 20.,  40.,  60.,  80.],\n",
       "        [ 18.,  16.,  10.,   6.],\n",
       "        [  2.,   4.,   6.,   8.]],\n",
       "\n",
       "       [[ 40.,  80., 120., 160.],\n",
       "        [ 36.,  32.,  20.,  12.],\n",
       "        [  4.,   8.,  12.,  16.]]])"
      ]
     },
     "execution_count": 24,
     "metadata": {},
     "output_type": "execute_result"
    }
   ],
   "source": [
    "a3d = np.array([a2d,a2d*2,a2d*4])\n",
    "a3d"
   ]
  },
  {
   "cell_type": "markdown",
   "metadata": {},
   "source": [
    "**How would you access the entire last layer:**\n",
    "\n",
    "|||||\n",
    "|-|-|-|-|\n",
    "|`40`|`80`|`120`|`160`|\n",
    "|`36`|`32`|`20`|`12`|\n",
    "|`4`|`8`|`12`|`16`|\n"
   ]
  },
  {
   "cell_type": "code",
   "execution_count": null,
   "metadata": {},
   "outputs": [],
   "source": [
    "#### YOUR CODE HERE ####\n"
   ]
  },
  {
   "cell_type": "markdown",
   "metadata": {},
   "source": [
    "### Changing Values in Arrays"
   ]
  },
  {
   "cell_type": "markdown",
   "metadata": {},
   "source": [
    "To replace a value in an array, simply **index the value or values** you wish to replace and **set it equal to the value or values to replace it with**.\n",
    "\n",
    "For example, consider the array `b2d`:"
   ]
  },
  {
   "cell_type": "code",
   "execution_count": 27,
   "metadata": {},
   "outputs": [
    {
     "data": {
      "text/plain": [
       "array([[20., 40., 60., 80.],\n",
       "       [18., 16., 10.,  6.],\n",
       "       [ 2.,  4.,  6.,  8.]])"
      ]
     },
     "execution_count": 27,
     "metadata": {},
     "output_type": "execute_result"
    }
   ],
   "source": [
    "b2d = a2d*2\n",
    "b2d"
   ]
  },
  {
   "cell_type": "markdown",
   "metadata": {},
   "source": [
    "If you wanted to replace the number `4` with, say, `0`, we could write:"
   ]
  },
  {
   "cell_type": "code",
   "execution_count": 31,
   "metadata": {},
   "outputs": [
    {
     "data": {
      "text/plain": [
       "array([[20.,  4.,  6.,  8.],\n",
       "       [18., 16., 10.,  6.],\n",
       "       [ 2.,  0.,  6.,  8.]])"
      ]
     },
     "execution_count": 31,
     "metadata": {},
     "output_type": "execute_result"
    }
   ],
   "source": [
    "b2d[2,1] = 0\n",
    "b2d"
   ]
  },
  {
   "cell_type": "markdown",
   "metadata": {},
   "source": [
    "Say you wish to replace the slice `[40, 60, 80]` with `[4, 6, 8]`. The code to do this would be:"
   ]
  },
  {
   "cell_type": "code",
   "execution_count": 30,
   "metadata": {},
   "outputs": [
    {
     "data": {
      "text/plain": [
       "array([[20.,  4.,  6.,  8.],\n",
       "       [18., 16., 10.,  6.],\n",
       "       [ 2.,  4.,  6.,  8.]])"
      ]
     },
     "execution_count": 30,
     "metadata": {},
     "output_type": "execute_result"
    }
   ],
   "source": [
    "b2d[0,1:] = [4,6,8]\n",
    "b2d"
   ]
  },
  {
   "cell_type": "markdown",
   "metadata": {},
   "source": [
    "You can also replace multiple values with the same number:"
   ]
  },
  {
   "cell_type": "code",
   "execution_count": 33,
   "metadata": {},
   "outputs": [
    {
     "data": {
      "text/plain": [
       "array([[20.,  0.,  0.,  0.],\n",
       "       [18., 16., 10.,  6.],\n",
       "       [ 2.,  0.,  6.,  8.]])"
      ]
     },
     "execution_count": 33,
     "metadata": {},
     "output_type": "execute_result"
    }
   ],
   "source": [
    "b2d[0,1:] = 0\n",
    "b2d"
   ]
  },
  {
   "cell_type": "markdown",
   "metadata": {},
   "source": [
    "However, note that this line of code will give an error...why?"
   ]
  },
  {
   "cell_type": "code",
   "execution_count": 35,
   "metadata": {},
   "outputs": [],
   "source": [
    "b2d[0,1:] = [1,2]"
   ]
  },
  {
   "cell_type": "markdown",
   "metadata": {},
   "source": [
    "### <span style=\"color:blue\"><u>**Exercise 1**</u></span>:\n",
    "Consider a 3x7 array containing temperature readings for 3 different times across the 7 days of the week.\n",
    "\n",
    "||**S**|**M**|**T**|**W**|**Th**|**F**|**S**|\n",
    "|-|-|-|-|-|-|-|-|\n",
    "|**9:00**|31|37|35|34|31|29|32|\n",
    "|**12:00**|43|46|47|45|39|39|42|\n",
    "|**15:00**|40|42|31|44|33|38|37|"
   ]
  },
  {
   "cell_type": "code",
   "execution_count": 20,
   "metadata": {},
   "outputs": [],
   "source": [
    "T = np.array([[31, 37, 35, 34, 31, 29, 32],\n",
    "              [44, 46, 47, 45, 39, 39, 42],\n",
    "              [40, 42, 31, 44, 33, 38, 37]])"
   ]
  },
  {
   "cell_type": "markdown",
   "metadata": {},
   "source": [
    "Data was incorrectly recorded for **Tuesday at 15:00**. How would you **change this entry from 31 to 41**?"
   ]
  },
  {
   "cell_type": "code",
   "execution_count": null,
   "metadata": {},
   "outputs": [],
   "source": [
    "#### YOUR CODE HERE ####\n"
   ]
  },
  {
   "cell_type": "markdown",
   "metadata": {},
   "source": [
    "You would like to **extract all the values from Monday to Friday**. What code would you write to do this?"
   ]
  },
  {
   "cell_type": "code",
   "execution_count": null,
   "metadata": {},
   "outputs": [],
   "source": [
    "#### YOUR CODE HERE ####\n"
   ]
  },
  {
   "cell_type": "markdown",
   "metadata": {},
   "source": [
    "**All the data taken at 9:00 needs to be corrected** for a calibration error that made the reading **20% lower than the actual temperature**. How would you **replace the old data with the corrected data**?"
   ]
  },
  {
   "cell_type": "code",
   "execution_count": null,
   "metadata": {},
   "outputs": [],
   "source": [
    "#### YOUR CODE HERE ####\n"
   ]
  },
  {
   "cell_type": "markdown",
   "metadata": {},
   "source": [
    "You want to **extract all the data above 40 degrees**. What code would you write to do that?"
   ]
  },
  {
   "cell_type": "code",
   "execution_count": null,
   "metadata": {},
   "outputs": [],
   "source": [
    "#### YOUR CODE HERE ####\n"
   ]
  },
  {
   "cell_type": "markdown",
   "metadata": {},
   "source": [
    "## Methods and Properties of NumPy Arrays"
   ]
  },
  {
   "cell_type": "markdown",
   "metadata": {},
   "source": [
    "NumPy arrays have a range of useful properties and methods that make basic analysis very easy.  The syntax for using a method or property is your variable + a period + the method or property, with any relevant inputs to the method in parentheses. Note that properties do not have any inputs, so you don’t need the parentheses to call them. In the table below, the following methods are being performed on an array called `my_array`.\n",
    "\n",
    "|Method/Property|Description|\n",
    "|--|:--|\n",
    "|`my_array.shape`|Get the shape (i.e., the dimensions; # of rows, columns, layers, etc.) of the array|\n",
    "|`my_array.min()`, `my_array.max()`|Find the minimum or maximum value in the array. You can specify the axis you want to take the minimum or maximum across. For example, my_array.min(axis=0) will find the minimum or maximum value across all the rows (i.e., one for each column).|\n",
    "|`my_array.argmin()`, `my_array.argmax()`|Find the index of the minimum or maximum value in the array. You can specify the axis for which you want to find the minimum or maximum’s index. For example, `my_array.argmin(axis=0)` will find the index of the minimum value across all the rows in your array (i.e., one for each column).|\n",
    "|`my_array.sum()`|Calculate the sum of all the values in your array. You can specify the axis for which you want to compute the sum. For example, `my_array.sum(axis=0)` will sum up the values across all the rows in your array (i.e., one for each column).|\n",
    "|`my_array.mean()`, `my_array.std()`|Calculate the mean or standard deviation of all the values in your array. You can specify the axis for which you want to compute the mean or standard deviation. For example, `my_array.mean(axis=0)` will compute the mean of all the values across all the rows in your array (i.e., one for each column).|"
   ]
  },
  {
   "cell_type": "markdown",
   "metadata": {},
   "source": [
    "### Methods and Properties Examples\n",
    "\n",
    "For the examples below, recall the array we made above, `a2d`:"
   ]
  },
  {
   "cell_type": "code",
   "execution_count": 29,
   "metadata": {},
   "outputs": [
    {
     "data": {
      "text/plain": [
       "array([[10., 20., 30., 40.],\n",
       "       [ 9.,  8.,  5.,  3.],\n",
       "       [ 1.,  2.,  3.,  4.]])"
      ]
     },
     "execution_count": 29,
     "metadata": {},
     "output_type": "execute_result"
    }
   ],
   "source": [
    "a2d"
   ]
  },
  {
   "cell_type": "markdown",
   "metadata": {},
   "source": [
    "Before you run the cells below, see if you can predict the output based on the method description in the table above."
   ]
  },
  {
   "cell_type": "code",
   "execution_count": 39,
   "metadata": {},
   "outputs": [],
   "source": [
    "a2d.shape"
   ]
  },
  {
   "cell_type": "code",
   "execution_count": 30,
   "metadata": {},
   "outputs": [],
   "source": [
    "a2d.max()"
   ]
  },
  {
   "cell_type": "code",
   "execution_count": null,
   "metadata": {},
   "outputs": [],
   "source": [
    "a2d.argmax()"
   ]
  },
  {
   "cell_type": "code",
   "execution_count": null,
   "metadata": {},
   "outputs": [],
   "source": [
    "a2d.sum()"
   ]
  },
  {
   "cell_type": "code",
   "execution_count": null,
   "metadata": {},
   "outputs": [],
   "source": [
    "a2d.mean()"
   ]
  },
  {
   "cell_type": "markdown",
   "metadata": {},
   "source": [
    "Note that for all of the above methods, you can **specify which `axis` you want to perform the operation on**.\n",
    "\n",
    "For example, let's look at the `mean()` method.\n",
    "\n",
    "If you do not specify an axis, it will automatically calculate the mean of all the values in the array: "
   ]
  },
  {
   "cell_type": "code",
   "execution_count": 28,
   "metadata": {},
   "outputs": [],
   "source": [
    "a2d.mean()"
   ]
  },
  {
   "cell_type": "markdown",
   "metadata": {},
   "source": [
    "However, if you specify **`axis=0`**, then it will calculate the **mean across all the rows**."
   ]
  },
  {
   "cell_type": "code",
   "execution_count": null,
   "metadata": {},
   "outputs": [],
   "source": [
    "a2d.mean(axis=0)"
   ]
  },
  {
   "cell_type": "markdown",
   "metadata": {},
   "source": [
    "If you specify **`axis=1`**, then it will calculate the **mean across all the columns**."
   ]
  },
  {
   "cell_type": "code",
   "execution_count": null,
   "metadata": {},
   "outputs": [],
   "source": [
    "a2d.mean(axis=1)"
   ]
  },
  {
   "cell_type": "markdown",
   "metadata": {},
   "source": [
    "### <span style=\"color:blue\">Exercise 2</span>:\n",
    "\n",
    "Consider the same 3x7 array containing temperature readings for 3 different times across the 7 days of the week.\n",
    "\n",
    "||**S**|**M**|**T**|**W**|**Th**|**F**|**S**|\n",
    "|-|-|-|-|-|-|-|-|\n",
    "|**9:00**|31|37|35|34|31|29|32|\n",
    "|**12:00**|43|46|47|45|39|39|42|\n",
    "|**15:00**|40|42|31|44|33|38|37|"
   ]
  },
  {
   "cell_type": "markdown",
   "metadata": {},
   "source": [
    "What code would you write to calculate the **daily mean temperature** for **every day of the week?**"
   ]
  },
  {
   "cell_type": "code",
   "execution_count": null,
   "metadata": {},
   "outputs": [],
   "source": [
    "#### YOUR CODE HERE ####\n"
   ]
  },
  {
   "cell_type": "markdown",
   "metadata": {},
   "source": [
    "What code would you write to calculate the **mean temperature** for **every hour of the day across the whole week?**"
   ]
  },
  {
   "cell_type": "code",
   "execution_count": null,
   "metadata": {},
   "outputs": [],
   "source": []
  },
  {
   "cell_type": "markdown",
   "metadata": {},
   "source": [
    "Suppose you want to know the **time of day** that the **minimum temperature occurred** for **every day of the week**. What code would you write to get this information?"
   ]
  },
  {
   "cell_type": "code",
   "execution_count": 44,
   "metadata": {},
   "outputs": [],
   "source": [
    "#### YOUR CODE HERE ####\n"
   ]
  },
  {
   "cell_type": "markdown",
   "metadata": {},
   "source": [
    "### Other Useful NumPy Fuctions\n",
    "There are hundreds of NumPy functions you can use to create or modify arrays, or analyze the data contained within them. You can find them as you need them in the official NumPy documentation. Here are a few commonly used ones to get you started:\n",
    "\n",
    "<center><b><u>Functions for Creating Arrays</center></u></b>\n",
    "    \n",
    "|Method/Property|Parameters|Description|\n",
    "|--|:--|:-|\n",
    "|`np.linspace(x1,x2,N)`|**x1, x2**: start and end points<br>**n**: number of points you want between your start and end points; if you don’t specify N, it defaults to 50.|Get the shape (i.e., the dimensions; # of rows, columns, layers, etc.) of the array|Creates a 1D array containing N evenly spaced numbers between x1 and x2. When you want to specify the number of points between your domain limits.|\n",
    "|`np.arange(x1,x2,dx)`|**x1, x2**: start and end points<br>**dx**: the spacing you want between the start and end points; if you don’t specify dx, it defaults to 1.|Find the minimum or maximum value in the array. You can specify the axis you want to take the minimum or maximum across. For example, my_array.min(axis=0) will find the minimum or maximum value across all the rows (i.e., one for each column).|Creates a 1D array containing numbers between x1 and x2 in intervals of dx. When you want to specify the size of the interval between your domain limits.|\n",
    "|`np.zeros(n,m)`<br>`np.ones(n,m)`<br>`np.full((n,m),fill_val)`|**n**: number of rows<br>**m**: number of columns <br>**fill_val**: what to fill your array with|Find the index of the minimum or maximum value in the array. You can specify the axis for which you want to find the minimum or maximum’s index. For example, `my_array.argmin(axis=0)` will find the index of the minimum value across all the rows in your array (i.e., one for each column).|Creates an array with the dimensions n x m filled with zeros, ones, or a chosen fill value.|\n",
    "|`np.random.randint(x1,x2,N)`|**x1, x2**: start and end points<br>**N**: number of points you want between your start and end points; if you don’t specify N, it defaults to 1.|Creates an array of N random integers between x1 and x2. You alternatively also create 2D or higher arrays by specifying a size using the size keyword argument.|"
   ]
  },
  {
   "cell_type": "markdown",
   "metadata": {},
   "source": [
    "<center><b><u>Functions for Modifying the Shape of your Array</center></u></b>\n",
    "\n",
    "|Method/Property|Description|\n",
    "|--|:--|\n",
    "`my_array.ravel()`|Flattens array - i.e., turns the array into a 1D array. For example, a 2x3 array would become a 1x6.\n",
    "`my_array.reshape(n,m)`|Changes the shape of array into n x m, assuming that the number of data points within array is compatible with (“broadcastable to”) the new shape. The number of datapoints must be divisible by both n and m. For example, a 1D array with 20 values can be reshaped into a 4x5, a 5x4, a 2x10, a 10x2, but not a 3x7."
   ]
  },
  {
   "cell_type": "markdown",
   "metadata": {},
   "source": [
    "### Creating and Reshaping Arrays Examples\n",
    "\n",
    "**Run the following cells** and see what outputs they produce. You can use the `.shape` property to check the shape of the outputs."
   ]
  },
  {
   "cell_type": "code",
   "execution_count": null,
   "metadata": {},
   "outputs": [],
   "source": [
    "np.linspace(1,100,51)"
   ]
  },
  {
   "cell_type": "code",
   "execution_count": null,
   "metadata": {},
   "outputs": [],
   "source": [
    "np.arange(1,100,5)"
   ]
  },
  {
   "cell_type": "code",
   "execution_count": 47,
   "metadata": {},
   "outputs": [],
   "source": [
    "np.zeros((9,11))"
   ]
  },
  {
   "cell_type": "code",
   "execution_count": null,
   "metadata": {},
   "outputs": [],
   "source": [
    "np.full((3,4),99)"
   ]
  },
  {
   "cell_type": "markdown",
   "metadata": {},
   "source": [
    "### <span style=\"color:blue\">Exercise 3</span>\n",
    "\n",
    "\n",
    "Create a NumPy array called `t` representing a time domain from t = 0 to t = 30 days, with 2 day intervals."
   ]
  },
  {
   "cell_type": "code",
   "execution_count": null,
   "metadata": {},
   "outputs": [],
   "source": [
    "#### YOUR CODE HERE ####\n",
    "t = "
   ]
  },
  {
   "cell_type": "markdown",
   "metadata": {},
   "source": [
    "You have a dataset stored in a NumPy array called `temp123` containing 210 temperature measurements taken across 210 days. You want to **compute the weekly mean** of these temperature measurements - i.e., the **mean temperature for every 7 days of data**. What code could you write to do this?\n",
    "\n",
    "_Hint: you can use the .reshape() and .mean() methods._\n",
    "\n",
    "`temp123` is provided below. "
   ]
  },
  {
   "cell_type": "code",
   "execution_count": 21,
   "metadata": {},
   "outputs": [
    {
     "data": {
      "text/plain": [
       "array([38, 28, 24, 37, 20, 36, 20, 24, 32, 34, 33, 22, 30, 34, 23, 23, 33,\n",
       "       20, 25, 38, 26, 36, 36, 32, 35, 32, 25, 26, 35, 30, 20, 34, 24, 28,\n",
       "       39, 34, 21, 21, 32, 38, 35, 28, 35, 24, 39, 36, 31, 26, 38, 38, 26,\n",
       "       22, 20, 39, 32, 34, 22, 33, 25, 34, 37, 21, 28, 38, 26, 35, 26, 25,\n",
       "       31, 20, 34, 26, 24, 38, 21, 31, 22, 24, 39, 35, 33, 32, 20, 21, 32,\n",
       "       28, 36, 34, 23, 39, 30, 31, 22, 27, 36, 33, 29, 39, 35, 25, 39, 26,\n",
       "       29, 26, 26, 20, 38, 37, 23, 22, 20, 22, 23, 32, 23, 33, 32, 36, 33,\n",
       "       31, 33, 33, 26, 27, 22, 34, 35, 36, 26, 34, 24, 33, 25, 25, 27, 23,\n",
       "       33, 29, 37, 26, 34, 31, 38, 39, 22, 36, 31, 29, 22, 37, 33, 29, 37,\n",
       "       23, 34, 32, 21, 23, 33, 38, 22, 32, 27, 34, 21, 24, 39, 20, 23, 23,\n",
       "       35, 21, 37, 26, 21, 22, 25, 21, 24, 24, 23, 24, 30, 34, 25, 27, 20,\n",
       "       36, 37, 21, 24, 26, 34, 33, 23, 26, 23, 24, 22, 29, 34, 37, 20, 34,\n",
       "       33, 36, 32, 24, 37, 36])"
      ]
     },
     "execution_count": 21,
     "metadata": {},
     "output_type": "execute_result"
    }
   ],
   "source": [
    "temp123 = np.random.randint(20,40,210)\n",
    "temp123"
   ]
  },
  {
   "cell_type": "code",
   "execution_count": null,
   "metadata": {},
   "outputs": [],
   "source": [
    "### YOUR CODE HERE ####\n",
    "temp123.reshape()"
   ]
  },
  {
   "cell_type": "markdown",
   "metadata": {},
   "source": [
    "# Practical: Pollutant Concentrations in a Lake\n",
    "\n",
    "Consider a 3x8 array `C0` containing surface measurements of an initial pollutant concentration data (in μM) for a lake at t = 0, and `x` and `y` are point along the lake where measurements were taken.\n",
    "\n",
    "||1km|2km|3km|4km|5km|6km|7km|\n",
    "|-|-|-|-|-|-|-|-|\n",
    "|**2km**|7|7|6|5.5|4|3|\n",
    "|**4km**|9|8.5|8|8|7.5|6|5|\n",
    "|**6km**|6|6|5.5|5|5|4|2|\n"
   ]
  },
  {
   "cell_type": "code",
   "execution_count": 48,
   "metadata": {},
   "outputs": [],
   "source": [
    "C0 = np.array([[7,7,6,5.5,5,4,3],\n",
    "                [9,8.5,8,8,7.5,6,5],\n",
    "                [6,6,5.5,5,5,4,2]])\n",
    "\n",
    "x = np.arange(1,8)\n",
    "y = np.array([2,4,6])"
   ]
  },
  {
   "cell_type": "markdown",
   "metadata": {},
   "source": [
    "Suppose the contaminant decays according to a first order reaction such that the concentration at a given time is given by the equation:\n",
    "\n",
    "<center>$C(t) = C_0*e^{-k*t}$</center>\n",
    "\n",
    "where _k_ is a rate constant equal to 0.01 $day^{-1}$, $C_0$ is the initial concentration such that $C(0) = $`C0`, represented at each point in the lake by the array C0 above, and t is the time that has passed, in days."
   ]
  },
  {
   "cell_type": "markdown",
   "metadata": {},
   "source": [
    "**1. Calculate the following arrays:**\n",
    "* `C7`, a 3x8 array representing the contaminant concentration when t = 7 days\n",
    "* `C14`, a 3x8 array representing the contaminant concentration when t = 14 days\n",
    "* `C21`, a 3x8 array representing the contaminant concentration when t = 21 days\n",
    "* `C28`, a 3x8 array representing the contaminant concentration when t = 28 days"
   ]
  },
  {
   "cell_type": "code",
   "execution_count": null,
   "metadata": {
    "scrolled": true
   },
   "outputs": [],
   "source": [
    "#### YOUR CODE HERE ####\n",
    "C7 =\n",
    "C14 = \n",
    "C21 = \n",
    "C28 = "
   ]
  },
  {
   "cell_type": "markdown",
   "metadata": {},
   "source": [
    "**2. Create a 3D NumPy array called Ct containing `C0`, `C7`, `C14`, `C21`, and `C28`, in that order.**\n",
    "* Place the above variables into a list and then convert the list into a NumPy array.\n",
    "* What is the shape of Ct? What do each of its dimensions represent?\n",
    "\n",
    "You can **plot `Ct` below** to see if it is behaving as you would expect - **the concentration should decrease with time**."
   ]
  },
  {
   "cell_type": "code",
   "execution_count": 81,
   "metadata": {},
   "outputs": [],
   "source": [
    "#### YOUR CODE HERE ####\n"
   ]
  },
  {
   "cell_type": "markdown",
   "metadata": {},
   "source": [
    "Check the shape of `Ct` here:"
   ]
  },
  {
   "cell_type": "code",
   "execution_count": null,
   "metadata": {},
   "outputs": [],
   "source": [
    "#### YOUR CODE HERE ####\n"
   ]
  },
  {
   "cell_type": "markdown",
   "metadata": {},
   "source": [
    "**3. You want to know what the <u>average pollutant concentration of the lake over the whole time period</u>, from 0 to 28 days.**\n",
    "\n",
    "Calculate this using `Ct` and the `np.mean()` function and save this to a variable called `C_avg`.\n",
    "\n",
    "_Hint: Think about what shape `C_avg` should have if it must represent the concentration over the entire lake._"
   ]
  },
  {
   "cell_type": "code",
   "execution_count": 91,
   "metadata": {},
   "outputs": [],
   "source": [
    "#### YOUR CODE HERE ####\n",
    "C_avg = "
   ]
  },
  {
   "cell_type": "markdown",
   "metadata": {},
   "source": [
    "**4.** Suppose you want to know the **average pollutant concentrations at x = 3 km**, even though we don't have a data point for this stretch of the lake.\n",
    "\n",
    "However, we can interpolate these concentrations by averaging the concentrations at x = 2 km and x = 4 km. This is the equivalent of taking the concentrations $c_{2,1-7}$ and $c_{4,1-7}$ and averaging them.\n",
    "\n",
    "||1km|2km|3km|4km|5km|6km|7km|\n",
    "|-|-|-|-|-|-|-|-|\n",
    "|**2km**|$c_{2,1}$|$c_{2,2}$|$c_{2,3}$|$c_{2,4}$|$c_{2,5}$|$c_{2,6}$|$c_{2,7}$|\n",
    "|**4km**|$c_{4,1}$|$c_{4,2}$|$c_{4,3}$|$c_{4,4}$|$c_{4,5}$|$c_{4,6}$|$c_{4,7}$|\n",
    "|**6km**|$c_{6,1}$|$c_{6,2}$|$c_{6,3}$|$c_{6,4}$|$c_{6,5}$|$c_{6,6}$|$c_{6,7}$|\n",
    "\n",
    "Using `C_avg`, write some code that returns the pollutant concentrations at x = 3 km. The steps should help break it down for you:\n",
    "1. From `C_avg`, extract the row of data at 2 km.\n",
    "    1. Think about the **index** that corresponds to the data at x = 2 km.\n",
    "2. From `C_avg`, extract the row of data at 4 km.\n",
    "    1. Think about the **index** that corresponds to the data at x = 4 km. \n",
    "3. Average the two rows of data."
   ]
  },
  {
   "cell_type": "code",
   "execution_count": null,
   "metadata": {},
   "outputs": [],
   "source": [
    "C_avg[]"
   ]
  },
  {
   "cell_type": "markdown",
   "metadata": {},
   "source": [
    "**4.** You want to know **which points** in the lake have a **concentration above 4 μM at each time step in `Ct`**.\n",
    "* Your result should have 5 3x8 arrays that are `True` where the concentration is >4 μM and `False` otherwise."
   ]
  },
  {
   "cell_type": "code",
   "execution_count": 1,
   "metadata": {},
   "outputs": [],
   "source": [
    "#### YOUR CODE HERE ####\n"
   ]
  },
  {
   "cell_type": "markdown",
   "metadata": {},
   "source": [
    "You can plot your different concentration arrays here (`C0`, `C7`, `C21`, etc) to check if they are behaving as expected."
   ]
  },
  {
   "cell_type": "code",
   "execution_count": 145,
   "metadata": {
    "scrolled": true
   },
   "outputs": [
    {
     "data": {
      "image/png": "[encoded data removed]",
      "text/plain": [
       "<Figure size 432x288 with 2 Axes>"
      ]
     },
     "metadata": {
      "needs_background": "light"
     },
     "output_type": "display_data"
    }
   ],
   "source": [
    "def plot_C(C):\n",
    "    if C.ndim < 3:\n",
    "        C = [C]\n",
    "    for c in C:\n",
    "        meshx,meshy = np.meshgrid(x,y)\n",
    "        fig,ax = plt.subplots()\n",
    "        ax.set_yticks([2,4,6])\n",
    "        a = ax.contourf(meshx,meshy,c,levels=np.linspace(0,9,19))\n",
    "        fig.colorbar(a)\n",
    "\n",
    "plot_C(C0)"
   ]
  },
  {
   "cell_type": "code",
   "execution_count": null,
   "metadata": {},
   "outputs": [],
   "source": []
  }
 ],
 "metadata": {
  "kernelspec": {
   "display_name": "Python 3 (ipykernel)",
   "language": "python",
   "name": "python3"
  },
  "language_info": {
   "codemirror_mode": {
    "name": "ipython",
    "version": 3
   },
   "file_extension": ".py",
   "mimetype": "text/x-python",
   "name": "python",
   "nbconvert_exporter": "python",
   "pygments_lexer": "ipython3",
   "version": "3.9.12"
  },
  "vscode": {
   "interpreter": {
    "hash": "31f2aee4e71d21fbe5cf8b01ff0e069b9275f58929596ceb00d14d90e3e16cd6"
   }
  }
 },
 "nbformat": 4,
 "nbformat_minor": 4
}
