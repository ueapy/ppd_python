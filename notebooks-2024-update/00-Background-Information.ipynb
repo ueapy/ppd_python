{
 "cells": [
  {
   "cell_type": "markdown",
   "metadata": {},
   "source": [
    "# Introduction to Python"
   ]
  },
  {
   "cell_type": "markdown",
   "metadata": {},
   "source": [
    "##  Brief history and some facts"
   ]
  },
  {
   "cell_type": "markdown",
   "metadata": {},
   "source": [
    "* Created by Guido Van Rossum\n",
    "* Implementation started in December 1989, first published in February 1991"
   ]
  },
  {
   "cell_type": "markdown",
   "metadata": {},
   "source": [
    "* Python 2.0 was released in 2000 to move towards transparency and community-driven development\n",
    "* Python 2 support ended in 2020\n"
   ]
  },
  {
   "cell_type": "markdown",
   "metadata": {},
   "source": [
    "* Python 3.0 was released in 2008\n",
    "* Update to the 'modern way' of doing things\n",
    "* By fixing major flaws, it became backward-incompatible (most Python 2 code doesn't run under Python 3)\n",
    "* All essential scientific packages are ported to Python 3"
   ]
  },
  {
   "cell_type": "markdown",
   "metadata": {},
   "source": [
    "## Reasons to use Python"
   ]
  },
  {
   "cell_type": "markdown",
   "metadata": {},
   "source": [
    "* Free, open source software promotes open science!\n",
    "* Very versatile \"glue\" language: interoperability with other languages and extensibility.\n",
    "* Originally developed as a teaching language, highly readable and easy to learn\n",
    "* 1000s of specialist libraries for all purposes"
   ]
  },
  {
   "cell_type": "markdown",
   "metadata": {},
   "source": [
    "<img src=\"scipy-ecosystem.jpeg\" style=\"height:60%; width:60%;\">"
   ]
  },
  {
   "cell_type": "markdown",
   "metadata": {},
   "source": [
    "Strong institutional suport from\n",
    "* UK Met Office\n",
    "* British Atmospheric Data Centre (BADC)\n",
    "* Cefas\n",
    "* National Centre for Atmospheric Science (NCAS)\n",
    "* European Centre for Medium-Range Weather Forecasts (ECMRWF)\n",
    "* EUMETSAT\n",
    "* US National Center for Atmospheric Research (NCAR)\n",
    "* many-many more"
   ]
  },
  {
   "cell_type": "markdown",
   "metadata": {},
   "source": [
    "Popularity not limited to scientific computing. **No.1 on Stack Overflow as of 2024!** and shows no signs of slowing"
   ]
  },
  {
   "cell_type": "markdown",
   "metadata": {},
   "source": [
    "https://insights.stackoverflow.com/trends?tags=java%2Cc%2B%2B%2Cpython%2Cc%23%2Cjavascript%2Cphp%2Cr%2Cmatlab"
   ]
  },
  {
   "cell_type": "markdown",
   "metadata": {},
   "source": [
    "Usage is not limited to the scientific community. Amongst other things Python powers:\n",
    "* Deep learning (AI) tools [TensorFlow](https://www.tensorflow.org/), [Keras](https://keras.io/) and [Pytorch](https://pytorch.org/)\n",
    "* [Reddit](https://www.reddit.com/)\n",
    "* [The 2018 Nobel Prize for Economics](https://paulromer.net/jupyter-mathematica-and-the-future-of-the-research-paper/)"
   ]
  },
  {
   "cell_type": "markdown",
   "metadata": {},
   "source": [
    "## Python, Anaconda, and Jupyter...what did I just install?"
   ]
  },
  {
   "cell_type": "markdown",
   "metadata": {},
   "source": [
    "**Python** is the programming language we will use today. Since we installed Anaconda, we don't need to separate \"install Python\"."
   ]
  },
  {
   "cell_type": "markdown",
   "metadata": {},
   "source": [
    "**Anaconda** is a data **science package manager** that greatly simplifies downloading and managing **software packages**. Different Python packages contain different functions, data types, and tools for different kind of analyses and purposes. Anaconda is also useful because you can run multiple different programming languages on it.\n",
    "\n",
    "The base installation of Anaconda includes several useful Python packages for importing, manipulating, and plotting data which we will use throughout this course."
   ]
  },
  {
   "cell_type": "markdown",
   "metadata": {},
   "source": [
    "**Jupyter** is a package included in Anaconda. It is an integrated development environment (IDE) for writing, running, and sharing code. We are in a **Jupyter notebook** right now! Python Jupyter notebooks have an .ipynb extension. All the teaching materials and excercises for this course are organised in Jupyter Notebooks. "
   ]
  },
  {
   "cell_type": "markdown",
   "metadata": {},
   "source": [
    "## Jupyter Notebooks\n",
    "\n",
    "- A notebook is a series of **cells**.\n",
    "- The active cell (the one you are currently using) has an outline around it.\n",
    "- You can navigate to different cells with the arrow keys.\n",
    "- A cell can be either be code, markdown, or \"raw\":\n",
    "\n",
    "    - Code\n",
    "        - Python\n",
    "        - R\n",
    "        - Julia\n",
    "        - [Many Others](https://github.com/ipython/ipython/wiki/IPython-kernels-for-other-languages)\n",
    "        \n",
    "    - Markdown cells contain plain text\n",
    "        - to add a heading to a markdown cell, use #\n",
    "        \n",
    "    - Raw cells are for converting to different formats\n",
    "        - we wont be using these here. [more info](https://nbsphinx.readthedocs.io/en/0.3.1/raw-cells.html)\n",
    "        \n",
    "- Create cells from the Notebook menu or using keyboard shortcuts.\n",
    "    - `h`: Bring up keyboard shortcuts screen.\n",
    "    - `b` Make a new cell below the current cell\n",
    "    - `dd` delete current cell\n",
    "    - `Enter` To enter edit mode for the current cell (or double click it)\n",
    "    - `Ctrl`-`Enter` Run the current cell\n",
    "    - `Esc` Exit edit mode\n",
    "    - `Ctrl`-`s`: Save Notebook"
   ]
  },
  {
   "cell_type": "markdown",
   "metadata": {},
   "source": [
    "#### Other features\n",
    "- tab autocompletion, start typing something and hit tab for suggestions\n",
    "- inline documentation, type a command name followed by a question mark `open?`\n",
    "- run shell commands e.g., `ls`\n",
    "- embed images and videos, load remote code and more. [More on jupyter notebooks](https://nbviewer.jupyter.org/github/ueapy/pythoncourse2019-materials/blob/master/notebooks/02-Jupyter-Notebook.ipynb)\n",
    "- Share python code with NBviewer or Binder"
   ]
  },
  {
   "cell_type": "code",
   "execution_count": 4,
   "metadata": {},
   "outputs": [],
   "source": [
    "ls"
   ]
  },
  {
   "cell_type": "markdown",
   "metadata": {},
   "source": [
    "[Spyder](https://www.spyder-ide.org/) is an Integrated Development Environment (IDE) similar to R studio or MATLAB for writing Python code. It is included with Anaconda\n",
    "\n",
    "[Pycharm](https://www.jetbrains.com/pycharm/) is a free, open source and feature rich IDE that can do just about anything. It's a little more complicated to set up but boasts autocompletion, error detection, code profiling and plugins for vim keybindings, a markdown editor and more"
   ]
  },
  {
   "cell_type": "markdown",
   "metadata": {},
   "source": [
    "Once you have **Python** installed on your computer through **anaconda** you can run python code in **Jupyter Notebooks**, **spyder, Pycharm** or straight from the command line as you prefer. Experiment with different code editors and find a setup that works for you :)"
   ]
  },
  {
   "cell_type": "markdown",
   "metadata": {},
   "source": [
    "### Running Jupyter and anaconda through ADA\n",
    "\n",
    "ADA, UEA's high-performance computing (HPC) system, comes preinstalled with conda (based on anaconda) and the Jupyter notebook package. To create and run notebooks on ADA, you can follow these instructions on the ADA software webpage on MyUEA. It is linked [here](https://my.uea.ac.uk/divisions/it-and-computing-services/service-catalogue/research-it-services/hpc/ada-cluster/ada-software). Note that you need to log into your UEA account to access this page."
   ]
  },
  {
   "cell_type": "code",
   "execution_count": null,
   "metadata": {},
   "outputs": [],
   "source": []
  }
 ],
 "metadata": {
  "kernelspec": {
   "display_name": "Python 3 (ipykernel)",
   "language": "python",
   "name": "python3"
  },
  "language_info": {
   "codemirror_mode": {
    "name": "ipython",
    "version": 3
   },
   "file_extension": ".py",
   "mimetype": "text/x-python",
   "name": "python",
   "nbconvert_exporter": "python",
   "pygments_lexer": "ipython3",
   "version": "3.9.12"
  }
 },
 "nbformat": 4,
 "nbformat_minor": 2
}
